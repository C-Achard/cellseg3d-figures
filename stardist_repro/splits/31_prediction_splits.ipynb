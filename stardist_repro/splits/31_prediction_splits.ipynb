{
 "cells": [
  {
   "cell_type": "markdown",
   "metadata": {},
   "source": [
    "**In case of problems or questions, please first check the list of [Frequently Asked Questions (FAQ)](https://stardist.net/docs/faq.html).**\n",
    "\n",
    "Please shutdown all other training/prediction notebooks before running this notebook (as those might occupy the GPU memory otherwise)."
   ]
  },
  {
   "cell_type": "code",
   "execution_count": 6,
   "metadata": {},
   "outputs": [],
   "source": [
    "from __future__ import print_function, unicode_literals, absolute_import, division\n",
    "import sys\n",
    "import numpy as np\n",
    "import matplotlib\n",
    "# matplotlib.rcParams[\"image.interpolation\"] = None\n",
    "import matplotlib.pyplot as plt\n",
    "%matplotlib inline\n",
    "%config InlineBackend.figure_format = 'retina'\n",
    "\n",
    "from glob import glob\n",
    "from tifffile import imread, imwrite\n",
    "from csbdeep.utils import Path, normalize\n",
    "from csbdeep.io import save_tiff_imagej_compatible\n",
    "\n",
    "from stardist import random_label_cmap\n",
    "from stardist.models import StarDist3D\n",
    "\n",
    "np.random.seed(6)\n",
    "lbl_cmap = random_label_cmap()"
   ]
  },
  {
   "cell_type": "markdown",
   "metadata": {},
   "source": [
    "# Data\n",
    "\n",
    "We assume that data has already been downloaded in via notebook [1_data.ipynb](1_data.ipynb).  \n",
    "We now load images from the sub-folder `test` that have not been used during training."
   ]
  },
  {
   "cell_type": "code",
   "execution_count": 7,
   "metadata": {},
   "outputs": [],
   "source": [
    "import pathlib as pt\n",
    "path_images = pt.Path().home() / \"Desktop/Code/CELLSEG_BENCHMARK/RESULTS/SPLITS\"\n",
    "path_weights = path_images / \"STARDIST/weights\"\n",
    "seed = [\n",
    "    \"34936339\",\n",
    "    \"34936397\",\n",
    "    \"34936345\"\n",
    "    ]\n",
    "splits = [\n",
    "    \"10\",\n",
    "    \"20\",\n",
    "    \"40\",\n",
    "    \"80\"\n",
    "]\n",
    "    \n",
    "path_images = path_images / \"IMAGES\"\n",
    "image = imread(str(path_images / \"small_isotropic_visual.tif\"))\n"
   ]
  },
  {
   "cell_type": "markdown",
   "metadata": {},
   "source": [
    "# Load trained model\n",
    "\n",
    "If you trained your own StarDist model (and optimized its thresholds) via notebook [2_training.ipynb](2_training.ipynb), then please set `demo_model = False` below."
   ]
  },
  {
   "cell_type": "code",
   "execution_count": 8,
   "metadata": {},
   "outputs": [],
   "source": [
    "weights_folders = [f\"stardist_{s}_{per}\" for per in splits for s in seed]"
   ]
  },
  {
   "cell_type": "code",
   "execution_count": 9,
   "metadata": {},
   "outputs": [],
   "source": [
    "model_parameters = {\n",
    "    \"visual\": {\n",
    "        # \"NMS\": 0.3,\n",
    "        \"NMS\": \"auto\",\n",
    "        # \"prob_thresh\": 0.8\n",
    "        \"prob_thresh\": \"auto\"\n",
    "    },\n",
    "}"
   ]
  },
  {
   "cell_type": "markdown",
   "metadata": {},
   "source": [
    "## Prediction\n",
    "\n",
    "Make sure to normalize the input image beforehand or supply a `normalizer` to the prediction function.\n",
    "\n",
    "Calling `model.predict_instances` will\n",
    "- predict object probabilities and star-convex polygon distances (see `model.predict` if you want those)\n",
    "- perform non-maximum suppression (with overlap threshold `nms_thresh`) for polygons above object probability threshold `prob_thresh`.\n",
    "- render all remaining polygon instances in a label image\n",
    "- return the label instances image and also the details (coordinates, etc.) of all remaining polygons"
   ]
  },
  {
   "cell_type": "code",
   "execution_count": 11,
   "metadata": {},
   "outputs": [
    {
     "name": "stdout",
     "output_type": "stream",
     "text": [
      "Predicting 34936339 - 10\n",
      "Loading network weights from 'weights_best.h5'.\n",
      "Loading thresholds from 'thresholds.json'.\n",
      "Using default values: prob_thresh=0.519435, nms_thresh=0.3.\n"
     ]
    },
    {
     "ename": "AttributeError",
     "evalue": "'tuple' object has no attribute 'astype'",
     "output_type": "error",
     "traceback": [
      "\u001b[1;31m---------------------------------------------------------------------------\u001b[0m",
      "\u001b[1;31mAttributeError\u001b[0m                            Traceback (most recent call last)",
      "Cell \u001b[1;32mIn[11], line 9\u001b[0m\n\u001b[0;32m      7\u001b[0m model \u001b[38;5;241m=\u001b[39m StarDist3D(\u001b[38;5;28;01mNone\u001b[39;00m, name\u001b[38;5;241m=\u001b[39mw, basedir\u001b[38;5;241m=\u001b[39mpath_weights)\n\u001b[0;32m      8\u001b[0m prob_thresh \u001b[38;5;241m=\u001b[39m model_parameters[\u001b[38;5;124m\"\u001b[39m\u001b[38;5;124mvisual\u001b[39m\u001b[38;5;124m\"\u001b[39m][\u001b[38;5;124m\"\u001b[39m\u001b[38;5;124mprob_thresh\u001b[39m\u001b[38;5;124m\"\u001b[39m] \u001b[38;5;28;01mif\u001b[39;00m model_parameters[\u001b[38;5;124m\"\u001b[39m\u001b[38;5;124mvisual\u001b[39m\u001b[38;5;124m\"\u001b[39m][\u001b[38;5;124m\"\u001b[39m\u001b[38;5;124mprob_thresh\u001b[39m\u001b[38;5;124m\"\u001b[39m] \u001b[38;5;241m!=\u001b[39m \u001b[38;5;124m\"\u001b[39m\u001b[38;5;124mauto\u001b[39m\u001b[38;5;124m\"\u001b[39m \u001b[38;5;28;01melse\u001b[39;00m \u001b[38;5;28;01mNone\u001b[39;00m\n\u001b[1;32m----> 9\u001b[0m image \u001b[38;5;241m=\u001b[39m \u001b[43mnormalize\u001b[49m\u001b[43m(\u001b[49m\u001b[43mimage\u001b[49m\u001b[43m,\u001b[49m\u001b[43m \u001b[49m\u001b[38;5;241;43m1\u001b[39;49m\u001b[43m,\u001b[49m\u001b[38;5;241;43m99.8\u001b[39;49m\u001b[43m,\u001b[49m\u001b[43m \u001b[49m\u001b[43maxis\u001b[49m\u001b[38;5;241;43m=\u001b[39;49m\u001b[43maxis_norm\u001b[49m\u001b[43m)\u001b[49m\n\u001b[0;32m     10\u001b[0m labels, details \u001b[38;5;241m=\u001b[39m model\u001b[38;5;241m.\u001b[39mpredict_instances(image, prob_thresh\u001b[38;5;241m=\u001b[39mprob_thresh, nms_thresh\u001b[38;5;241m=\u001b[39mNMS, verbose\u001b[38;5;241m=\u001b[39m\u001b[38;5;28;01mTrue\u001b[39;00m)\n\u001b[0;32m     11\u001b[0m save_path \u001b[38;5;241m=\u001b[39m path_images \u001b[38;5;241m/\u001b[39m \u001b[38;5;124mf\u001b[39m\u001b[38;5;124m\"\u001b[39m\u001b[38;5;124m../Analysis/stardist/default/stardist_\u001b[39m\u001b[38;5;132;01m{\u001b[39;00msplit\u001b[38;5;132;01m}\u001b[39;00m\u001b[38;5;124m_\u001b[39m\u001b[38;5;132;01m{\u001b[39;00mseed\u001b[38;5;132;01m}\u001b[39;00m\u001b[38;5;124m.tif\u001b[39m\u001b[38;5;124m\"\u001b[39m\n",
      "File \u001b[1;32mc:\\Users\\Cyril\\anaconda3\\envs\\stardist\\lib\\site-packages\\csbdeep\\utils\\utils.py:56\u001b[0m, in \u001b[0;36mnormalize\u001b[1;34m(x, pmin, pmax, axis, clip, eps, dtype)\u001b[0m\n\u001b[0;32m     54\u001b[0m mi \u001b[38;5;241m=\u001b[39m np\u001b[38;5;241m.\u001b[39mpercentile(x,pmin,axis\u001b[38;5;241m=\u001b[39maxis,keepdims\u001b[38;5;241m=\u001b[39m\u001b[38;5;28;01mTrue\u001b[39;00m)\n\u001b[0;32m     55\u001b[0m ma \u001b[38;5;241m=\u001b[39m np\u001b[38;5;241m.\u001b[39mpercentile(x,pmax,axis\u001b[38;5;241m=\u001b[39maxis,keepdims\u001b[38;5;241m=\u001b[39m\u001b[38;5;28;01mTrue\u001b[39;00m)\n\u001b[1;32m---> 56\u001b[0m \u001b[38;5;28;01mreturn\u001b[39;00m \u001b[43mnormalize_mi_ma\u001b[49m\u001b[43m(\u001b[49m\u001b[43mx\u001b[49m\u001b[43m,\u001b[49m\u001b[43m \u001b[49m\u001b[43mmi\u001b[49m\u001b[43m,\u001b[49m\u001b[43m \u001b[49m\u001b[43mma\u001b[49m\u001b[43m,\u001b[49m\u001b[43m \u001b[49m\u001b[43mclip\u001b[49m\u001b[38;5;241;43m=\u001b[39;49m\u001b[43mclip\u001b[49m\u001b[43m,\u001b[49m\u001b[43m \u001b[49m\u001b[43meps\u001b[49m\u001b[38;5;241;43m=\u001b[39;49m\u001b[43meps\u001b[49m\u001b[43m,\u001b[49m\u001b[43m \u001b[49m\u001b[43mdtype\u001b[49m\u001b[38;5;241;43m=\u001b[39;49m\u001b[43mdtype\u001b[49m\u001b[43m)\u001b[49m\n",
      "File \u001b[1;32mc:\\Users\\Cyril\\anaconda3\\envs\\stardist\\lib\\site-packages\\csbdeep\\utils\\utils.py:61\u001b[0m, in \u001b[0;36mnormalize_mi_ma\u001b[1;34m(x, mi, ma, clip, eps, dtype)\u001b[0m\n\u001b[0;32m     59\u001b[0m \u001b[38;5;28;01mdef\u001b[39;00m \u001b[38;5;21mnormalize_mi_ma\u001b[39m(x, mi, ma, clip\u001b[38;5;241m=\u001b[39m\u001b[38;5;28;01mFalse\u001b[39;00m, eps\u001b[38;5;241m=\u001b[39m\u001b[38;5;241m1e-20\u001b[39m, dtype\u001b[38;5;241m=\u001b[39mnp\u001b[38;5;241m.\u001b[39mfloat32):\n\u001b[0;32m     60\u001b[0m     \u001b[38;5;28;01mif\u001b[39;00m dtype \u001b[38;5;129;01mis\u001b[39;00m \u001b[38;5;129;01mnot\u001b[39;00m \u001b[38;5;28;01mNone\u001b[39;00m:\n\u001b[1;32m---> 61\u001b[0m         x   \u001b[38;5;241m=\u001b[39m \u001b[43mx\u001b[49m\u001b[38;5;241;43m.\u001b[39;49m\u001b[43mastype\u001b[49m(dtype,copy\u001b[38;5;241m=\u001b[39m\u001b[38;5;28;01mFalse\u001b[39;00m)\n\u001b[0;32m     62\u001b[0m         mi  \u001b[38;5;241m=\u001b[39m dtype(mi) \u001b[38;5;28;01mif\u001b[39;00m np\u001b[38;5;241m.\u001b[39misscalar(mi) \u001b[38;5;28;01melse\u001b[39;00m mi\u001b[38;5;241m.\u001b[39mastype(dtype,copy\u001b[38;5;241m=\u001b[39m\u001b[38;5;28;01mFalse\u001b[39;00m)\n\u001b[0;32m     63\u001b[0m         ma  \u001b[38;5;241m=\u001b[39m dtype(ma) \u001b[38;5;28;01mif\u001b[39;00m np\u001b[38;5;241m.\u001b[39misscalar(ma) \u001b[38;5;28;01melse\u001b[39;00m ma\u001b[38;5;241m.\u001b[39mastype(dtype,copy\u001b[38;5;241m=\u001b[39m\u001b[38;5;28;01mFalse\u001b[39;00m)\n",
      "\u001b[1;31mAttributeError\u001b[0m: 'tuple' object has no attribute 'astype'"
     ]
    }
   ],
   "source": [
    "axis_norm = (0,1,2)   # normalize channels independently\n",
    "for w in weights_folders:\n",
    "    seed = w.split(\"_\")[1]\n",
    "    split = w.split(\"_\")[2]\n",
    "    print(f\"Predicting {seed} - {split}\")\n",
    "    NMS = model_parameters[\"visual\"][\"NMS\"] if model_parameters[\"visual\"][\"NMS\"] != \"auto\" else None\n",
    "    model = StarDist3D(None, name=w, basedir=path_weights)\n",
    "    prob_thresh = model_parameters[\"visual\"][\"prob_thresh\"] if model_parameters[\"visual\"][\"prob_thresh\"] != \"auto\" else None\n",
    "    image = normalize(image, 1,99.8, axis=axis_norm)\n",
    "    labels, details = model.predict_instances(image, prob_thresh=prob_thresh, nms_thresh=NMS, verbose=True)\n",
    "    save_path = path_images / f\"../Analysis/stardist/default/stardist_{split}_{seed}.tif\"\n",
    "    imwrite(str(save_path), labels)\n",
    "    del model"
   ]
  }
 ],
 "metadata": {
  "kernelspec": {
   "display_name": "Python 3 (ipykernel)",
   "language": "python",
   "name": "python3"
  },
  "language_info": {
   "codemirror_mode": {
    "name": "ipython",
    "version": 3
   },
   "file_extension": ".py",
   "mimetype": "text/x-python",
   "name": "python",
   "nbconvert_exporter": "python",
   "pygments_lexer": "ipython3",
   "version": "3.8.16"
  }
 },
 "nbformat": 4,
 "nbformat_minor": 4
}
