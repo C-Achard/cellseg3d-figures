{
 "cells": [
  {
   "cell_type": "markdown",
   "metadata": {},
   "source": [
    "**In case of problems or questions, please first check the list of [Frequently Asked Questions (FAQ)](https://stardist.net/docs/faq.html).**\n",
    "\n",
    "Please shutdown all other training/prediction notebooks before running this notebook (as those might occupy the GPU memory otherwise)."
   ]
  },
  {
   "cell_type": "code",
   "execution_count": 1,
   "metadata": {},
   "outputs": [],
   "source": [
    "from __future__ import print_function, unicode_literals, absolute_import, division\n",
    "import sys\n",
    "import numpy as np\n",
    "import matplotlib\n",
    "# matplotlib.rcParams[\"image.interpolation\"] = None\n",
    "import matplotlib.pyplot as plt\n",
    "%matplotlib inline\n",
    "%config InlineBackend.figure_format = 'retina'\n",
    "\n",
    "from glob import glob\n",
    "from tifffile import imread, imwrite\n",
    "from csbdeep.utils import Path, normalize\n",
    "from csbdeep.io import save_tiff_imagej_compatible\n",
    "\n",
    "from stardist import random_label_cmap\n",
    "from stardist.models import StarDist3D\n",
    "\n",
    "np.random.seed(6)\n",
    "lbl_cmap = random_label_cmap()"
   ]
  },
  {
   "cell_type": "markdown",
   "metadata": {},
   "source": [
    "# Data\n",
    "\n",
    "We assume that data has already been downloaded in via notebook [1_data.ipynb](1_data.ipynb).  \n",
    "We now load images from the sub-folder `test` that have not been used during training."
   ]
  },
  {
   "cell_type": "code",
   "execution_count": 3,
   "metadata": {},
   "outputs": [],
   "source": [
    "import pathlib as pt\n",
    "path_images = pt.Path().home() / \"Desktop/Code/CELLSEG_BENCHMARK/RESULTS/SPLITS\"\n",
    "path_weights = path_images / \"STARDIST/weights\"\n",
    "weights_folders = [\n",
    "    path_weights / \"c1_5\",\n",
    "    path_weights / \"c1-4_v\",\n",
    "    path_weights / \"c1245_v\",\n",
    "]\n",
    "splits_folders = [\n",
    "    \"10-90\",\n",
    "    \"20-80\",\n",
    "    \"60-40\",\n",
    "    \"80-20\",\n",
    "]\n",
    "path_images = path_images / \"IMAGES\"\n",
    "images = [\n",
    "    imread(str(path_images / \"small_isotropic_visual.tif\")),\n",
    "    imread(str(path_images / \"c5image.tif\")),\n",
    "    imread(str(path_images / \"c3image.tif\"))\n",
    "]"
   ]
  },
  {
   "cell_type": "markdown",
   "metadata": {},
   "source": [
    "# Load trained model\n",
    "\n",
    "If you trained your own StarDist model (and optimized its thresholds) via notebook [2_training.ipynb](2_training.ipynb), then please set `demo_model = False` below."
   ]
  },
  {
   "cell_type": "code",
   "execution_count": 4,
   "metadata": {},
   "outputs": [],
   "source": [
    "# Create a model for each dataset and split\n",
    "models = {}\n",
    "for w in weights_folders:\n",
    "    splits_models = {}\n",
    "    for s in splits_folders:\n",
    "        split_dict = None\n",
    "        splits_models[s] = split_dict\n",
    "    models[w.name] = splits_models"
   ]
  },
  {
   "cell_type": "code",
   "execution_count": 5,
   "metadata": {},
   "outputs": [],
   "source": [
    "model_parameters = {\n",
    "    \"c1_5\": {\n",
    "        \"NMS\": 0.3,\n",
    "        \"prob_thresh\": 0.8\n",
    "    },\n",
    "    \"c1-4_v\": {\n",
    "        \"NMS\": \"auto\",\n",
    "        \"prob_thresh\": \"auto\"\n",
    "    },\n",
    "    \"c1245_v\": {\n",
    "        \"NMS\": 0.5,\n",
    "        \"prob_thresh\": 0.7\n",
    "    }\n",
    "}"
   ]
  },
  {
   "cell_type": "markdown",
   "metadata": {},
   "source": [
    "## Prediction\n",
    "\n",
    "Make sure to normalize the input image beforehand or supply a `normalizer` to the prediction function.\n",
    "\n",
    "Calling `model.predict_instances` will\n",
    "- predict object probabilities and star-convex polygon distances (see `model.predict` if you want those)\n",
    "- perform non-maximum suppression (with overlap threshold `nms_thresh`) for polygons above object probability threshold `prob_thresh`.\n",
    "- render all remaining polygon instances in a label image\n",
    "- return the label instances image and also the details (coordinates, etc.) of all remaining polygons"
   ]
  },
  {
   "cell_type": "code",
   "execution_count": 6,
   "metadata": {},
   "outputs": [
    {
     "data": {
      "text/plain": [
       "dtype('int32')"
      ]
     },
     "execution_count": 6,
     "metadata": {},
     "output_type": "execute_result"
    }
   ],
   "source": [
    "images[0].dtype"
   ]
  },
  {
   "cell_type": "code",
   "execution_count": 9,
   "metadata": {},
   "outputs": [
    {
     "name": "stdout",
     "output_type": "stream",
     "text": [
      "Predicting c1_5 - 20-80\n",
      "Loading network weights from 'weights_best.h5'.\n",
      "Loading thresholds from 'thresholds.json'.\n",
      "Using default values: prob_thresh=0.557997, nms_thresh=0.3.\n",
      "predicting instances with nms_thresh = 0.3\n",
      "non-maximum suppression...\n",
      "NMS took 0.6353 s\n",
      "keeping 406/1732 polyhedra\n",
      "render polygons...\n",
      "Predicting c1_5 - 60-40\n",
      "Loading network weights from 'weights_best.h5'.\n",
      "Loading thresholds from 'thresholds.json'.\n",
      "Using default values: prob_thresh=0.602022, nms_thresh=0.3.\n",
      "predicting instances with nms_thresh = 0.3\n",
      "non-maximum suppression...\n",
      "NMS took 0.5724 s\n",
      "keeping 397/2017 polyhedra\n",
      "render polygons...\n",
      "Predicting c1_5 - 80-20\n",
      "Loading network weights from 'weights_best.h5'.\n",
      "Loading thresholds from 'thresholds.json'.\n",
      "Using default values: prob_thresh=0.558197, nms_thresh=0.3.\n",
      "WARNING:tensorflow:5 out of the last 5 calls to <function Model.make_predict_function.<locals>.predict_function at 0x0000020BAE7E1EE0> triggered tf.function retracing. Tracing is expensive and the excessive number of tracings could be due to (1) creating @tf.function repeatedly in a loop, (2) passing tensors with different shapes, (3) passing Python objects instead of tensors. For (1), please define your @tf.function outside of the loop. For (2), @tf.function has reduce_retracing=True option that can avoid unnecessary retracing. For (3), please refer to https://www.tensorflow.org/guide/function#controlling_retracing and https://www.tensorflow.org/api_docs/python/tf/function for  more details.\n",
      "predicting instances with nms_thresh = 0.3\n",
      "non-maximum suppression...\n",
      "NMS took 1.2447 s\n",
      "keeping 421/3079 polyhedra\n",
      "render polygons...\n",
      "Predicting c1-4_v - 20-80\n",
      "Loading network weights from 'weights_best.h5'.\n",
      "Loading thresholds from 'thresholds.json'.\n",
      "Using default values: prob_thresh=0.0112529, nms_thresh=0.3.\n",
      "WARNING:tensorflow:6 out of the last 6 calls to <function Model.make_predict_function.<locals>.predict_function at 0x0000020BAE8C4820> triggered tf.function retracing. Tracing is expensive and the excessive number of tracings could be due to (1) creating @tf.function repeatedly in a loop, (2) passing tensors with different shapes, (3) passing Python objects instead of tensors. For (1), please define your @tf.function outside of the loop. For (2), @tf.function has reduce_retracing=True option that can avoid unnecessary retracing. For (3), please refer to https://www.tensorflow.org/guide/function#controlling_retracing and https://www.tensorflow.org/api_docs/python/tf/function for  more details.\n",
      "predicting instances with nms_thresh = 0.3\n",
      "non-maximum suppression...\n",
      "NMS took 0.0020 s\n",
      "keeping 0/0 polyhedra\n",
      "render polygons...\n",
      "warning: empty list of points (returning background-only image)\n",
      "Predicting c1-4_v - 60-40\n",
      "Loading network weights from 'weights_best.h5'.\n",
      "Loading thresholds from 'thresholds.json'.\n",
      "Using default values: prob_thresh=0.464506, nms_thresh=0.4.\n",
      "predicting instances with nms_thresh = 0.4\n",
      "non-maximum suppression...\n",
      "NMS took 1.4701 s\n",
      "keeping 315/3651 polyhedra\n",
      "render polygons...\n",
      "Predicting c1-4_v - 80-20\n",
      "Loading network weights from 'weights_best.h5'.\n",
      "Loading thresholds from 'thresholds.json'.\n",
      "Using default values: prob_thresh=0.44744, nms_thresh=0.3.\n",
      "predicting instances with nms_thresh = 0.3\n",
      "non-maximum suppression...\n",
      "NMS took 1.9996 s\n",
      "keeping 372/5615 polyhedra\n",
      "render polygons...\n",
      "Predicting c1245_v - 20-80\n",
      "Loading network weights from 'weights_best.h5'.\n",
      "Loading thresholds from 'thresholds.json'.\n",
      "Using default values: prob_thresh=0.011125, nms_thresh=0.3.\n",
      "predicting instances with nms_thresh = 0.5\n",
      "non-maximum suppression...\n",
      "NMS took 0.0089 s\n",
      "keeping 0/0 polyhedra\n",
      "render polygons...\n",
      "warning: empty list of points (returning background-only image)\n",
      "Predicting c1245_v - 60-40\n",
      "Loading network weights from 'weights_best.h5'.\n",
      "Loading thresholds from 'thresholds.json'.\n",
      "Using default values: prob_thresh=0.402388, nms_thresh=0.4.\n",
      "predicting instances with nms_thresh = 0.5\n",
      "non-maximum suppression...\n",
      "NMS took 0.0638 s\n",
      "keeping 66/118 polyhedra\n",
      "render polygons...\n",
      "Predicting c1245_v - 80-20\n",
      "Loading network weights from 'weights_best.h5'.\n",
      "Loading thresholds from 'thresholds.json'.\n",
      "Using default values: prob_thresh=0.399837, nms_thresh=0.3.\n",
      "predicting instances with nms_thresh = 0.5\n",
      "non-maximum suppression...\n",
      "NMS took 0.0030 s\n",
      "keeping 4/4 polyhedra\n",
      "render polygons...\n"
     ]
    }
   ],
   "source": [
    "axis_norm = (0,1,2)   # normalize channels independently\n",
    "for i, (dataset, split_dict) in enumerate(models.items()):\n",
    "    for split, _ in split_dict.items():\n",
    "        print(f\"Predicting {dataset} - {split}\")\n",
    "        img = images[0] if \"c1_5\" in dataset else images[1] if \"c1-4_v\" in dataset else images[2]\n",
    "        NMS = model_parameters[dataset][\"NMS\"] if model_parameters[dataset][\"NMS\"] != \"auto\" else None\n",
    "        model = StarDist3D(None, name=split, basedir=weights_folders[i])\n",
    "        prob_thresh = model_parameters[dataset][\"prob_thresh\"] if model_parameters[dataset][\"prob_thresh\"] != \"auto\" else None\n",
    "        img = normalize(img, 1,99.8, axis=axis_norm)\n",
    "        labels, details = model.predict_instances(img, prob_thresh=prob_thresh, nms_thresh=NMS, verbose=True)\n",
    "        save_path = path_images / f\"../Analysis/{dataset}/sd/stardist_{split.replace('-', '')}_labels.tif\"\n",
    "        imwrite(str(save_path), labels)\n",
    "        del model"
   ]
  }
 ],
 "metadata": {
  "kernelspec": {
   "display_name": "Python 3 (ipykernel)",
   "language": "python",
   "name": "python3"
  },
  "language_info": {
   "codemirror_mode": {
    "name": "ipython",
    "version": 3
   },
   "file_extension": ".py",
   "mimetype": "text/x-python",
   "name": "python",
   "nbconvert_exporter": "python",
   "pygments_lexer": "ipython3",
   "version": "3.8.16"
  }
 },
 "nbformat": 4,
 "nbformat_minor": 4
}
