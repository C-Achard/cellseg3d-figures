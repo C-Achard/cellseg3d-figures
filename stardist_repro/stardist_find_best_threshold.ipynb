{
 "cells": [
  {
   "cell_type": "code",
   "execution_count": 1,
   "metadata": {},
   "outputs": [],
   "source": [
    "from stardist.models import StarDist3D\n",
    "from pathlib import Path\n",
    "import numpy as np\n",
    "from tifffile import imread, imwrite\n",
    "from csbdeep.utils import normalize\n",
    "from tqdm import tqdm"
   ]
  },
  {
   "cell_type": "code",
   "execution_count": 2,
   "metadata": {},
   "outputs": [
    {
     "data": {
      "text/plain": [
       "[WindowsPath('C:/Users/Cyril/Desktop/Code/CELLSEG_BENCHMARK/RESULTS/SUPERVISED_PERF_FIG/TRAINING/fold3/IMAGES/c1image.tif'),\n",
       " WindowsPath('C:/Users/Cyril/Desktop/Code/CELLSEG_BENCHMARK/RESULTS/SUPERVISED_PERF_FIG/TRAINING/fold3/IMAGES/c2image.tif'),\n",
       " WindowsPath('C:/Users/Cyril/Desktop/Code/CELLSEG_BENCHMARK/RESULTS/SUPERVISED_PERF_FIG/TRAINING/fold3/IMAGES/c4image.tif'),\n",
       " WindowsPath('C:/Users/Cyril/Desktop/Code/CELLSEG_BENCHMARK/RESULTS/SUPERVISED_PERF_FIG/TRAINING/fold3/IMAGES/c5image.tif'),\n",
       " WindowsPath('C:/Users/Cyril/Desktop/Code/CELLSEG_BENCHMARK/RESULTS/SUPERVISED_PERF_FIG/TRAINING/fold3/IMAGES/visual.tif')]"
      ]
     },
     "execution_count": 2,
     "metadata": {},
     "output_type": "execute_result"
    }
   ],
   "source": [
    "DATA_PATH = (Path.home() / \"Desktop/Code/CELLSEG_BENCHMARK/RESULTS/SUPERVISED_PERF_FIG/\").resolve()\n",
    "fold = 3\n",
    "# pretrained_path = DATA_PATH / f\"weights/fold_{fold}/cellpose/supervised_perf_fig.cellpose\" \n",
    "pretrained_path = DATA_PATH / f\"weights/fold_{fold}\" \n",
    "assert pretrained_path.is_dir()\n",
    "images_path = DATA_PATH / f\"TRAINING/fold{fold}/IMAGES\"\n",
    "assert images_path.is_dir()\n",
    "images_paths = list(images_path.glob(\"*tif\"))\n",
    "\n",
    "images_paths"
   ]
  },
  {
   "cell_type": "code",
   "execution_count": 3,
   "metadata": {},
   "outputs": [],
   "source": [
    "test_image = imread(images_paths[0])\n",
    "n_channel = 1 if test_image.ndim == 3 else test_image.shape[-1]\n",
    "axis_norm = (0,1,2)   # normalize channels independently\n",
    "# axis_norm = (0,1,2,3) # normalize channels jointly\n",
    "if n_channel > 1:\n",
    "    print(\"Normalizing image channels %s.\" % ('jointly' if axis_norm is None or 2 in axis_norm else 'independently'))"
   ]
  },
  {
   "cell_type": "code",
   "execution_count": 4,
   "metadata": {},
   "outputs": [],
   "source": [
    "save_dir = DATA_PATH / f\"TRAINING/fold{fold}/stardist\"\n",
    "if not save_dir.is_dir():\n",
    "    save_dir.mkdir(parents=True, exist_ok=True)"
   ]
  },
  {
   "cell_type": "code",
   "execution_count": 5,
   "metadata": {},
   "outputs": [
    {
     "name": "stdout",
     "output_type": "stream",
     "text": [
      "Loading network weights from 'weights_best.h5'.\n",
      "Loading thresholds from 'thresholds.json'.\n",
      "Using default values: prob_thresh=0.5184, nms_thresh=0.3.\n"
     ]
    }
   ],
   "source": [
    "model = StarDist3D(None, name='stardist', basedir=pretrained_path)\n",
    "\n",
    "NMS_threshold_values = np.arange(0.1, 1, 0.1)\n",
    "prob_thresh_values = np.arange(0.1, 1, 0.1)\n",
    "NMS_threshold_values = np.round(NMS_threshold_values, 2)\n",
    "prob_thresh_values = np.round(prob_thresh_values, 2)"
   ]
  },
  {
   "cell_type": "code",
   "execution_count": 6,
   "metadata": {},
   "outputs": [
    {
     "name": "stderr",
     "output_type": "stream",
     "text": [
      "  0%|          | 0/5 [00:00<?, ?it/s]"
     ]
    },
    {
     "name": "stdout",
     "output_type": "stream",
     "text": [
      "c1image\n"
     ]
    },
    {
     "name": "stderr",
     "output_type": "stream",
     "text": [
      " 20%|██        | 1/5 [08:56<35:46, 536.67s/it]"
     ]
    },
    {
     "name": "stdout",
     "output_type": "stream",
     "text": [
      "c2image\n"
     ]
    },
    {
     "name": "stderr",
     "output_type": "stream",
     "text": [
      " 40%|████      | 2/5 [15:58<23:28, 469.39s/it]"
     ]
    },
    {
     "name": "stdout",
     "output_type": "stream",
     "text": [
      "c4image\n"
     ]
    },
    {
     "name": "stderr",
     "output_type": "stream",
     "text": [
      " 60%|██████    | 3/5 [24:41<16:27, 493.76s/it]"
     ]
    },
    {
     "name": "stdout",
     "output_type": "stream",
     "text": [
      "c5image\n"
     ]
    },
    {
     "name": "stderr",
     "output_type": "stream",
     "text": [
      " 80%|████████  | 4/5 [30:42<07:21, 441.29s/it]"
     ]
    },
    {
     "name": "stdout",
     "output_type": "stream",
     "text": [
      "visual\n"
     ]
    },
    {
     "name": "stderr",
     "output_type": "stream",
     "text": [
      "100%|██████████| 5/5 [59:35<00:00, 715.16s/it]\n"
     ]
    }
   ],
   "source": [
    "for image_p in tqdm(images_paths):\n",
    "    im_name = image_p.stem\n",
    "    print(im_name)\n",
    "    # for resample_val in resample:\n",
    "    for prob_t in prob_thresh_values:\n",
    "        for nms in NMS_threshold_values:\n",
    "            save_name = str(save_dir / f\"{im_name}_stardist_masks_nms_{nms}_prob_{prob_t}.tif\")\n",
    "            if Path(save_name).is_file():\n",
    "                continue\n",
    "            img=imread(str(image_p))\n",
    "            img = normalize(img, 1,99.8, axis=axis_norm)\n",
    "            masks, details = model.predict_instances(img, prob_thresh=prob_t, nms_thresh=nms)\n",
    "            imwrite(save_name, masks)"
   ]
  },
  {
   "cell_type": "code",
   "execution_count": 17,
   "metadata": {},
   "outputs": [],
   "source": [
    "fold_1_eval = DATA_PATH / f\"INFERENCE/fold1/visual.tif\"\n",
    "fold_1_eval = imread(fold_1_eval)\n",
    "fold_2_eval = DATA_PATH / f\"INFERENCE/fold2/c5image.tif\"\n",
    "fold_2_eval = imread(fold_2_eval)\n",
    "fold_3_eval = DATA_PATH / f\"INFERENCE/fold3/c3image.tif\"\n",
    "fold_3_eval = imread(fold_3_eval)"
   ]
  },
  {
   "cell_type": "code",
   "execution_count": 18,
   "metadata": {},
   "outputs": [],
   "source": [
    "fold_1_nms = 0.3\n",
    "fold_1_thresh = 0.8\n",
    "\n",
    "fold_2_nms = 0.7\n",
    "flod_2_thresh = 0.6\n",
    "\n",
    "fold_3_nms = 0.5\n",
    "fold_3_thresh = 0.7"
   ]
  },
  {
   "cell_type": "code",
   "execution_count": 21,
   "metadata": {},
   "outputs": [],
   "source": [
    "threshs = [fold_1_thresh, flod_2_thresh, fold_3_thresh]\n",
    "nms = [fold_1_nms, fold_2_nms, fold_3_nms]\n",
    "for i, image_eval in enumerate([fold_1_eval, fold_2_eval, fold_3_eval]):\n",
    "    img = normalize(image_eval, 1, 99.8, axis=axis_norm)\n",
    "    masks, details = model.predict_instances(img, prob_thresh=threshs[i], nms_thresh=nms[i])\n",
    "    imwrite(str(DATA_PATH / f\"INFERENCE/fold{i+1}/stardist/stardist_fold{i+1}.tif\"), masks)"
   ]
  }
 ],
 "metadata": {
  "kernelspec": {
   "display_name": "Python 3 (ipykernel)",
   "language": "python",
   "name": "python3"
  },
  "language_info": {
   "codemirror_mode": {
    "name": "ipython",
    "version": 3
   },
   "file_extension": ".py",
   "mimetype": "text/x-python",
   "name": "python",
   "nbconvert_exporter": "python",
   "pygments_lexer": "ipython3",
   "version": "3.8.19"
  }
 },
 "nbformat": 4,
 "nbformat_minor": 4
}
