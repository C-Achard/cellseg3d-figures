{
 "cells": [
  {
   "cell_type": "code",
   "execution_count": null,
   "metadata": {},
   "outputs": [],
   "source": [
    "from stardist.models import StarDist3D\n",
    "from pathlib import Path\n",
    "import numpy as np\n",
    "from tifffile import imread, imwrite\n",
    "from csbdeep.utils import normalize"
   ]
  },
  {
   "cell_type": "code",
   "execution_count": null,
   "metadata": {},
   "outputs": [],
   "source": [
    "DATA_PATH = (Path.home() / \"Desktop/Code/CELLSEG_BENCHMARK/RESULTS/SUPERVISED_PERF_FIG/\").resolve()\n",
    "fold = 1\n",
    "# pretrained_path = DATA_PATH / f\"weights/fold_{fold}/cellpose/supervised_perf_fig.cellpose\" \n",
    "pretrained_path = DATA_PATH / f\"weights/fold_{fold}\" \n",
    "assert pretrained_path.is_dir()\n",
    "images_path = DATA_PATH / f\"TRAINING/fold{fold}/IMAGES\"\n",
    "assert images_path.is_dir()\n",
    "images_paths = list(images_path.glob(\"*tif\"))\n",
    "\n",
    "images_paths"
   ]
  },
  {
   "cell_type": "code",
   "execution_count": null,
   "metadata": {},
   "outputs": [],
   "source": [
    "test_image = imread(images_paths[0])\n",
    "n_channel = 1 if test_image.ndim == 3 else test_image.shape[-1]\n",
    "axis_norm = (0,1,2)   # normalize channels independently\n",
    "# axis_norm = (0,1,2,3) # normalize channels jointly\n",
    "if n_channel > 1:\n",
    "    print(\"Normalizing image channels %s.\" % ('jointly' if axis_norm is None or 2 in axis_norm else 'independently'))"
   ]
  },
  {
   "cell_type": "code",
   "execution_count": null,
   "metadata": {},
   "outputs": [],
   "source": [
    "save_dir = DATA_PATH / f\"TRAINING/fold{fold}/stardist\"\n",
    "if not save_dir.is_dir():\n",
    "    save_dir.mkdir(parents=False, exist_ok=True)"
   ]
  },
  {
   "cell_type": "code",
   "execution_count": null,
   "metadata": {},
   "outputs": [],
   "source": [
    "model = StarDist3D(None, name='stardist', basedir=pretrained_path)\n",
    "\n",
    "NMS_threshold_values = np.arange(0.1, 1, 0.1)\n",
    "prob_thresh_values = np.arange(0.1, 1, 0.1)\n",
    "NMS_threshold_values = np.round(NMS_threshold_values, 2)\n",
    "prob_thresh_values = np.round(prob_thresh_values, 2)"
   ]
  },
  {
   "cell_type": "code",
   "execution_count": 10,
   "metadata": {},
   "outputs": [],
   "source": [
    "for image_p in images_paths:\n",
    "    im_name = image_p.stem\n",
    "    print(im_name)\n",
    "    # for resample_val in resample:\n",
    "    for prob_t in prob_thresh_values:\n",
    "        for nms in NMS_threshold_values:\n",
    "            img=imread(str(image_p))\n",
    "            img = normalize(img, 1,99.8, axis=axis_norm)\n",
    "            masks, details = model.predict_instances(img, prob_thresh=prob_t, nms_thresh=nms)\n",
    "            save_name = str(save_dir / f\"{im_name}_stardist_masks_nms_{nms}_prob_{prob_t}.tif\")\n",
    "            imwrite(save_name, masks)"
   ]
  }
 ],
 "metadata": {
  "kernelspec": {
   "display_name": "Python 3 (ipykernel)",
   "language": "python",
   "name": "python3"
  },
  "language_info": {
   "codemirror_mode": {
    "name": "ipython",
    "version": 3
   },
   "file_extension": ".py",
   "mimetype": "text/x-python",
   "name": "python",
   "nbconvert_exporter": "python",
   "pygments_lexer": "ipython3",
   "version": "3.8.16"
  }
 },
 "nbformat": 4,
 "nbformat_minor": 4
}
