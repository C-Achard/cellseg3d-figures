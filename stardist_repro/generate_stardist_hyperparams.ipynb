{
 "cells": [
  {
   "cell_type": "markdown",
   "metadata": {},
   "source": [
    "**In case of problems or questions, please first check the list of [Frequently Asked Questions (FAQ)](https://stardist.net/docs/faq.html).**\n",
    "\n",
    "Please shutdown all other training/prediction notebooks before running this notebook (as those might occupy the GPU memory otherwise)."
   ]
  },
  {
   "cell_type": "code",
   "execution_count": 1,
   "metadata": {},
   "outputs": [],
   "source": [
    "from __future__ import print_function, unicode_literals, absolute_import, division\n",
    "import sys\n",
    "import numpy as np\n",
    "import matplotlib\n",
    "# matplotlib.rcParams[\"image.interpolation\"] = None\n",
    "import matplotlib.pyplot as plt\n",
    "%matplotlib inline\n",
    "%config InlineBackend.figure_format = 'retina'\n",
    "\n",
    "from glob import glob\n",
    "from tifffile import imread\n",
    "from csbdeep.utils import Path, normalize\n",
    "from csbdeep.io import save_tiff_imagej_compatible\n",
    "\n",
    "from stardist import random_label_cmap\n",
    "from stardist.models import StarDist3D\n",
    "\n",
    "np.random.seed(6)\n",
    "lbl_cmap = random_label_cmap()\n",
    "####################################################\n",
    "from tifffile import imwrite\n",
    "import pathlib as pt"
   ]
  },
  {
   "cell_type": "markdown",
   "metadata": {},
   "source": [
    "# Data\n",
    "\n",
    "We assume that data has already been downloaded in via notebook [1_data.ipynb](1_data.ipynb).  \n",
    "We now load images from the sub-folder `test` that have not been used during training."
   ]
  },
  {
   "cell_type": "code",
   "execution_count": 2,
   "metadata": {},
   "outputs": [],
   "source": [
    "FOLD = 2\n",
    "model_dir = pt.Path.home() / f\"Desktop/Code/CELLSEG_BENCHMARK/RESULTS/SUPERVISED_PERF_FIG/weights/fold_{FOLD}\""
   ]
  },
  {
   "cell_type": "code",
   "execution_count": 3,
   "metadata": {},
   "outputs": [],
   "source": [
    "path_images = pt.Path().home() / f\"Desktop/Code/CELLSEG_BENCHMARK/RESULTS/SUPERVISED_PERF_FIG//INFERENCE/fold{FOLD}\"\n",
    "X = sorted(glob(str(path_images / '*.tif')))\n",
    "X = [i for i in X if 'label' not in i]\n",
    "X = list(map(imread,X))\n",
    "\n",
    "n_channel = 1 if X[0].ndim == 3 else X[0].shape[-1]\n",
    "axis_norm = (0,1,2)   # normalize channels independently\n",
    "# axis_norm = (0,1,2,3) # normalize channels jointly\n",
    "if n_channel > 1:\n",
    "    print(\"Normalizing image channels %s.\" % ('jointly' if axis_norm is None or 2 in axis_norm else 'independently'))"
   ]
  },
  {
   "cell_type": "markdown",
   "metadata": {},
   "source": [
    "# Load trained model\n",
    "\n",
    "If you trained your own StarDist model (and optimized its thresholds) via notebook [2_training.ipynb](2_training.ipynb), then please set `demo_model = False` below."
   ]
  },
  {
   "cell_type": "code",
   "execution_count": 4,
   "metadata": {},
   "outputs": [
    {
     "name": "stdout",
     "output_type": "stream",
     "text": [
      "Loading network weights from 'weights_best.h5'.\n",
      "Loading thresholds from 'thresholds.json'.\n",
      "Using default values: prob_thresh=0.604754, nms_thresh=0.3.\n"
     ]
    }
   ],
   "source": [
    "demo_model = False\n",
    "\n",
    "if demo_model:\n",
    "    print (\n",
    "        \"NOTE: This is loading a previously trained demo model!\\n\"\n",
    "        \"      Please set the variable 'demo_model = False' to load your own trained model.\",\n",
    "        file=sys.stderr, flush=True\n",
    "    )\n",
    "    model = StarDist3D.from_pretrained('3D_demo')\n",
    "else:\n",
    "    model = StarDist3D(None, name='stardist', basedir=model_dir)\n",
    "None;"
   ]
  },
  {
   "cell_type": "markdown",
   "metadata": {},
   "source": [
    "## Prediction\n",
    "\n",
    "Make sure to normalize the input image beforehand or supply a `normalizer` to the prediction function.\n",
    "\n",
    "Calling `model.predict_instances` will\n",
    "- predict object probabilities and star-convex polygon distances (see `model.predict` if you want those)\n",
    "- perform non-maximum suppression (with overlap threshold `nms_thresh`) for polygons above object probability threshold `prob_thresh`.\n",
    "- render all remaining polygon instances in a label image\n",
    "- return the label instances image and also the details (coordinates, etc.) of all remaining polygons"
   ]
  },
  {
   "cell_type": "code",
   "execution_count": 5,
   "metadata": {},
   "outputs": [
    {
     "name": "stdout",
     "output_type": "stream",
     "text": [
      "nms_thresh: 0.1, prob_thresh: 0.1\n",
      "nms_thresh: 0.1, prob_thresh: 0.2\n",
      "nms_thresh: 0.1, prob_thresh: 0.3\n",
      "nms_thresh: 0.1, prob_thresh: 0.4\n",
      "nms_thresh: 0.1, prob_thresh: 0.5\n",
      "nms_thresh: 0.1, prob_thresh: 0.6\n",
      "nms_thresh: 0.1, prob_thresh: 0.7\n",
      "nms_thresh: 0.1, prob_thresh: 0.8\n",
      "nms_thresh: 0.1, prob_thresh: 0.9\n",
      "nms_thresh: 0.2, prob_thresh: 0.1\n",
      "nms_thresh: 0.2, prob_thresh: 0.2\n",
      "nms_thresh: 0.2, prob_thresh: 0.3\n"
     ]
    }
   ],
   "source": [
    "NMS_threshold_values = np.arange(0.1, 1, 0.1)\n",
    "prob_thresh_values = np.arange(0.1, 1, 0.1)\n",
    "NMS_threshold_values = np.round(NMS_threshold_values, 2)\n",
    "prob_thresh_values = np.round(prob_thresh_values, 2)\n",
    "save_dir = pt.Path(f\"./stardist_hyperparams_check/fold{FOLD}\")\n",
    "save_dir.mkdir(exist_ok=True, parents=False)\n",
    "\n",
    "img = normalize(X[0], 1,99.8, axis=axis_norm)\n",
    "for nms_thresh in NMS_threshold_values:\n",
    "    for prob_thresh in prob_thresh_values:\n",
    "        print(f\"nms_thresh: {nms_thresh}, prob_thresh: {prob_thresh}\")\n",
    "        labels, details = model.predict_instances(img, prob_thresh=prob_thresh, nms_thresh=nms_thresh)\n",
    "        imwrite(str(save_dir / f\"stardist_nms_{nms_thresh}_prob_{prob_thresh}.tif\"), labels.astype(np.uint32))"
   ]
  },
  {
   "cell_type": "code",
   "execution_count": null,
   "metadata": {},
   "outputs": [],
   "source": [
    "plt.figure(figsize=(13,10))\n",
    "z = max(0, img.shape[0] // 2 - 5)\n",
    "plt.subplot(121)\n",
    "plt.imshow((img if img.ndim==3 else img[...,:3])[z], clim=(0,1), cmap='gray')\n",
    "plt.title('Raw image (XY slice)')\n",
    "plt.axis('off')\n",
    "plt.subplot(122)\n",
    "plt.imshow((img if img.ndim==3 else img[...,:3])[z], clim=(0,1), cmap='gray')\n",
    "plt.imshow(labels[z], cmap=lbl_cmap, alpha=0.5)\n",
    "plt.title('Image and predicted labels (XY slice)')\n",
    "plt.axis('off');"
   ]
  },
  {
   "cell_type": "markdown",
   "metadata": {},
   "source": [
    "## Save predictions\n",
    "\n",
    "Uncomment the lines in the following cell if you want to save the example image and the predicted label image to disk."
   ]
  },
  {
   "cell_type": "code",
   "execution_count": null,
   "metadata": {},
   "outputs": [],
   "source": [
    "# save_tiff_imagej_compatible('example_image.tif', img, axes='ZYX')\n",
    "# save_tiff_imagej_compatible('example_labels.tif', labels, axes='ZYX')"
   ]
  },
  {
   "cell_type": "markdown",
   "metadata": {},
   "source": [
    "# Example results"
   ]
  },
  {
   "cell_type": "code",
   "execution_count": null,
   "metadata": {},
   "outputs": [],
   "source": [
    "def example(model, i, show_dist=True):\n",
    "    img = normalize(X[i], 1,99.8, axis=axis_norm)\n",
    "    labels, details = model.predict_instances(img)\n",
    "\n",
    "    plt.figure(figsize=(13,8))\n",
    "    z = img.shape[0] // 2\n",
    "    y = img.shape[1] // 2\n",
    "    img_show = img if img.ndim==3 else img[...,:3]    \n",
    "    plt.subplot(221); plt.imshow(img_show[z],   cmap='gray', clim=(0,1)); plt.axis('off'); plt.title('XY slice')\n",
    "    plt.subplot(222); plt.imshow(img_show[:,y], cmap='gray', clim=(0,1)); plt.axis('off'); plt.title('XZ slice')\n",
    "    plt.subplot(223); plt.imshow(img_show[z],   cmap='gray', clim=(0,1)); plt.axis('off'); plt.title('XY slice')\n",
    "    plt.imshow(labels[z], cmap=lbl_cmap, alpha=0.5)\n",
    "    plt.subplot(224); plt.imshow(img_show[:,y], cmap='gray', clim=(0,1)); plt.axis('off'); plt.title('XZ slice')\n",
    "    plt.imshow(labels[:,y], cmap=lbl_cmap, alpha=0.5)\n",
    "    plt.tight_layout()\n",
    "    plt.show()"
   ]
  },
  {
   "cell_type": "code",
   "execution_count": null,
   "metadata": {},
   "outputs": [],
   "source": [
    "example(model, 0)"
   ]
  }
 ],
 "metadata": {
  "kernelspec": {
   "display_name": "stardist",
   "language": "python",
   "name": "python3"
  },
  "language_info": {
   "codemirror_mode": {
    "name": "ipython",
    "version": 3
   },
   "file_extension": ".py",
   "mimetype": "text/x-python",
   "name": "python",
   "nbconvert_exporter": "python",
   "pygments_lexer": "ipython3",
   "version": "3.8.16"
  }
 },
 "nbformat": 4,
 "nbformat_minor": 2
}
