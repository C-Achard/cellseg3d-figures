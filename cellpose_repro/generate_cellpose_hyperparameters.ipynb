{
 "cells": [
  {
   "cell_type": "markdown",
   "metadata": {},
   "source": [
    "# Cellpose : hyperparameter tuning"
   ]
  },
  {
   "cell_type": "markdown",
   "metadata": {
    "vscode": {
     "languageId": "plaintext"
    }
   },
   "source": [
    "*NOTE : this notebook requires a separate environment with cellpose+jupyter installed.*\n",
    "\n",
    "Here we check that cellpose hyperparameters are ideally set.\n",
    "\n",
    "- Flow threshold : does not have an effect in 3D\n",
    "- Probability threshold : range [-6;6], this should be verified\n",
    "- Resample : check with/without\n",
    "- Cell diameter : has already been set manually before training (should be optimal)"
   ]
  },
  {
   "cell_type": "code",
   "execution_count": null,
   "metadata": {},
   "outputs": [
    {
     "ename": "",
     "evalue": "",
     "output_type": "error",
     "traceback": [
      "\u001b[1;31mRunning cells with 'napari-cellpose' requires the ipykernel package.\n",
      "\u001b[1;31mRun the following command to install 'ipykernel' into the Python environment. \n",
      "\u001b[1;31mCommand: 'conda install -n napari-cellpose ipykernel --update-deps --force-reinstall'"
     ]
    }
   ],
   "source": [
    "# --------- REQUIRES A SEPARATE ENVIRONMENT WITH CELLPOSE INSTALLED --------- #\n",
    "from cellpose import models \n",
    "from pathlib import Path\n",
    "import numpy as np\n",
    "from tifffile import imread, imwrite"
   ]
  },
  {
   "cell_type": "code",
   "execution_count": null,
   "metadata": {},
   "outputs": [],
   "source": [
    "DATA_PATH = Path.home() / \"Desktop/Code/CELLSEG_BENCHMARK/RESULTS/SUPERVISED_PERF_FIG/\"\n",
    "pretrained_path = DATA_PATH / \"weights/fold_1/cellpose/supervised_perf_fig.cellpose\" \n",
    "image_path = DATA_PATH / \"fold1/visual.tif\"\n",
    "image = imread(str(image_path))"
   ]
  },
  {
   "cell_type": "code",
   "execution_count": null,
   "metadata": {},
   "outputs": [],
   "source": [
    "resample = [True, False]\n",
    "prob_threshs = np.arange(-6, 7, 1) # from -6 to 6\n",
    "\n",
    "model = models.CellposeModel(gpu=True, pretrained_model=str(pretrained_path), diam_mean=3.3)"
   ]
  },
  {
   "cell_type": "code",
   "execution_count": null,
   "metadata": {},
   "outputs": [],
   "source": [
    "for resample_val in resample:\n",
    "    for prob_t in prob_threshs:\n",
    "        masks, flows, styles = model.eval(\n",
    "            x=[image],\n",
    "            do_3d=True,\n",
    "            channels=[0,0],\n",
    "            resample=resample_val,\n",
    "            cellprob_threshold=prob_t,\n",
    "        )\n",
    "        save_name = f\"./cellpose_masks/cellpose_masks_t_{prob_t}_r_{int(resample_val)}.tif\"\n",
    "        imwrite(save_name, masks)"
   ]
  },
  {
   "cell_type": "code",
   "execution_count": null,
   "metadata": {},
   "outputs": [],
   "source": [
    "image_c5 = DATA_PATH / \"fold2/c5image.tif\"\n",
    "image_c3 = DATA_PATH / \"fold3/c3image.tif\"\n",
    "best_thresh = -6\n",
    "resample_val = True\n",
    "\n",
    "pretrained_c5 = DATA_PATH / \"weights/fold_2/cellpose/fold2_cellpose.cellpose\"\n",
    "model_c5 = models.CellposeModel(gpu=True, pretrained_model=str(pretrained_path), diam_mean=3.3)\n",
    "masks_c5, _, _ = model.eval(\n",
    "    x=[imread(str(image_c5))],\n",
    "    do_3d=True,\n",
    "    channels=[0,0],\n",
    "    resample=resample_val,\n",
    "    cellprob_threshold=best_thresh,\n",
    ")\n",
    "imwrite(\"./cellpose_masks/cellpose_masks_c5.tif\", masks_c5)\n"
   ]
  },
  {
   "cell_type": "code",
   "execution_count": null,
   "metadata": {},
   "outputs": [],
   "source": [
    "pretrained_c3 = DATA_PATH / \"weights/fold_3/cellpose/fold3_cellpose.cellpose\"\n",
    "masks_c3, _, _ = model.eval(\n",
    "    x=[imread(str(image_c3))],\n",
    "    do_3d=True,\n",
    "    channels=[0,0],\n",
    "    resample=resample_val,\n",
    "    cellprob_threshold=best_thresh,\n",
    ")\n",
    "\n",
    "imwrite(\"./cellpose_masks/cellpose_masks_c3.tif\", masks_c3)"
   ]
  }
 ],
 "metadata": {
  "kernelspec": {
   "display_name": "cellseg3d-figures",
   "language": "python",
   "name": "python3"
  },
  "language_info": {
   "name": "python",
   "version": "3.8.13"
  }
 },
 "nbformat": 4,
 "nbformat_minor": 2
}
