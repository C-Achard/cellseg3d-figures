{
 "cells": [
  {
   "cell_type": "code",
   "execution_count": 1,
   "metadata": {},
   "outputs": [],
   "source": [
    "# --------- REQUIRES A SEPARATE ENVIRONMENT WITH CELLPOSE INSTALLED --------- #\n",
    "from cellpose import models \n",
    "import pathlib as pt\n",
    "import numpy as np\n",
    "from tifffile import imread, imwrite"
   ]
  },
  {
   "cell_type": "code",
   "execution_count": 2,
   "metadata": {},
   "outputs": [],
   "source": [
    "path_images = pt.Path().home() / \"Desktop/Code/CELLSEG_BENCHMARK/RESULTS/SPLITS\"\n",
    "path_weights = path_images / \"CELLPOSE/weights\"\n",
    "datasets = [\n",
    "    \"c1_5\",\n",
    "    \"c1-4_v\",\n",
    "    \"c1245_v\",\n",
    "]\n",
    "splits_folders = [\n",
    "    \"20-80\",\n",
    "    \"60-40\",\n",
    "    \"80-20\",\n",
    "]\n",
    "path_images = path_images / \"IMAGES\"\n",
    "images = [\n",
    "    imread(str(path_images / \"small_isotropic_visual.tif\")),\n",
    "    imread(str(path_images / \"c5image.tif\")),\n",
    "    imread(str(path_images / \"c3image.tif\"))\n",
    "]"
   ]
  },
  {
   "cell_type": "code",
   "execution_count": 3,
   "metadata": {},
   "outputs": [],
   "source": [
    "weights = {\n",
    "    \"c1_5\" : {\n",
    "        \"20-80\" : \"c1_5_2080.cellpose\",\n",
    "        \"60-40\" : \"c1_5_6040.cellpose\",\n",
    "        \"80-20\" : \"c1_5_8020.cellpose\"\n",
    "    },\n",
    "    \"c1-4_v\" : {\n",
    "        \"20-80\" : \"c1-4_v_2080.cellpose\",\n",
    "        \"60-40\" : \"c1-4_v_6040.cellpose\",\n",
    "        \"80-20\" : \"c1-4_v_8020.cellpose\"\n",
    "    },\n",
    "    \"c1245_v\" : {\n",
    "        \"20-80\" : \"c1245_v_2080.cellpose\",\n",
    "        \"60-40\" : \"c1245_v_6040.cellpose\",\n",
    "        \"80-20\" : \"c1245_v_8020.cellpose\"\n",
    "    }\n",
    "}"
   ]
  },
  {
   "cell_type": "code",
   "execution_count": 4,
   "metadata": {},
   "outputs": [
    {
     "name": "stdout",
     "output_type": "stream",
     "text": [
      "Processing c1_5 20-80\n",
      "Processing c1_5 60-40\n",
      "Processing c1_5 80-20\n",
      "Processing c1-4_v 20-80\n",
      "Processing c1-4_v 60-40\n",
      "Processing c1-4_v 80-20\n",
      "Processing c1245_v 20-80\n",
      "Processing c1245_v 60-40\n",
      "Processing c1245_v 80-20\n"
     ]
    }
   ],
   "source": [
    "for i , (dataset, spit_dict) in enumerate(weights.items()):\n",
    "    for split, weight in spit_dict.items():\n",
    "        print(f\"Processing {dataset} {split}\")\n",
    "        image = images[i]\n",
    "        path_weight_file = path_weights / weight\n",
    "        assert path_weight_file.exists(), f\"Weight file {path_weight_file} does not exist\"\n",
    "        model = models.CellposeModel(gpu=True, pretrained_model=str(path_weight_file), diam_mean=3.3)\n",
    "        masks, _, _ = model.eval(\n",
    "            x=image,\n",
    "            do_3D=True,\n",
    "            channels=[0, 0],\n",
    "            resample=True,\n",
    "            cellprob_threshold=-9\n",
    "        )\n",
    "        save_path = path_images / f\"../Analysis/{dataset}/cp/cellpose_{split.replace('-', '')}_labels.tif\"\n",
    "        imwrite(str(save_path), masks.astype(np.uint32))"
   ]
  }
 ],
 "metadata": {
  "kernelspec": {
   "display_name": "cellpose",
   "language": "python",
   "name": "python3"
  },
  "language_info": {
   "codemirror_mode": {
    "name": "ipython",
    "version": 3
   },
   "file_extension": ".py",
   "mimetype": "text/x-python",
   "name": "python",
   "nbconvert_exporter": "python",
   "pygments_lexer": "ipython3",
   "version": "3.8.16"
  }
 },
 "nbformat": 4,
 "nbformat_minor": 2
}
