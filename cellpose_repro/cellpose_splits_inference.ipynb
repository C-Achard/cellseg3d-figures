{
 "cells": [
  {
   "cell_type": "code",
   "execution_count": 1,
   "metadata": {},
   "outputs": [],
   "source": [
    "# --------- REQUIRES A SEPARATE ENVIRONMENT WITH CELLPOSE INSTALLED --------- #\n",
    "from cellpose import models \n",
    "import pathlib as pt\n",
    "import numpy as np\n",
    "from tifffile import imread, imwrite"
   ]
  },
  {
   "cell_type": "code",
   "execution_count": 2,
   "metadata": {},
   "outputs": [],
   "source": [
    "path_images = pt.Path().home() / \"Desktop/Code/CELLSEG_BENCHMARK/RESULTS/SPLITS\"\n",
    "path_weights = path_images / \"CELLPOSE/weights\"\n",
    "seed = [\n",
    "    \"34936339\",\n",
    "    \"34936397\",\n",
    "    \"34936345\"\n",
    "    ]\n",
    "splits_folders = [\n",
    "    \"10\",\n",
    "    \"20\",\n",
    "    \"40\",\n",
    "    \"80\"\n",
    "]\n",
    "path_images = path_images / \"IMAGES\"\n",
    "image = imread(str(path_images / \"small_isotropic_visual.tif\"))"
   ]
  },
  {
   "cell_type": "code",
   "execution_count": 3,
   "metadata": {},
   "outputs": [],
   "source": [
    "weights = [f\"cellpose_{per}_{sd}\" for per in splits_folders for sd in seed]"
   ]
  },
  {
   "cell_type": "code",
   "execution_count": 4,
   "metadata": {},
   "outputs": [
    {
     "name": "stdout",
     "output_type": "stream",
     "text": [
      "Processing 34936339/10%\n",
      "Processing 34936397/10%\n",
      "Processing 34936345/10%\n",
      "Processing 34936339/20%\n",
      "Processing 34936397/20%\n",
      "Processing 34936345/20%\n",
      "Processing 34936339/40%\n",
      "Processing 34936397/40%\n",
      "Processing 34936345/40%\n",
      "Processing 34936339/80%\n",
      "Processing 34936397/80%\n",
      "Processing 34936345/80%\n"
     ]
    }
   ],
   "source": [
    "for w in weights:\n",
    "    seed = w.split(\"_\")[-1]\n",
    "    split = w.split(\"_\")[-2]\n",
    "    print(f\"Processing {seed}/{split}%\")\n",
    "    path_weight_file = path_weights / w / \"models\"\n",
    "    weight_file = list(path_weight_file.glob(\"*.cellpose\"))[0]\n",
    "    assert weight_file.exists(), f\"Weight file {weight_file} does not exist\"\n",
    "    model = models.CellposeModel(gpu=True, pretrained_model=str(weight_file), diam_mean=3.3)\n",
    "    masks, _, _ = model.eval(\n",
    "        x=image,\n",
    "        do_3D=True,\n",
    "        channels=[0, 0],\n",
    "        # resample=True,\n",
    "        # cellprob_threshold=-9\n",
    "    )\n",
    "    save_path = path_images / f\"../Analysis/cellpose/default/{w}.tif\"\n",
    "    imwrite(str(save_path), masks.astype(np.uint32))"
   ]
  }
 ],
 "metadata": {
  "kernelspec": {
   "display_name": "cellpose",
   "language": "python",
   "name": "python3"
  },
  "language_info": {
   "codemirror_mode": {
    "name": "ipython",
    "version": 3
   },
   "file_extension": ".py",
   "mimetype": "text/x-python",
   "name": "python",
   "nbconvert_exporter": "python",
   "pygments_lexer": "ipython3",
   "version": "3.8.16"
  }
 },
 "nbformat": 4,
 "nbformat_minor": 2
}
