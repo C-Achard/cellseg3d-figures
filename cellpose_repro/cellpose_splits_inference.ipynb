{
 "cells": [
  {
   "cell_type": "code",
   "execution_count": 4,
   "metadata": {},
   "outputs": [],
   "source": [
    "# --------- REQUIRES A SEPARATE ENVIRONMENT WITH CELLPOSE INSTALLED --------- #\n",
    "from cellpose import models \n",
    "import pathlib as pt\n",
    "import numpy as np\n",
    "from tifffile import imread, imwrite"
   ]
  },
  {
   "cell_type": "code",
   "execution_count": 5,
   "metadata": {},
   "outputs": [],
   "source": [
    "path_images = pt.Path().home() / \"Desktop/Code/CELLSEG_BENCHMARK/RESULTS/SPLITS\"\n",
    "path_weights = path_images / \"CELLPOSE/cellpose_datasets_splits/weights\"\n",
    "datasets = [\n",
    "    \"c1_5\",\n",
    "    \"c1-4_v\",\n",
    "    \"c1245_v\"\n",
    "]\n",
    "splits_folders = [\n",
    "    \"1090\",\n",
    "    # \"2080\",\n",
    "    # \"4060\",\n",
    "    # \"8020\"\n",
    "]\n",
    "path_images = path_images / \"IMAGES\"\n",
    "images = {\n",
    "    \"c1_5\": path_images / \"small_isotropic_visual.tif\",\n",
    "    \"c1-4_v\": path_images / \"c5image.tif\",\n",
    "    \"c1245_v\": path_images / \"c3image.tif\"\n",
    "}"
   ]
  },
  {
   "cell_type": "code",
   "execution_count": 6,
   "metadata": {},
   "outputs": [
    {
     "name": "stdout",
     "output_type": "stream",
     "text": [
      "Processing c1_5/1090%\n",
      "Processing c1-4_v/1090%\n",
      "Processing c1245_v/1090%\n"
     ]
    }
   ],
   "source": [
    "for dataset in datasets:\n",
    "    for split in splits_folders:\n",
    "        print(f\"Processing {dataset}/{split}%\")\n",
    "        weight_file = path_weights / f\"{dataset}_{split}.cellpose\"\n",
    "        # weight_file = list(path_weight_file.glob(\"*.cellpose\"))[0]\n",
    "        assert weight_file.exists(), f\"Weight file {weight_file} does not exist\"\n",
    "        save_path = path_images / f\"../Analysis/dataset_splits/{dataset}/cp/default/cellpose_{split}_labels.tif\"\n",
    "        if save_path.exists():\n",
    "            print(f\"File {save_path} already exists, skipping\")\n",
    "            continue\n",
    "        model = models.CellposeModel(gpu=True, pretrained_model=str(weight_file), diam_mean=3.3)\n",
    "        image = imread(str(images[dataset]))\n",
    "        masks, _, _ = model.eval(\n",
    "            x=image,\n",
    "            do_3D=True,\n",
    "            channels=[0, 0],\n",
    "            # resample=True,\n",
    "            # cellprob_threshold=-9\n",
    "        )\n",
    "        imwrite(str(save_path), masks.astype(np.uint32))"
   ]
  }
 ],
 "metadata": {
  "kernelspec": {
   "display_name": "cellpose",
   "language": "python",
   "name": "python3"
  },
  "language_info": {
   "codemirror_mode": {
    "name": "ipython",
    "version": 3
   },
   "file_extension": ".py",
   "mimetype": "text/x-python",
   "name": "python",
   "nbconvert_exporter": "python",
   "pygments_lexer": "ipython3",
   "version": "3.8.16"
  }
 },
 "nbformat": 4,
 "nbformat_minor": 2
}
