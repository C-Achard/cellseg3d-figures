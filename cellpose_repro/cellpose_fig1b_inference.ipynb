{
 "cells": [
  {
   "cell_type": "code",
   "execution_count": 1,
   "metadata": {},
   "outputs": [],
   "source": [
    "# --------- REQUIRES A SEPARATE ENVIRONMENT WITH CELLPOSE INSTALLED --------- #\n",
    "from cellpose import models \n",
    "import pathlib as pt\n",
    "import numpy as np\n",
    "from tifffile import imread, imwrite"
   ]
  },
  {
   "cell_type": "code",
   "execution_count": 5,
   "metadata": {},
   "outputs": [],
   "source": [
    "path_images = pt.Path().home() / \"Desktop/Code/CELLSEG_BENCHMARK/RESULTS/SUPERVISED_PERF_FIG\"\n",
    "path_weights = path_images / \"weights\"\n",
    "datasets = [\n",
    "    \"fold1\",\n",
    "    \"fold2\",\n",
    "    \"fold3\",\n",
    "]\n",
    "\n",
    "path_images = path_images / \"INFERENCE\"\n",
    "images = {\n",
    "    \"fold1\": path_images / \"fold1/visual.tif\",\n",
    "    \"fold2\": path_images / \"fold2/c5image.tif\",\n",
    "    \"fold3\": path_images / \"fold3/c3image.tif\"\n",
    "}"
   ]
  },
  {
   "cell_type": "code",
   "execution_count": 6,
   "metadata": {},
   "outputs": [
    {
     "name": "stdout",
     "output_type": "stream",
     "text": [
      "Processing fold1\n",
      "Processing fold2\n",
      "Processing fold3\n"
     ]
    }
   ],
   "source": [
    "for dataset in datasets:\n",
    "    print(f\"Processing {dataset}\")\n",
    "    path_weight_file = path_weights / f\"{dataset[:-1]}_{dataset[-1]}/cellpose\"\n",
    "    weight_file = list(path_weight_file.glob(\"*.cellpose\"))[0]\n",
    "    assert weight_file.exists(), f\"Weight file {weight_file} does not exist\"\n",
    "    save_path = path_images / f\"{dataset}/cellpose/default/cellpose_labels_default.tif\"\n",
    "    if save_path.exists():\n",
    "        print(f\"File {save_path} already exists, skipping\")\n",
    "        continue\n",
    "    model = models.CellposeModel(gpu=True, pretrained_model=str(weight_file), diam_mean=3.3)\n",
    "    image = imread(str(images[dataset]))\n",
    "    masks, _, _ = model.eval(\n",
    "        x=image,\n",
    "        do_3D=True,\n",
    "        channels=[0, 0],\n",
    "        # resample=True,\n",
    "        # cellprob_threshold=-9\n",
    "    )\n",
    "    imwrite(str(save_path), masks.astype(np.uint32))"
   ]
  }
 ],
 "metadata": {
  "kernelspec": {
   "display_name": "cellpose",
   "language": "python",
   "name": "python3"
  },
  "language_info": {
   "codemirror_mode": {
    "name": "ipython",
    "version": 3
   },
   "file_extension": ".py",
   "mimetype": "text/x-python",
   "name": "python",
   "nbconvert_exporter": "python",
   "pygments_lexer": "ipython3",
   "version": "3.8.16"
  }
 },
 "nbformat": 4,
 "nbformat_minor": 2
}
