{
 "cells": [
  {
   "cell_type": "markdown",
   "metadata": {},
   "source": [
    "# Cellpose training \n",
    "\n",
    "**THIS NOTEBOOK REQUIRES A SEPARATE ENVIRONMENT WITH CELLPOSE INSTALLED**\n",
    "\n",
    "Use this to retrain Cellpose with our data.\n",
    "\n",
    "This notebook was inspired by the StarDist training notebook."
   ]
  },
  {
   "cell_type": "code",
   "execution_count": null,
   "metadata": {},
   "outputs": [],
   "source": [
    "# --------- REQUIRES A SEPARATE CONDA ENVIRONMENT WITH CELLPOSE INSTALLED --------- #\n",
    "from cellpose.models import CellposeModel\n",
    "from glob import glob\n",
    "from tifffile import imread\n",
    "import numpy as np\n",
    "import pathlib as pt"
   ]
  },
  {
   "cell_type": "code",
   "execution_count": null,
   "metadata": {},
   "outputs": [],
   "source": [
    "VAL_PERCENT = 0.2\n",
    "SAVE_NAME =\"fold2_cellpose.cellpose\"\n",
    "CELL_MEAN_DIAM = 3.3\n",
    "\n",
    "path_images = pt.Path.home() / \"Desktop/Code/CELLSEG_BENCHMARK/TPH2_mesospim/TRAINING\"\n",
    "X_paths = sorted(glob(str(path_images / '*.tif')))\n",
    "Y_paths = sorted(glob(str(path_images / 'labels/*.tif')))"
   ]
  },
  {
   "cell_type": "code",
   "execution_count": null,
   "metadata": {},
   "outputs": [],
   "source": [
    "def convert_2d(images_array, images_names=None, dtype=np.float32):\n",
    "    images_2d = []\n",
    "    images_names_2d = [] if images_names is not None else None\n",
    "    for i, image in enumerate(images_array):\n",
    "        for j, slice in enumerate(image):\n",
    "            images_2d.append(slice.astype(dtype))\n",
    "            if images_names is not None:\n",
    "                images_names_2d.append(f\"{pt.Path(images_names[i]).stem}_{j}.tif\")\n",
    "    return images_2d, images_names_2d"
   ]
  },
  {
   "cell_type": "code",
   "execution_count": null,
   "metadata": {},
   "outputs": [],
   "source": [
    "X = list(map(imread,X_paths))\n",
    "Y = list(map(imread,Y_paths))\n",
    "# split X and Y into training and validation sets before 2d conversion\n",
    "val_idx = int(len(X) * (1 - VAL_PERCENT))\n",
    "X_trn, X_val = X[:val_idx], X[val_idx:]\n",
    "Y_trn, Y_val  = Y[:val_idx], Y[val_idx:]\n",
    "print(\"Train:\")\n",
    "[print(pt.Path(p).stem) for p in X_paths[:val_idx]]\n",
    "print(\"*\"*20)\n",
    "print(\"Validation:\")\n",
    "[print(pt.Path(p).stem) for p in X_paths[val_idx:]]\n",
    "# convert to 2d\n",
    "X_trn_2d, X_trn_2d_paths = convert_2d(X_trn, X_paths[:val_idx])\n",
    "Y_trn_2d, Y_trn_2d_paths = convert_2d(Y_trn, Y_paths[:val_idx], dtype=np.uint16)\n",
    "X_val_2d, X_val_2d_paths = convert_2d(X_val, X_paths[val_idx:])\n",
    "Y_val_2d, Y_val_2d_paths = convert_2d(Y_val, Y_paths[val_idx:], dtype=np.uint16)\n",
    "assert len(X_trn_2d) == len(Y_trn_2d)\n",
    "assert len(X_val_2d) == len(Y_val_2d)"
   ]
  },
  {
   "cell_type": "code",
   "execution_count": null,
   "metadata": {},
   "outputs": [],
   "source": [
    "print(\"Parameters :\")\n",
    "print(f\"VAL_PERCENT : {VAL_PERCENT}\")\n",
    "print(f\"SAVE_NAME : {SAVE_NAME}\")\n",
    "print(f\"Path images : {path_images}\")\n",
    "print(f\"cell_mean_diam : {CELL_MEAN_DIAM}\")"
   ]
  },
  {
   "cell_type": "code",
   "execution_count": null,
   "metadata": {},
   "outputs": [],
   "source": [
    "print('number of images (2d): %3d' % len(X_trn_2d+X_val_2d))\n",
    "print('- training:       %3d' % len(X_trn_2d))\n",
    "print('- validation:     %3d' % len(X_val_2d))"
   ]
  },
  {
   "cell_type": "code",
   "execution_count": null,
   "metadata": {},
   "outputs": [],
   "source": [
    "model = CellposeModel(\n",
    "        gpu=True,\n",
    "        pretrained_model=False,\n",
    "        model_type=None,\n",
    "        diam_mean=CELL_MEAN_DIAM, # 3.3,\n",
    "        # nchan=1,\n",
    "    )"
   ]
  },
  {
   "cell_type": "code",
   "execution_count": null,
   "metadata": {},
   "outputs": [],
   "source": [
    "model.train(\n",
    "    train_data=X_trn_2d,\n",
    "    train_labels=Y_trn_2d,\n",
    "    # train_files=X_trn_paths,\n",
    "    test_data=X_val_2d,\n",
    "    test_labels=Y_val_2d,\n",
    "    # test_files=X_val_paths,\n",
    "    save_path=\"./\",\n",
    "    save_every=10,\n",
    "    n_epochs=50,\n",
    "    channels=[0,0],\n",
    "    model_name=SAVE_NAME,\n",
    ")"
   ]
  }
 ],
 "metadata": {
  "kernelspec": {
   "display_name": "cellpose",
   "language": "python",
   "name": "python3"
  },
  "language_info": {
   "codemirror_mode": {
    "name": "ipython",
    "version": 3
   },
   "file_extension": ".py",
   "mimetype": "text/x-python",
   "name": "python",
   "nbconvert_exporter": "python",
   "pygments_lexer": "ipython3",
   "version": "3.8.16"
  }
 },
 "nbformat": 4,
 "nbformat_minor": 2
}
