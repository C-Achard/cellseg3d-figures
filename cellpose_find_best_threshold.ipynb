{
 "cells": [
  {
   "cell_type": "code",
   "execution_count": 1,
   "metadata": {},
   "outputs": [],
   "source": [
    "# --------- REQUIRES A SEPARATE ENVIRONMENT WITH CELLPOSE INSTALLED --------- #\n",
    "from cellpose import models \n",
    "from pathlib import Path\n",
    "import numpy as np\n",
    "from tifffile import imread, imwrite"
   ]
  },
  {
   "cell_type": "code",
   "execution_count": 2,
   "metadata": {},
   "outputs": [
    {
     "data": {
      "text/plain": [
       "[PosixPath('/data/cyril/CELLSEG_BENCHMARK/RESULTS/SUPERVISED_PERF_FIG/TRAINING/fold1/IMAGES/c1image.tif'),\n",
       " PosixPath('/data/cyril/CELLSEG_BENCHMARK/RESULTS/SUPERVISED_PERF_FIG/TRAINING/fold1/IMAGES/c3image.tif'),\n",
       " PosixPath('/data/cyril/CELLSEG_BENCHMARK/RESULTS/SUPERVISED_PERF_FIG/TRAINING/fold1/IMAGES/c2image.tif'),\n",
       " PosixPath('/data/cyril/CELLSEG_BENCHMARK/RESULTS/SUPERVISED_PERF_FIG/TRAINING/fold1/IMAGES/c4image.tif'),\n",
       " PosixPath('/data/cyril/CELLSEG_BENCHMARK/RESULTS/SUPERVISED_PERF_FIG/TRAINING/fold1/IMAGES/c5image.tif')]"
      ]
     },
     "execution_count": 2,
     "metadata": {},
     "output_type": "execute_result"
    }
   ],
   "source": [
    "DATA_PATH = Path(\"/data/cyril/CELLSEG_BENCHMARK/RESULTS/SUPERVISED_PERF_FIG/\").resolve()\n",
    "fold = 2\n",
    "# pretrained_path = DATA_PATH / f\"weights/fold_{fold}/cellpose/supervised_perf_fig.cellpose\" \n",
    "pretrained_path = DATA_PATH / f\"weights/fold_{fold}/cellpose/fold{fold}_cellpose.cellpose\" \n",
    "assert pretrained_path.is_file()\n",
    "images_path = DATA_PATH / f\"TRAINING/fold{fold}/IMAGES\"\n",
    "assert images_path.is_dir()\n",
    "images_paths = list(images_path.glob(\"*tif\"))\n",
    "\n",
    "images_paths"
   ]
  },
  {
   "cell_type": "code",
   "execution_count": 3,
   "metadata": {},
   "outputs": [],
   "source": [
    "save_dir = DATA_PATH / f\"TRAINING/fold{fold}/cellpose\"\n",
    "if not save_dir.is_dir():\n",
    "    save_dir.make_dir(parents=False, exist_ok=True)"
   ]
  },
  {
   "cell_type": "code",
   "execution_count": 4,
   "metadata": {},
   "outputs": [],
   "source": [
    "resample = [True, False]\n",
    "prob_threshs = np.arange(-12, 13, 1) # from -12 to 12\n",
    "\n",
    "model = models.CellposeModel(gpu=True, pretrained_model=str(pretrained_path), diam_mean=3.3)"
   ]
  },
  {
   "cell_type": "code",
   "execution_count": 5,
   "metadata": {},
   "outputs": [
    {
     "name": "stdout",
     "output_type": "stream",
     "text": [
      "c1image\n",
      "c3image\n",
      "c2image\n",
      "c4image\n",
      "c5image\n"
     ]
    }
   ],
   "source": [
    "for image_p in images_paths:\n",
    "    im_name = image_p.stem\n",
    "    print(im_name)\n",
    "    # for resample_val in resample:\n",
    "    for prob_t in prob_threshs:\n",
    "        masks, flows, styles = model.eval(\n",
    "            x=imread(str(image_p)),\n",
    "            do_3D=True,\n",
    "            channels=[0,0],\n",
    "            # resample=resample_val,\n",
    "            resample=True,\n",
    "            cellprob_threshold=prob_t,\n",
    "        )\n",
    "        save_name = str(save_dir / f\"{im_name}_cellpose_masks_t_{prob_t}.tif\")\n",
    "        imwrite(save_name, masks)"
   ]
  }
 ],
 "metadata": {
  "kernelspec": {
   "display_name": "Python 3 (ipykernel)",
   "language": "python",
   "name": "python3"
  },
  "language_info": {
   "codemirror_mode": {
    "name": "ipython",
    "version": 3
   },
   "file_extension": ".py",
   "mimetype": "text/x-python",
   "name": "python",
   "nbconvert_exporter": "python",
   "pygments_lexer": "ipython3",
   "version": "3.8.16"
  }
 },
 "nbformat": 4,
 "nbformat_minor": 4
}
