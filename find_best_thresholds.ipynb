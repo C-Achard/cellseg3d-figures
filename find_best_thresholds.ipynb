{
 "cells": [
  {
   "cell_type": "markdown",
   "metadata": {},
   "source": [
    "# Find best thresholds\n",
    "\n",
    "This notebook estimates the best threshold to use for a model, based on inference on the training set. \n",
    "This threshold is then used for inference on the test set."
   ]
  },
  {
   "cell_type": "code",
   "execution_count": null,
   "metadata": {},
   "outputs": [],
   "source": [
    "from pathlib import pathlib\n",
    "from tifffile import imread, imwrite\n",
    "import numpy as np\n",
    "from stardist import matching\n",
    "\n",
    "from utils import *"
   ]
  },
  {
   "cell_type": "code",
   "execution_count": null,
   "metadata": {},
   "outputs": [],
   "source": [
    "path1 = Path.home() / \"Desktop/Code/CELLSEG_BENCHMARK/TPH2_mesospim/somatomotor_iso\"\n",
    "path2 = Path.home() / \"Desktop/Code/CELLSEG_BENCHMARK/TPH2_mesospim/visual_iso\""
   ]
  }
 ],
 "metadata": {
  "kernelspec": {
   "display_name": "cellseg3d-figures",
   "language": "python",
   "name": "python3"
  },
  "language_info": {
   "name": "python",
   "version": "3.9.18"
  }
 },
 "nbformat": 4,
 "nbformat_minor": 2
}
