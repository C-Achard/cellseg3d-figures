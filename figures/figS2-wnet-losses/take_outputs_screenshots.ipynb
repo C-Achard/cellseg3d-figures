{
 "cells": [
  {
   "cell_type": "markdown",
   "metadata": {},
   "source": [
    "# Training screenshots\n",
    "\n",
    "This is a utility notebook to take screenshots of the training process of the model."
   ]
  },
  {
   "cell_type": "code",
   "execution_count": 3,
   "metadata": {},
   "outputs": [],
   "source": [
    "import napari\n",
    "from tifffile import imread\n",
    "from pathlib import Path"
   ]
  },
  {
   "cell_type": "code",
   "execution_count": null,
   "metadata": {},
   "outputs": [],
   "source": [
    "viewer = napari.Viewer()\n",
    "image_path = Path.home() / \"Desktop/wnet_train_screens\""
   ]
  },
  {
   "cell_type": "markdown",
   "metadata": {},
   "source": [
    "Launch the training process in the plugin, and then use the following cells to take screenshots of the training process."
   ]
  },
  {
   "cell_type": "code",
   "execution_count": 11,
   "metadata": {},
   "outputs": [],
   "source": [
    "viewer.dims.ndisplay = 3\n",
    "# note that grid mode should be disabled for this to work properly\n",
    "viewer.grid.enabled = False\n",
    "# move to channel 1 (foreground channel)\n",
    "viewer.dims.set_current_step(0, 1)\n",
    "for layer in viewer.layers:\n",
    "    if \"Encoder\" in layer.name:\n",
    "        layer.colormap = \"turbo\"\n",
    "    if \"Decoder\" in layer.name:\n",
    "        layer.colormap = \"viridis\"\n",
    "    if \"Input\" in layer.name:\n",
    "        layer.colormap = \"inferno\""
   ]
  },
  {
   "cell_type": "code",
   "execution_count": null,
   "metadata": {},
   "outputs": [],
   "source": [
    "# hide all layers, show the current layer, take a screenshot\n",
    "screens_path =image_path / \"screenshots\"\n",
    "screens_path.mkdir(exist_ok=True)\n",
    "# hide all layers\n",
    "for layer in viewer.layers:\n",
    "    layer.visible = False\n",
    "\n",
    "for i, layer in enumerate(viewer.layers):\n",
    "    layer.visible = True\n",
    "    viewer.screenshot(str(screens_path / f\"{layer.name}.png\"))\n",
    "    layer.visible = False"
   ]
  },
  {
   "cell_type": "markdown",
   "metadata": {},
   "source": [
    "Show taken screenshots once you are done."
   ]
  },
  {
   "cell_type": "code",
   "execution_count": 7,
   "metadata": {},
   "outputs": [],
   "source": [
    "images_paths = list(image_path.glob(\"*.tif\"))\n",
    "images = [imread(str(image)) for image in images_paths]"
   ]
  },
  {
   "cell_type": "code",
   "execution_count": 8,
   "metadata": {},
   "outputs": [],
   "source": [
    "for i, image in enumerate(images):\n",
    "    viewer.add_image(image, name=f\"{str(images_paths[i].stem)}\")"
   ]
  }
 ],
 "metadata": {
  "kernelspec": {
   "display_name": "cellseg3d-figures",
   "language": "python",
   "name": "python3"
  },
  "language_info": {
   "codemirror_mode": {
    "name": "ipython",
    "version": 3
   },
   "file_extension": ".py",
   "mimetype": "text/x-python",
   "name": "python",
   "nbconvert_exporter": "python",
   "pygments_lexer": "ipython3",
   "version": "3.9.18"
  }
 },
 "nbformat": 4,
 "nbformat_minor": 2
}
