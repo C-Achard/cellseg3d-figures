{
 "cells": [
  {
   "cell_type": "code",
   "execution_count": null,
   "metadata": {},
   "outputs": [],
   "source": [
    "from __future__ import print_function, unicode_literals, absolute_import, division\n",
    "import numpy as np\n",
    "%matplotlib inline\n",
    "%config InlineBackend.figure_format = 'retina'\n",
    "\n",
    "from tifffile import imread\n",
    "from csbdeep.utils import Path, normalize\n",
    "from csbdeep.io import save_tiff_imagej_compatible\n",
    "\n",
    "from stardist import random_label_cmap\n",
    "from stardist.models import StarDist3D\n",
    "\n",
    "\n",
    "np.random.seed(6)\n",
    "lbl_cmap = random_label_cmap()"
   ]
  },
  {
   "cell_type": "code",
   "execution_count": null,
   "metadata": {},
   "outputs": [],
   "source": [
    "PATH_RESULTS = Path(\"C:/Users/Cyril/Desktop/Code/CELLSEG_BENCHMARK/RESULTS/WNET OTHERS/\").resolve()\n",
    "\n",
    "PATHS = {\n",
    "    \"Mouse skull\": (\n",
    "        Path(\"./MouseSkull\"), \n",
    "        PATH_RESULTS / \"Mouse-Skull-Nuclei-CBG/X1.tif\",\n",
    "        PATH_RESULTS / \"Mouse-Skull-Nuclei-CBG/stardist\"\n",
    "        ),\n",
    "    \"Platy-ISH\" : (\n",
    "        Path(\"./PlISH\"), \n",
    "        PATH_RESULTS / \"Platynereis-ISH-Nuclei-CBG/X01_cropped_downsampled.tif\", \n",
    "        PATH_RESULTS / \"Platynereis-ISH-CBG/stardist\"),\n",
    "    \"Platy-Nuc\" : (\n",
    "        Path(\"./PlNuc\"), \n",
    "        PATH_RESULTS / \"Platynereis-Nuclei-CBG/downsmapled_cropped_dataset_hdf5_100_0.tif\",\n",
    "        PATH_RESULTS / \"Platynereis-Nuclei-CBG/stardist\"),\n",
    "}"
   ]
  },
  {
   "cell_type": "code",
   "execution_count": null,
   "metadata": {},
   "outputs": [],
   "source": [
    "for key, paths in PATHS.items():\n",
    "    if key == \"Mouse skull\": # done below with tiled predictions\n",
    "        continue\n",
    "    p_weights, p_images, p_results = (Path(p) for p in paths)\n",
    "    p_weights = p_weights.resolve()\n",
    "    p_images = p_images.resolve()\n",
    "    print(f\"Model: {key}\")\n",
    "    print(f\"Loading model from {p_weights}\")\n",
    "    print(f\"Loading images from {p_images}\")\n",
    "    print(f\"Saving results to {p_results}\")\n",
    "    if not p_results.exists():\n",
    "        p_results.mkdir(parents=True, exist_ok=False)\n",
    "\n",
    "    X = str(p_images.resolve())\n",
    "    X = imread(X)\n",
    "    print(f\"Loaded shape {X.shape} from {p_images}\")\n",
    "\n",
    "    n_channel = 1 if X.ndim == 3 else X[0].shape[-1]\n",
    "    axis_norm = (0,1,2)   # normalize channels independently\n",
    "    # axis_norm = (0,1,2,3) # normalize channels jointly\n",
    "    if n_channel > 1:\n",
    "        print(\"Normalizing image channels %s.\" % ('jointly' if axis_norm is None or 2 in axis_norm else 'independently'))\n",
    "        \n",
    "    model = StarDist3D(None, name='stardist', basedir=str(p_weights / \"models\"))\n",
    "    img = normalize(X, 1,99.8, axis=axis_norm)\n",
    "    labels, details = model.predict_instances(img)\n",
    "    save_tiff_imagej_compatible(\n",
    "        f\"{str(p_results)}/{key}_labels.tif\",\n",
    "        labels, axes='ZYX')"
   ]
  },
  {
   "cell_type": "code",
   "execution_count": null,
   "metadata": {},
   "outputs": [],
   "source": [
    "p_weights, p_images, p_results = PATHS[\"Mouse skull\"]\n",
    "\n",
    "X = imread(str(p_images.resolve()))\n",
    "n_channel = 1 if X.ndim == 3 else X[0].shape[-1]\n",
    "axis_norm = (0,1,2)   # normalize channels independently\n",
    "\n",
    "\n",
    "# Load the model\n",
    "model = StarDist3D(None, name='stardist', basedir=str(p_weights / \"models\"))\n",
    "\n",
    "# Normalize the image\n",
    "img = normalize(X, 1, 99.8, axis=axis_norm)"
   ]
  },
  {
   "cell_type": "code",
   "execution_count": null,
   "metadata": {},
   "outputs": [],
   "source": [
    "labels, details = model.predict_instances(img, n_tiles=(1,2,2))\n"
   ]
  },
  {
   "cell_type": "code",
   "execution_count": null,
   "metadata": {},
   "outputs": [],
   "source": [
    "from tifffile import imwrite\n",
    "imwrite(f\"{str(p_results)}/Mouse_skull_labels.tif\", labels)"
   ]
  },
  {
   "cell_type": "code",
   "execution_count": null,
   "metadata": {},
   "outputs": [],
   "source": []
  }
 ],
 "metadata": {
  "kernelspec": {
   "display_name": "stardist",
   "language": "python",
   "name": "python3"
  },
  "language_info": {
   "codemirror_mode": {
    "name": "ipython",
    "version": 3
   },
   "file_extension": ".py",
   "mimetype": "text/x-python",
   "name": "python",
   "nbconvert_exporter": "python",
   "pygments_lexer": "ipython3",
   "version": "3.8.16"
  }
 },
 "nbformat": 4,
 "nbformat_minor": 2
}
