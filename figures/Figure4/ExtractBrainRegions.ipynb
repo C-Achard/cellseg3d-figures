{
 "cells": [
  {
   "cell_type": "markdown",
   "metadata": {},
   "source": [
    "# Demo Mouse brain alignment and c-Fos analysis\n",
    "\n",
    "Assumes:\n",
    "- You have whole brain data from mesoSPIM (two channels, imaged with c-FOS and autofluorescence)\n",
    "- You already ran BrainReg on them and have their registered atlas (See our config_brainreg parameters)\n",
    "    - If not,launch CellSeg3D's napari GUI, import your autofluorescence image, Click on Plugins/Atlas Registration (brainreg), enter the parameters from the config (note that voxel size is specific to your experiment and specified in the metadata of your mesoSPIM experiment). Orientation as well. Can be checked using check orientation button. See brainreg doc: https://brainglobe.info/tutorials/tutorial-whole-brain-registration.html# for help.\n",
    "- You should update the hardcoded paths yourself based on where the different files are located\n",
    "\n",
    "Does:\n",
    "1. Resizes the atlas based on the brain of the mouse\n",
    "2. Match cfos brains with their registered homolog and cut out regions of interest\n",
    "3. Remove autofluorescence\n",
    "4. Remove borders after inference\n",
    "\n",
    "Then:\n",
    "\n",
    "- Thresholding and Remove artifacts and segmentation\n",
    "- Count cells"
   ]
  },
  {
   "cell_type": "code",
   "execution_count": 9,
   "metadata": {},
   "outputs": [],
   "source": [
    "config_bg = {\n",
    "  \"additional_images\": [],\n",
    "  \"voxel_sizes\": [5.26, 5.26, 5.0],\n",
    "  \"output_directory\": output_directory_path,\n",
    "  \"atlas\": \"allen_mouse_25um\",\n",
    "  \"n_free_cpus\": 8,\n",
    "  \"hemisphere_selection\": \"full\",\n",
    "  \"default_voxel_size_x\": 5.26,\n",
    "  \"default_voxel_size_y\": 5.26,\n",
    "  \"default_voxel_size_z\": 5.0,\n",
    "  \"orientation\": \"sar\",\n",
    "  \"preprocessing\": \"default\",\n",
    "  \"sort_input_file\": False,\n",
    "  \"save_orientation\": False,\n",
    "  \"debug\": False,\n",
    "  \"affine_n_steps\": 6,\n",
    "  \"affine_use_n_steps\": 5,\n",
    "  \"freeform_n_steps\": 6,\n",
    "  \"freeform_use_n_steps\": 5,\n",
    "  \"bending_energy_weight\": 0.85,\n",
    "  \"grid_spacing\": -10,\n",
    "  \"smoothing_sigma_reference\": -1.0,\n",
    "  \"smoothing_sigma_floating\": -1.0,\n",
    "  \"histogram_n_bins_floating\": 128,\n",
    "  \"histogram_n_bins_reference\": 128\n",
    "}"
   ]
  },
  {
   "cell_type": "markdown",
   "metadata": {},
   "source": [
    "# 0. Imports"
   ]
  },
  {
   "cell_type": "code",
   "execution_count": 1,
   "metadata": {},
   "outputs": [],
   "source": [
    "import tifffile\n",
    "import skimage\n",
    "import time\n",
    "import os\n",
    "import glob\n",
    "import sys\n",
    "import pandas as pd\n",
    "import numpy as np\n",
    "import napari_cellseg3d\n",
    "from napari_cellseg3d.dev_scripts import whole_brain_utils as wh"
   ]
  },
  {
   "cell_type": "markdown",
   "metadata": {},
   "source": [
    "# 1. Resize atlas"
   ]
  },
  {
   "cell_type": "code",
   "execution_count": 2,
   "metadata": {},
   "outputs": [],
   "source": [
    "main_exp_path = '/data/seb/CFOS_exp/TestBatch/'"
   ]
  },
  {
   "cell_type": "code",
   "execution_count": 20,
   "metadata": {},
   "outputs": [
    {
     "name": "stdout",
     "output_type": "stream",
     "text": [
      "Please enter the name of the mouse: ALUSKY\n",
      "Resized atlas saved successfully at: /data/seb/CFOS_exp/TestBatch/reg_results_ALUSKY/registered_atlas_resize_ALUSKY.tiff\n"
     ]
    }
   ],
   "source": [
    "#2023-10-30\n",
    "#Sebastien B. Hausmann\n",
    "#script order: 1\n",
    "\n",
    "# Script to resize atlas based on related brain\n",
    "from tifffile import imread, imwrite\n",
    "from skimage.transform import resize\n",
    "from bg_space import map_stack_to\n",
    "\n",
    "# Prompt user for mouse name\n",
    "mouse_name = input(\"Please enter the name of the mouse: \")\n",
    "\n",
    "# Validate mouse name\n",
    "if not mouse_name:\n",
    "    raise ValueError(\"Mouse name cannot be empty.\")\n",
    "\n",
    "# Paths\n",
    "brain_image_path_template = f'{main_exp_path}{mouse_name}*Mag1.25x*Ch488*.tiff'\n",
    "brain_image_path = glob.glob(brain_image_path_template)\n",
    "\n",
    "# Validate brain image path\n",
    "if not len(brain_image_path):\n",
    "    raise FileNotFoundError(f\"Brain image for mouse {mouse_name} not found at path: {brain_image_path}\")\n",
    "\n",
    "corresponding_brain_atlas_path = f'{main_exp_path}reg_results_{mouse_name}/'\n",
    "\n",
    "# Validate atlas path\n",
    "if not os.path.exists(corresponding_brain_atlas_path):\n",
    "    raise FileNotFoundError(f\"Corresponding brain atlas directory for mouse {mouse_name} not found at path: {corresponding_brain_atlas_path}\")\n",
    "\n",
    "# Get actual shape of main image\n",
    "try:\n",
    "    brain_image_shape = imread(brain_image_path).shape\n",
    "except Exception as e:\n",
    "    raise IOError(f\"Error reading brain image at {brain_image_path}. Error: {str(e)}\")\n",
    "\n",
    "# Get atlas\n",
    "atlas_path = os.path.join(corresponding_brain_atlas_path, 'registered_atlas.tiff')\n",
    "if not os.path.exists(atlas_path):\n",
    "    raise FileNotFoundError(f\"Atlas image not found at path: {atlas_path}\")\n",
    "\n",
    "try:\n",
    "    atlas = imread(atlas_path)\n",
    "except Exception as e:\n",
    "    raise IOError(f\"Error reading atlas image at {atlas_path}. Error: {str(e)}\")\n",
    "\n",
    "target_space = [\"s\", \"a\", \"r\"]\n",
    "source_space = [\"a\", \"s\", \"r\"]\n",
    "\n",
    "# Map atlas and resize it\n",
    "atlas = map_stack_to(source_space, target_space, atlas, copy=False)\n",
    "atlas = resize(atlas, brain_image_shape, order=0, preserve_range=True, anti_aliasing=False)\n",
    "\n",
    "# Save image\n",
    "output_path = os.path.join(corresponding_brain_atlas_path, f'registered_atlas_resize_{mouse_name}.tiff')\n",
    "try:\n",
    "    imwrite(output_path, atlas)\n",
    "    print(f\"Resized atlas saved successfully at: {output_path}\")\n",
    "except Exception as e:\n",
    "    raise IOError(f\"Error writing resized atlas to {output_path}. Error: {str(e)}\")"
   ]
  },
  {
   "cell_type": "markdown",
   "metadata": {},
   "source": [
    "# 2. Match cfos brains with their registered homolog and cut out regions of interest"
   ]
  },
  {
   "cell_type": "code",
   "execution_count": 35,
   "metadata": {},
   "outputs": [
    {
     "name": "stdout",
     "output_type": "stream",
     "text": [
      "Enter mouse name, can be left blank to do all: ALUSKY\n",
      "cfos channel? (y/n): n\n",
      "Enter ONE allen brain atlas region of interest name (e.g., visual, retrosplenial, primary motor): primary motor\n",
      "brain: /data/seb/CFOS_exp/TestBatch/ALUSKY_Mag1.25x_Tile0_Ch488_Sh0_Rot0.tiff\n",
      "Create mask\n",
      "Get indices\n",
      "Zero brain image\n",
      "Saving now\n",
      "Done\n",
      "--- 243.15659046173096 seconds ---\n",
      "Next Brain...\n"
     ]
    }
   ],
   "source": [
    "#2023-10-30\n",
    "#Sebastien B. Hausmann\n",
    "#script order: 2\n",
    "\n",
    "# Script to match the cfos brains with their registered homolog brain and cut out regions of interest\n",
    "# Saves it to a smaller file usable for cell segmentation\n",
    "## IMPORTANT: Run this script twice, one time for autofluo and one time for cFOS only. You will be prompted when running it\n",
    "\n",
    "# Add a variable to specify a specific mouse name (leave empty to process all files)\n",
    "specific_mouse_name = input('Enter mouse name, can be left blank to do all: ') #can be leaved blank for all mice\n",
    "cfos = input('cfos channel? (y/n): ')\n",
    "\n",
    "cfos_images_path = main_exp_path\n",
    "registered_brains_path = f'{main_exp_path}'\n",
    "atlas_ID_dict = f'/{main_exp_path}allen_mouse_25um_csv_ref.csv'\n",
    "cropped_regions_output_folder = f'/{main_exp_path}'\n",
    "\n",
    "# Either enter Labels or keywords\n",
    "regions_of_interest = input('Enter ONE allen brain atlas region of interest name (e.g., visual, retrosplenial, primary motor): ') #'retrosplenial' # 'visual' #'primary motor'\n",
    "\n",
    "# Filter out your regions of interest to get the coresponding labels\n",
    "df = pd.read_csv(atlas_ID_dict)\n",
    "filtered_df = df[df['name'].str.contains(regions_of_interest, case=False, na=False)]\n",
    "area_ids = np.array(filtered_df['id'])\n",
    "\n",
    "# Find all tiff files in cfos_images_path containing a mouse name followed by Mag1.25x and containing Ch561.\n",
    "if cfos=='y':\n",
    "    pattern = os.path.join(cfos_images_path, '*Mag1.25x*Ch561*.tiff')\n",
    "elif cfos=='n':\n",
    "    pattern = os.path.join(cfos_images_path, '*Mag1.25x*Ch488*.tiff')\n",
    "else:\n",
    "    sys.exit()\n",
    "    \n",
    "cfos_tiff_files = glob.glob(pattern)\n",
    "\n",
    "# Do the same for registered brains\n",
    "pattern = os.path.join(registered_brains_path, 'registered*.tiff')\n",
    "registered_brains_tiff_files = glob.glob(pattern)\n",
    "   \n",
    "for file_path in cfos_tiff_files:\n",
    "\n",
    "    # Extract the mouse name from the file path\n",
    "    mouse_name = os.path.basename(file_path).split('_Mag1.25x')[0]\n",
    "    # Check if the specific_mouse_name is set and if the current file matches the mouse name\n",
    "    if specific_mouse_name and specific_mouse_name != mouse_name:\n",
    "        continue  # Skip this file as it doesn't match the specified mouse name\n",
    "\n",
    "    start_time = time.time()\n",
    "\n",
    "    print('brain:', file_path)\n",
    "    # Load the tiff file\n",
    "    brain_image = imread(file_path)\n",
    "\n",
    "    # Find the corresponding atlas_image based on the mouse_name\n",
    "    matched_atlas_path = [path for path in registered_brains_tiff_files if mouse_name in path]\n",
    "\n",
    "    if matched_atlas_path and len(matched_atlas_path)==1:\n",
    "        atlas_image = imread(matched_atlas_path[0]).data\n",
    "    else:\n",
    "        print(f\"No registered brain found for mouse: {mouse_name}\")\n",
    "        break\n",
    "\n",
    "    # Create a mask with regions of interest\n",
    "    print('Create mask')\n",
    "    mask = np.isin(atlas_image,area_ids) #\n",
    "\n",
    "    # Corresponding indices\n",
    "    print('Get indices')\n",
    "    inds = np.where(mask)\n",
    "\n",
    "    # 0 all the rest\n",
    "    print('Zero brain image')\n",
    "    brain_image[~mask] = 0\n",
    "\n",
    "    # Finds mins and maxs to get the cropping coordinates\n",
    "    mins = np.min(inds,axis=1)\n",
    "    maxs = np.max(inds,axis=1)\n",
    "\n",
    "    # Get the cropped region\n",
    "    cropped_region = brain_image[mins[0]:maxs[0], mins[1]:maxs[1], mins[2]:maxs[2]]\n",
    "    \n",
    "    # Save the result to a desired location\n",
    "    if cfos!='y':\n",
    "        output_filename = f\"{mouse_name}_ROI_{regions_of_interest}_autofluo.tiff\"\n",
    "    else:\n",
    "        output_filename = f\"{mouse_name}_ROI_{regions_of_interest}.tiff\"\n",
    "    output_path = os.path.join(cropped_regions_output_folder, output_filename)\n",
    "    print('Saving now')\n",
    "    imwrite(output_path, cropped_region)\n",
    "    print('Done')\n",
    "    print(\"--- %s seconds ---\" % (time.time() - start_time))\n",
    "    print('Next Brain...')"
   ]
  },
  {
   "cell_type": "markdown",
   "metadata": {},
   "source": [
    "# 3. Remove autofluorescence"
   ]
  },
  {
   "cell_type": "code",
   "execution_count": 36,
   "metadata": {},
   "outputs": [
    {
     "name": "stdout",
     "output_type": "stream",
     "text": [
      "Enter specific mouse name, or leave blank for all mice: ALUSKY\n",
      "Enter specific brain region: primary motor\n",
      "Remove background for: /data/seb/CFOS_exp/TestBatch/ALUSKY_ROI_primary motor_autofluo.tiff\n"
     ]
    }
   ],
   "source": [
    "#2023-10-30\n",
    "#Sebastien B. Hausmann\n",
    "#script order: 3\n",
    "\n",
    "cropped_images_folder = main_exp_path\n",
    "\n",
    "specific_mouse_name = input('Enter specific mouse name, or leave blank for all mice: ')\n",
    "brain_region = input('Enter specific brain region: ')\n",
    "\n",
    "# Find files in folder that contain autofluo in their name\n",
    "pattern = os.path.join(cropped_images_folder, '*{}_autofluo.tiff'.format(brain_region))\n",
    "autofluo_tiff_files = glob.glob(pattern)\n",
    "\n",
    "for autofluo_file in autofluo_tiff_files:\n",
    "    # Extract the mouse name from the file path\n",
    "    mouse_name = os.path.basename(autofluo_file).split('_')[0]\n",
    "    #print(mouse_name)\n",
    "    # Check if the specific_mouse_name is set and if the current file matches the mouse name\n",
    "    if specific_mouse_name and specific_mouse_name != mouse_name:\n",
    "        continue  # Skip this file as it doesn't match the specified mouse name\n",
    "\n",
    "    print('Remove background for:',autofluo_file)\n",
    "    # Load images\n",
    "    ## Load background image (autofluo)\n",
    "    background_image = imread(autofluo_file)\n",
    "    ## Load cfos image\n",
    "    cfos_file = autofluo_file.replace('_autofluo', '')\n",
    "    cfos_image = imread(cfos_file)\n",
    "\n",
    "    # Convert both into int32 to allow correct sutraction\n",
    "    background_image = background_image.astype(np.int32)\n",
    "    cfos_image = cfos_image.astype(np.int32)\n",
    "\n",
    "    # Background corrected image:\n",
    "    corrected = cfos_image-background_image\n",
    "\n",
    "    # Zero all the values lower than 0\n",
    "    corrected[corrected<0] = 0\n",
    "    \n",
    "    corrected = corrected.astype(np.uint16)\n",
    "\n",
    "    # Save the result to a desired location\n",
    "    output_filename = autofluo_file.replace('_autofluo', '_backgroundCorrected')\n",
    "    output_path = os.path.join(cropped_images_folder, output_filename)\n",
    "    imwrite(output_path, corrected)  \n"
   ]
  },
  {
   "cell_type": "markdown",
   "metadata": {},
   "source": [
    "# 3.5 Run inference using CellSeg3D plugin\n",
    "- Open napari\n",
    "- Run inference on file(s) cropped"
   ]
  },
  {
   "cell_type": "markdown",
   "metadata": {},
   "source": [
    "# 4. Remove borders after inference"
   ]
  },
  {
   "cell_type": "code",
   "execution_count": null,
   "metadata": {},
   "outputs": [
    {
     "name": "stdout",
     "output_type": "stream",
     "text": [
      "remove borders for: /data/seb/CFOS_exp/TestBatch/registered_atlas.tiff\n",
      "remove borders for: /data/seb/CFOS_exp/TestBatch/registered_atlas_resize_ALUSKY.tiff\n",
      "Mouse name extracted: ALUSKY\n",
      "related pred file: /data/seb/CFOS_exp/TestBatch/ALUSKY_ROI_primary motor_SwinUNetR_pred_1_2023_11_22_18_04_17.tif\n"
     ]
    }
   ],
   "source": [
    "#2023-10-30\n",
    "#Sebastien B. Hausmann\n",
    "#script order: 4 (after inference)\n",
    "\n",
    "cropped_images_folder = main_exp_path\n",
    "pred_image_folder = main_exp_path\n",
    "\n",
    "# Find files\n",
    "pattern = os.path.join(cropped_images_folder, '*.tiff')\n",
    "\n",
    "tiff_files = glob.glob(pattern)\n",
    "\n",
    "filtered_files = [file for file in tiff_files if not file.endswith(\"_autofluo.tiff\") and not file.endswith(\"_backgroundCorrected.tiff\")]\n",
    "\n",
    "thickness_to_remove = 10\n",
    "\n",
    "for _file in filtered_files:\n",
    "\n",
    "    print('remove borders for:',_file)\n",
    "\n",
    "    # Check if the file starts with \"registered_atlas_resize_\"\n",
    "    if os.path.basename(_file).startswith('registered_atlas_resize_'):\n",
    "        # Extract the mouse name (the part before the first underscore after \"registered_atlas_resize_\")\n",
    "        mouse_name = os.path.basename(_file).split('_')[-1].split('.')[0]\n",
    "        print('Mouse name extracted:', mouse_name)\n",
    "        # Load images\n",
    "        image = imread(_file)\n",
    "    \n",
    "    else:\n",
    "        # Handle other cases if needed\n",
    "        continue\n",
    "    # Extract the mouse name from the file path\n",
    "    pattern = os.path.join(pred_image_folder, '*_pred*.tif')\n",
    "    pred_tiff_files = glob.glob(pattern)\n",
    "\n",
    "    # Find the corresponding pred image based on the mouse_name\n",
    "    pred_path = [path for path in pred_tiff_files if os.path.basename(_file).split('_')[-1].split('.')[0] in path]\n",
    "\n",
    "    if pred_path and len(pred_path)==1:\n",
    "        print('related pred file:',pred_path[0])\n",
    "        pred_image = imread(pred_path[0]).data\n",
    "    else:\n",
    "        print(f\"No registered brain found for mouse: {mouse_name}\")\n",
    "        break\n",
    "\n",
    "    image = wh.extract_continuous_region(image)\n",
    "    pred = wh.remove_boundaries_from_segmentation(pred_image, image_labels=image, thickness_num_iters=thickness_to_remove)\n",
    "\n",
    "    # Save the result to a desired location\n",
    "    output_filename = os.path.basename(pred_path[0]).replace('.tif', '_rmBorders.tif')#pred_path.replace('.tif', 'rmBorders.tif')\n",
    "    output_path = os.path.join(pred_image_folder, output_filename)\n",
    "    imwrite(output_path, pred)  \n"
   ]
  },
  {
   "cell_type": "markdown",
   "metadata": {},
   "source": [
    "# Thresholding and Remove artifacts and segmentation"
   ]
  },
  {
   "cell_type": "markdown",
   "metadata": {},
   "source": [
    "## Final part: Threshold all images in folder and count cells"
   ]
  },
  {
   "cell_type": "code",
   "execution_count": 10,
   "metadata": {},
   "outputs": [],
   "source": [
    "from napari_cellseg3d.code_models.instance_segmentation import threshold, voronoi_otsu, binary_watershed, clear_small_objects, volume_stats, InstanceMethod\n",
    "from napari_cellseg3d.utils import get_all_matching_files, resize\n",
    "from tifffile import imread, imwrite\n",
    "import napari\n",
    "from napari.settings import get_settings\n",
    "from pathlib import Path\n",
    "import numpy as np\n",
    "import pandas as pd"
   ]
  },
  {
   "cell_type": "code",
   "execution_count": 2,
   "metadata": {},
   "outputs": [],
   "source": [
    "    # if ipy_interactive is false, each viewer will wait before continuing\n",
    "# otherwise you'll immediately get 4 viewers.\n",
    "\n",
    "settings = get_settings()\n",
    "settings.application.ipy_interactive = False"
   ]
  },
  {
   "cell_type": "code",
   "execution_count": 14,
   "metadata": {},
   "outputs": [],
   "source": [
    "removed_border_paths = Path.cwd()/'border_removed/'\n",
    "result_path = Path.cwd()/'border_removed/'"
   ]
  },
  {
   "cell_type": "code",
   "execution_count": 15,
   "metadata": {},
   "outputs": [],
   "source": [
    "def show_napari_viewer(image, result, labels=False):\n",
    "    viewer = napari.view_image(result, colormap='inferno', opacity=0.7)\n",
    "    if labels:\n",
    "        viewer.add_labels(image)\n",
    "    else:\n",
    "        viewer.add_image(image, colormap='gray', opacity=0.7)\n",
    "    viewer.dims.ndisplay = 3\n",
    "    napari.run()"
   ]
  },
  {
   "cell_type": "code",
   "execution_count": 16,
   "metadata": {},
   "outputs": [],
   "source": [
    "thresholded_images = []\n",
    "image_paths = get_all_matching_files(removed_border_paths)\n",
    "for file in image_paths:\n",
    "    image = imread(file)\n",
    "    result = threshold(image, 0.65)\n",
    "    #show_napari_viewer(image,result)    \n",
    "    thresholded_images.append(result)\n",
    "    \n"
   ]
  },
  {
   "cell_type": "code",
   "execution_count": 17,
   "metadata": {},
   "outputs": [
    {
     "name": "stdout",
     "output_type": "stream",
     "text": [
      "size: 209\n"
     ]
    },
    {
     "name": "stderr",
     "output_type": "stream",
     "text": [
      "0 invalid sphericities were set to NaN. This occurs for objects with a volume of 1 pixel.\n"
     ]
    },
    {
     "name": "stdout",
     "output_type": "stream",
     "text": [
      "mouse_name:  ZOKOR\n",
      "region : primary motor\n",
      "14210\n",
      "saving here : /home/sebastien/Downloads/border_removed/ZOKOR_ROI_primary motor_SwinUNetR_pred_9_2023_11_22_18_40_15_rmBorders.csv\n",
      "Saving segmented image to: /home/sebastien/Downloads/border_removed/ZOKOR_ROI_primary motor_SwinUNetR_pred_9_2023_11_22_18_40_15_rmBorders_segmented.tiff\n"
     ]
    }
   ],
   "source": [
    "for i, th_im in enumerate(thresholded_images):\n",
    "    binaryzed_im = binary_watershed(th_im, thres_objects = 0.1, thres_seeding=0.1, thres_small=500, rem_seed_thres=5)\n",
    "    result = np.where(binaryzed_im==0, th_im, 0)\n",
    "    resized_result = resize(result, zoom_factors = (1/3,1,1))\n",
    "    #show_napari_viewer(result,resized_result)\n",
    "    segmented_image = voronoi_otsu(resized_result, spot_sigma=0.5, outline_sigma=0.5)\n",
    "    #show_napari_viewer(segmented_image, resized_result, labels=True)\n",
    "\n",
    "    stats = volume_stats(segmented_image)\n",
    "    \n",
    "    image_name = image_paths[i].stem\n",
    "    df = pd.DataFrame(stats.get_dict())\n",
    "    print('mouse_name: ', image_name.split('_')[0])\n",
    "    print('region :' ,image_name.split('_')[2])\n",
    "    print(df['Number objects'][0])\n",
    "    print('saving here :', str(result_path)+'/'+image_name+'.csv')\n",
    "    df.to_csv(str(result_path)+'/'+image_name+'.csv')\n",
    "    \n",
    "    # Save the segmented image as a TIFF file\n",
    "    tiff_output_path = str(result_path) + '/' + image_name + '_segmented.tiff'\n",
    "    print('Saving segmented image to:', tiff_output_path)\n",
    "    imwrite(tiff_output_path, segmented_image.astype('float32'))  # Ensure correct data type"
   ]
  },
  {
   "cell_type": "code",
   "execution_count": null,
   "metadata": {},
   "outputs": [],
   "source": []
  }
 ],
 "metadata": {
  "kernelspec": {
   "display_name": "mesospimpipeline",
   "language": "python",
   "name": "mesospimpipeline"
  },
  "language_info": {
   "codemirror_mode": {
    "name": "ipython",
    "version": 3
   },
   "file_extension": ".py",
   "mimetype": "text/x-python",
   "name": "python",
   "nbconvert_exporter": "python",
   "pygments_lexer": "ipython3",
   "version": "3.9.19"
  }
 },
 "nbformat": 4,
 "nbformat_minor": 4
}
