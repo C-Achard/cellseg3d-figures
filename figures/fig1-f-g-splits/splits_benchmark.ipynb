{
 "cells": [
  {
   "cell_type": "markdown",
   "id": "678cd193",
   "metadata": {},
   "source": [
    "# Figure 1.f/g : Training efficiency\n",
    "\n",
    "Goals : \n",
    "\n",
    "- Show that 3D models are more efficient in terms of training data needed to reach a certain accuracy, compared to 2D models.\n",
    "  \n",
    "(Also shows slight advantage of 3D models in terms of accuracy, and performance of self-supervised model.)"
   ]
  },
  {
   "cell_type": "code",
   "execution_count": 89,
   "id": "348c3056",
   "metadata": {},
   "outputs": [
    {
     "name": "stdout",
     "output_type": "stream",
     "text": [
      "The autoreload extension is already loaded. To reload it, use:\n",
      "  %reload_ext autoreload\n"
     ]
    }
   ],
   "source": [
    "%load_ext autoreload\n",
    "%autoreload 2"
   ]
  },
  {
   "cell_type": "code",
   "execution_count": 90,
   "id": "ff99ebb2-9532-469b-ac2d-60b8256a66f2",
   "metadata": {
    "ExecuteTime": {
     "end_time": "2023-09-21T13:21:41.859280800Z",
     "start_time": "2023-09-21T13:21:38.880596300Z"
    }
   },
   "outputs": [
    {
     "name": "stdout",
     "output_type": "stream",
     "text": [
      "Plot parameters (set in plots.py) : \n",
      "- COLORMAP : \u001b[38;2;76;201;240m█\u001b[0m\u001b[38;2;67;97;238m█\u001b[0m\u001b[38;2;114;9;183m█\u001b[0m\u001b[38;2;247;37;133m█\u001b[0m\u001b[38;2;255;77;0m█\u001b[0m\u001b[38;2;255;215;0m█\u001b[0m\u001b[38;2;240;165;0m█\u001b[0m\u001b[38;2;255;122;0m█\u001b[0m\n",
      "- DPI : 200\n",
      "- Data path : C:\\Users\\Cyril\\Desktop\\Code\\CELLSEG_BENCHMARK\n",
      "- Font size : 20\n",
      "- Title font size : 25.0\n",
      "- Label font size : 20.0\n"
     ]
    }
   ],
   "source": [
    "from pathlib import Path\n",
    "from tifffile import imread\n",
    "import sys\n",
    "import matplotlib.pyplot as plt\n",
    "import seaborn as sns\n",
    "import pandas as pd\n",
    "import numpy as np\n",
    "from scipy.stats import kruskal\n",
    "import pyclesperanto_prototype as cle\n",
    "from skimage.morphology import remove_small_objects\n",
    "from stardist.matching import matching_dataset\n",
    "sys.path.append(\"../..\")\n",
    "\n",
    "from utils import *\n",
    "from plots import *\n",
    "\n",
    "show_params()"
   ]
  },
  {
   "cell_type": "code",
   "execution_count": 91,
   "id": "0cdb66ab",
   "metadata": {},
   "outputs": [],
   "source": [
    "# expanded colormap has darker and lighter shades for each original color (see get_shades in utils.py)\n",
    "# See intensity parameter in get_shades to adjust the intensity of the shades\n",
    "# The Cellpose color needs to be there twice, we insert it between color 1 and 2\n",
    "# Same for StarDist, default color is COLORMAP[0]\n",
    "temp_cmap = COLORMAP.copy()\n",
    "temp_cmap.insert(2, COLORMAP[1])\n",
    "temp_cmap.insert(1, COLORMAP[0])\n",
    "temp_cmap[2], _ = get_shades(temp_cmap[3])\n",
    "temp_cmap[0], _ = get_shades(temp_cmap[1])\n",
    "EXPANDED_COLORMAP = []\n",
    "for color in temp_cmap[:7]:\n",
    "    colors = get_n_shades(color, 4)\n",
    "    EXPANDED_COLORMAP.extend(colors)\n",
    "EXPANDED_COLORMAP.extend(COLORMAP[7:])"
   ]
  },
  {
   "cell_type": "code",
   "execution_count": 96,
   "id": "a387650e",
   "metadata": {},
   "outputs": [
    {
     "data": {
      "image/png": "[encoded data removed]",
      "text/plain": [
       "<Figure size 1000x200 with 1 Axes>"
      ]
     },
     "metadata": {},
     "output_type": "display_data"
    }
   ],
   "source": [
    "# show the colors in EXPANDED_COLORMAP\n",
    "def show_colors(color_list):\n",
    "    fig, ax = plt.subplots(figsize=(10, 2))\n",
    "    for i, color in enumerate(color_list):\n",
    "        ax.add_patch(plt.Rectangle((i, 0), 1, 1, color=color))\n",
    "    ax.set_xlim(0, len(color_list))\n",
    "    ax.set_ylim(0, 1)\n",
    "    ax.set_xticks(range(len(color_list)))\n",
    "    ax.set_xticklabels(range(1, len(color_list) + 1))\n",
    "    ax.set_yticks([])\n",
    "    ax.set_aspect('equal')\n",
    "    plt.show()\n",
    "\n",
    "# Show the colors in EXPANDED_COLORMAP\n",
    "show_colors(EXPANDED_COLORMAP)\n"
   ]
  },
  {
   "cell_type": "code",
   "execution_count": 92,
   "id": "e6c86d5c",
   "metadata": {},
   "outputs": [],
   "source": [
    "SAVE_PLOTS_AS_PNG = False\n",
    "SAVE_PLOTS_AS_SVG = True"
   ]
  },
  {
   "cell_type": "markdown",
   "id": "511c694e",
   "metadata": {},
   "source": [
    "## Data loading"
   ]
  },
  {
   "cell_type": "code",
   "execution_count": 93,
   "id": "c4c84592-b72d-4c86-ae83-c1120ed9078e",
   "metadata": {
    "ExecuteTime": {
     "end_time": "2023-09-21T13:21:41.962511400Z",
     "start_time": "2023-09-21T13:21:41.893190200Z"
    }
   },
   "outputs": [],
   "source": [
    "image_folder = DATA_PATH / \"RESULTS/SPLITS/Analysis/dataset_splits\"\n",
    "c5 = imread(image_folder / \"c5.tif\")\n",
    "c3 = imread(image_folder / \"c3.tif\")\n",
    "visual = imread(image_folder / \"visual.tif\")\n",
    "\n",
    "gt_dict = {\n",
    "    \"visual\": visual,\n",
    "    \"c3\": c3,\n",
    "    \"c5\": c5,\n",
    "}"
   ]
  },
  {
   "cell_type": "markdown",
   "id": "f876607c",
   "metadata": {},
   "source": [
    "### Order data by model and split"
   ]
  },
  {
   "cell_type": "code",
   "execution_count": 94,
   "id": "0771bc6e",
   "metadata": {},
   "outputs": [],
   "source": [
    "def find_images(path, split):\n",
    "    return list(path.glob(f\"*{split}*.tif\"))"
   ]
  },
  {
   "cell_type": "markdown",
   "id": "3f491d76",
   "metadata": {},
   "source": [
    "#### Supervised models"
   ]
  },
  {
   "cell_type": "code",
   "execution_count": 95,
   "id": "f8e3e172-ac26-43a1-9531-05a0919d4408",
   "metadata": {
    "ExecuteTime": {
     "end_time": "2023-09-21T13:21:41.962511400Z",
     "start_time": "2023-09-21T13:21:41.944054400Z"
    },
    "tags": [
     "hide-output",
     "hide-input"
    ]
   },
   "outputs": [
    {
     "ename": "IndexError",
     "evalue": "list index out of range",
     "output_type": "error",
     "traceback": [
      "\u001b[1;31m---------------------------------------------------------------------------\u001b[0m",
      "\u001b[1;31mIndexError\u001b[0m                                Traceback (most recent call last)",
      "Cell \u001b[1;32mIn[95], line 21\u001b[0m\n\u001b[0;32m      1\u001b[0m visual_preds \u001b[38;5;241m=\u001b[39m {\n\u001b[0;32m      2\u001b[0m     \u001b[38;5;124m\"\u001b[39m\u001b[38;5;124mCellpose\u001b[39m\u001b[38;5;124m\"\u001b[39m: {\n\u001b[0;32m      3\u001b[0m         \u001b[38;5;124m\"\u001b[39m\u001b[38;5;124m1090\u001b[39m\u001b[38;5;124m\"\u001b[39m: find_images(image_folder \u001b[38;5;241m/\u001b[39m \u001b[38;5;124m\"\u001b[39m\u001b[38;5;124mc1_5/cp\u001b[39m\u001b[38;5;124m\"\u001b[39m, \u001b[38;5;124m\"\u001b[39m\u001b[38;5;124m1090\u001b[39m\u001b[38;5;124m\"\u001b[39m)[\u001b[38;5;241m0\u001b[39m],\n\u001b[0;32m      4\u001b[0m         \u001b[38;5;124m\"\u001b[39m\u001b[38;5;124m2080\u001b[39m\u001b[38;5;124m\"\u001b[39m: find_images(image_folder \u001b[38;5;241m/\u001b[39m \u001b[38;5;124m\"\u001b[39m\u001b[38;5;124mc1_5/cp\u001b[39m\u001b[38;5;124m\"\u001b[39m, \u001b[38;5;124m\"\u001b[39m\u001b[38;5;124m2080\u001b[39m\u001b[38;5;124m\"\u001b[39m)[\u001b[38;5;241m0\u001b[39m],\n\u001b[0;32m      5\u001b[0m         \u001b[38;5;124m\"\u001b[39m\u001b[38;5;124m6040\u001b[39m\u001b[38;5;124m\"\u001b[39m: find_images(image_folder \u001b[38;5;241m/\u001b[39m \u001b[38;5;124m\"\u001b[39m\u001b[38;5;124mc1_5/cp\u001b[39m\u001b[38;5;124m\"\u001b[39m, \u001b[38;5;124m\"\u001b[39m\u001b[38;5;124m6040\u001b[39m\u001b[38;5;124m\"\u001b[39m)[\u001b[38;5;241m0\u001b[39m],\n\u001b[0;32m      6\u001b[0m         \u001b[38;5;124m\"\u001b[39m\u001b[38;5;124m8020\u001b[39m\u001b[38;5;124m\"\u001b[39m: find_images(image_folder \u001b[38;5;241m/\u001b[39m \u001b[38;5;124m\"\u001b[39m\u001b[38;5;124mc1_5/cp\u001b[39m\u001b[38;5;124m\"\u001b[39m, \u001b[38;5;124m\"\u001b[39m\u001b[38;5;124m8020\u001b[39m\u001b[38;5;124m\"\u001b[39m)[\u001b[38;5;241m0\u001b[39m],\n\u001b[0;32m      7\u001b[0m     },\n\u001b[0;32m      8\u001b[0m     \u001b[38;5;124m\"\u001b[39m\u001b[38;5;124mCellpose - default\u001b[39m\u001b[38;5;124m\"\u001b[39m: {\n\u001b[0;32m      9\u001b[0m         \u001b[38;5;124m\"\u001b[39m\u001b[38;5;124m1090\u001b[39m\u001b[38;5;124m\"\u001b[39m: find_images(image_folder \u001b[38;5;241m/\u001b[39m \u001b[38;5;124m\"\u001b[39m\u001b[38;5;124mc1_5/cp/default\u001b[39m\u001b[38;5;124m\"\u001b[39m, \u001b[38;5;124m\"\u001b[39m\u001b[38;5;124m1090\u001b[39m\u001b[38;5;124m\"\u001b[39m)[\u001b[38;5;241m0\u001b[39m],\n\u001b[0;32m     10\u001b[0m         \u001b[38;5;124m\"\u001b[39m\u001b[38;5;124m2080\u001b[39m\u001b[38;5;124m\"\u001b[39m: find_images(image_folder \u001b[38;5;241m/\u001b[39m \u001b[38;5;124m\"\u001b[39m\u001b[38;5;124mc1_5/cp/default\u001b[39m\u001b[38;5;124m\"\u001b[39m, \u001b[38;5;124m\"\u001b[39m\u001b[38;5;124m2080\u001b[39m\u001b[38;5;124m\"\u001b[39m)[\u001b[38;5;241m0\u001b[39m],\n\u001b[0;32m     11\u001b[0m         \u001b[38;5;124m\"\u001b[39m\u001b[38;5;124m6040\u001b[39m\u001b[38;5;124m\"\u001b[39m: find_images(image_folder \u001b[38;5;241m/\u001b[39m \u001b[38;5;124m\"\u001b[39m\u001b[38;5;124mc1_5/cp/default\u001b[39m\u001b[38;5;124m\"\u001b[39m, \u001b[38;5;124m\"\u001b[39m\u001b[38;5;124m6040\u001b[39m\u001b[38;5;124m\"\u001b[39m)[\u001b[38;5;241m0\u001b[39m],\n\u001b[0;32m     12\u001b[0m         \u001b[38;5;124m\"\u001b[39m\u001b[38;5;124m8020\u001b[39m\u001b[38;5;124m\"\u001b[39m: find_images(image_folder \u001b[38;5;241m/\u001b[39m \u001b[38;5;124m\"\u001b[39m\u001b[38;5;124mc1_5/cp/default\u001b[39m\u001b[38;5;124m\"\u001b[39m, \u001b[38;5;124m\"\u001b[39m\u001b[38;5;124m8020\u001b[39m\u001b[38;5;124m\"\u001b[39m)[\u001b[38;5;241m0\u001b[39m],\n\u001b[0;32m     13\u001b[0m     },\n\u001b[0;32m     14\u001b[0m     \u001b[38;5;124m\"\u001b[39m\u001b[38;5;124mStarDist - default\u001b[39m\u001b[38;5;124m\"\u001b[39m: {\n\u001b[0;32m     15\u001b[0m         \u001b[38;5;124m\"\u001b[39m\u001b[38;5;124m1090\u001b[39m\u001b[38;5;124m\"\u001b[39m: find_images(image_folder \u001b[38;5;241m/\u001b[39m \u001b[38;5;124m\"\u001b[39m\u001b[38;5;124mc1_5/sd\u001b[39m\u001b[38;5;124m\"\u001b[39m, \u001b[38;5;124m\"\u001b[39m\u001b[38;5;124m1090\u001b[39m\u001b[38;5;124m\"\u001b[39m)[\u001b[38;5;241m0\u001b[39m],\n\u001b[0;32m     16\u001b[0m         \u001b[38;5;124m\"\u001b[39m\u001b[38;5;124m2080\u001b[39m\u001b[38;5;124m\"\u001b[39m: find_images(image_folder \u001b[38;5;241m/\u001b[39m \u001b[38;5;124m\"\u001b[39m\u001b[38;5;124mc1_5/sd\u001b[39m\u001b[38;5;124m\"\u001b[39m, \u001b[38;5;124m\"\u001b[39m\u001b[38;5;124m2080\u001b[39m\u001b[38;5;124m\"\u001b[39m)[\u001b[38;5;241m0\u001b[39m],\n\u001b[0;32m     17\u001b[0m         \u001b[38;5;124m\"\u001b[39m\u001b[38;5;124m6040\u001b[39m\u001b[38;5;124m\"\u001b[39m: find_images(image_folder \u001b[38;5;241m/\u001b[39m \u001b[38;5;124m\"\u001b[39m\u001b[38;5;124mc1_5/sd\u001b[39m\u001b[38;5;124m\"\u001b[39m, \u001b[38;5;124m\"\u001b[39m\u001b[38;5;124m6040\u001b[39m\u001b[38;5;124m\"\u001b[39m)[\u001b[38;5;241m0\u001b[39m],\n\u001b[0;32m     18\u001b[0m         \u001b[38;5;124m\"\u001b[39m\u001b[38;5;124m8020\u001b[39m\u001b[38;5;124m\"\u001b[39m: find_images(image_folder \u001b[38;5;241m/\u001b[39m \u001b[38;5;124m\"\u001b[39m\u001b[38;5;124mc1_5/sd\u001b[39m\u001b[38;5;124m\"\u001b[39m, \u001b[38;5;124m\"\u001b[39m\u001b[38;5;124m8020\u001b[39m\u001b[38;5;124m\"\u001b[39m)[\u001b[38;5;241m0\u001b[39m],\n\u001b[0;32m     19\u001b[0m     },\n\u001b[0;32m     20\u001b[0m     \u001b[38;5;124m\"\u001b[39m\u001b[38;5;124mStarDist\u001b[39m\u001b[38;5;124m\"\u001b[39m: {\n\u001b[1;32m---> 21\u001b[0m         \u001b[38;5;124m\"\u001b[39m\u001b[38;5;124m1090\u001b[39m\u001b[38;5;124m\"\u001b[39m: \u001b[43mfind_images\u001b[49m\u001b[43m(\u001b[49m\u001b[43mimage_folder\u001b[49m\u001b[43m \u001b[49m\u001b[38;5;241;43m/\u001b[39;49m\u001b[43m \u001b[49m\u001b[38;5;124;43m\"\u001b[39;49m\u001b[38;5;124;43mc1_5/sd/tuned\u001b[39;49m\u001b[38;5;124;43m\"\u001b[39;49m\u001b[43m,\u001b[49m\u001b[43m \u001b[49m\u001b[38;5;124;43m\"\u001b[39;49m\u001b[38;5;124;43m10\u001b[39;49m\u001b[38;5;124;43m\"\u001b[39;49m\u001b[43m)\u001b[49m\u001b[43m[\u001b[49m\u001b[38;5;241;43m0\u001b[39;49m\u001b[43m]\u001b[49m,\n\u001b[0;32m     22\u001b[0m         \u001b[38;5;124m\"\u001b[39m\u001b[38;5;124m2080\u001b[39m\u001b[38;5;124m\"\u001b[39m: find_images(image_folder \u001b[38;5;241m/\u001b[39m \u001b[38;5;124m\"\u001b[39m\u001b[38;5;124mc1_5/sd/tuned\u001b[39m\u001b[38;5;124m\"\u001b[39m, \u001b[38;5;124m\"\u001b[39m\u001b[38;5;124m20\u001b[39m\u001b[38;5;124m\"\u001b[39m)[\u001b[38;5;241m0\u001b[39m],\n\u001b[0;32m     23\u001b[0m         \u001b[38;5;124m\"\u001b[39m\u001b[38;5;124m6040\u001b[39m\u001b[38;5;124m\"\u001b[39m: find_images(image_folder \u001b[38;5;241m/\u001b[39m \u001b[38;5;124m\"\u001b[39m\u001b[38;5;124mc1_5/sd/tuned\u001b[39m\u001b[38;5;124m\"\u001b[39m, \u001b[38;5;124m\"\u001b[39m\u001b[38;5;124m60\u001b[39m\u001b[38;5;124m\"\u001b[39m)[\u001b[38;5;241m0\u001b[39m],\n\u001b[0;32m     24\u001b[0m         \u001b[38;5;124m\"\u001b[39m\u001b[38;5;124m8020\u001b[39m\u001b[38;5;124m\"\u001b[39m: find_images(image_folder \u001b[38;5;241m/\u001b[39m \u001b[38;5;124m\"\u001b[39m\u001b[38;5;124mc1_5/sd/tuned\u001b[39m\u001b[38;5;124m\"\u001b[39m, \u001b[38;5;124m\"\u001b[39m\u001b[38;5;124m80\u001b[39m\u001b[38;5;124m\"\u001b[39m)[\u001b[38;5;241m0\u001b[39m],\n\u001b[0;32m     25\u001b[0m     },\n\u001b[0;32m     26\u001b[0m     \u001b[38;5;124m\"\u001b[39m\u001b[38;5;124mSegResNet\u001b[39m\u001b[38;5;124m\"\u001b[39m: {\n\u001b[0;32m     27\u001b[0m         \u001b[38;5;124m\"\u001b[39m\u001b[38;5;124m1090\u001b[39m\u001b[38;5;124m\"\u001b[39m: find_images(image_folder \u001b[38;5;241m/\u001b[39m \u001b[38;5;124m\"\u001b[39m\u001b[38;5;124mc1_5/segres\u001b[39m\u001b[38;5;124m\"\u001b[39m, \u001b[38;5;124m\"\u001b[39m\u001b[38;5;124m1090\u001b[39m\u001b[38;5;124m\"\u001b[39m)[\u001b[38;5;241m0\u001b[39m],\n\u001b[0;32m     28\u001b[0m         \u001b[38;5;124m\"\u001b[39m\u001b[38;5;124m2080\u001b[39m\u001b[38;5;124m\"\u001b[39m: find_images(image_folder \u001b[38;5;241m/\u001b[39m \u001b[38;5;124m\"\u001b[39m\u001b[38;5;124mc1_5/segres\u001b[39m\u001b[38;5;124m\"\u001b[39m, \u001b[38;5;124m\"\u001b[39m\u001b[38;5;124m2080\u001b[39m\u001b[38;5;124m\"\u001b[39m)[\u001b[38;5;241m0\u001b[39m],\n\u001b[0;32m     29\u001b[0m         \u001b[38;5;124m\"\u001b[39m\u001b[38;5;124m6040\u001b[39m\u001b[38;5;124m\"\u001b[39m: find_images(image_folder \u001b[38;5;241m/\u001b[39m \u001b[38;5;124m\"\u001b[39m\u001b[38;5;124mc1_5/segres\u001b[39m\u001b[38;5;124m\"\u001b[39m, \u001b[38;5;124m\"\u001b[39m\u001b[38;5;124m6040\u001b[39m\u001b[38;5;124m\"\u001b[39m)[\u001b[38;5;241m0\u001b[39m],\n\u001b[0;32m     30\u001b[0m         \u001b[38;5;124m\"\u001b[39m\u001b[38;5;124m8020\u001b[39m\u001b[38;5;124m\"\u001b[39m: find_images(image_folder \u001b[38;5;241m/\u001b[39m \u001b[38;5;124m\"\u001b[39m\u001b[38;5;124mc1_5/segres\u001b[39m\u001b[38;5;124m\"\u001b[39m, \u001b[38;5;124m\"\u001b[39m\u001b[38;5;124m8020\u001b[39m\u001b[38;5;124m\"\u001b[39m)[\u001b[38;5;241m0\u001b[39m],\n\u001b[0;32m     31\u001b[0m     },\n\u001b[0;32m     32\u001b[0m     \u001b[38;5;124m\"\u001b[39m\u001b[38;5;124mSwinUNetR\u001b[39m\u001b[38;5;124m\"\u001b[39m: {\n\u001b[0;32m     33\u001b[0m         \u001b[38;5;124m\"\u001b[39m\u001b[38;5;124m1090\u001b[39m\u001b[38;5;124m\"\u001b[39m: find_images(image_folder \u001b[38;5;241m/\u001b[39m \u001b[38;5;124m\"\u001b[39m\u001b[38;5;124mc1_5/swin\u001b[39m\u001b[38;5;124m\"\u001b[39m, \u001b[38;5;124m\"\u001b[39m\u001b[38;5;124m1090\u001b[39m\u001b[38;5;124m\"\u001b[39m)[\u001b[38;5;241m0\u001b[39m],\n\u001b[0;32m     34\u001b[0m         \u001b[38;5;124m\"\u001b[39m\u001b[38;5;124m2080\u001b[39m\u001b[38;5;124m\"\u001b[39m: find_images(image_folder \u001b[38;5;241m/\u001b[39m \u001b[38;5;124m\"\u001b[39m\u001b[38;5;124mc1_5/swin\u001b[39m\u001b[38;5;124m\"\u001b[39m, \u001b[38;5;124m\"\u001b[39m\u001b[38;5;124m2080\u001b[39m\u001b[38;5;124m\"\u001b[39m)[\u001b[38;5;241m0\u001b[39m],\n\u001b[0;32m     35\u001b[0m         \u001b[38;5;124m\"\u001b[39m\u001b[38;5;124m6040\u001b[39m\u001b[38;5;124m\"\u001b[39m: find_images(image_folder \u001b[38;5;241m/\u001b[39m \u001b[38;5;124m\"\u001b[39m\u001b[38;5;124mc1_5/swin\u001b[39m\u001b[38;5;124m\"\u001b[39m, \u001b[38;5;124m\"\u001b[39m\u001b[38;5;124m6040\u001b[39m\u001b[38;5;124m\"\u001b[39m)[\u001b[38;5;241m0\u001b[39m],\n\u001b[0;32m     36\u001b[0m         \u001b[38;5;124m\"\u001b[39m\u001b[38;5;124m8020\u001b[39m\u001b[38;5;124m\"\u001b[39m: find_images(image_folder \u001b[38;5;241m/\u001b[39m \u001b[38;5;124m\"\u001b[39m\u001b[38;5;124mc1_5/swin\u001b[39m\u001b[38;5;124m\"\u001b[39m, \u001b[38;5;124m\"\u001b[39m\u001b[38;5;124m8020\u001b[39m\u001b[38;5;124m\"\u001b[39m)[\u001b[38;5;241m0\u001b[39m],\n\u001b[0;32m     37\u001b[0m     },\n\u001b[0;32m     38\u001b[0m }\n\u001b[0;32m     39\u001b[0m c3_preds \u001b[38;5;241m=\u001b[39m {\n\u001b[0;32m     40\u001b[0m     \u001b[38;5;124m\"\u001b[39m\u001b[38;5;124mCellpose\u001b[39m\u001b[38;5;124m\"\u001b[39m: {\n\u001b[0;32m     41\u001b[0m         \u001b[38;5;124m\"\u001b[39m\u001b[38;5;124m1090\u001b[39m\u001b[38;5;124m\"\u001b[39m: find_images(image_folder \u001b[38;5;241m/\u001b[39m \u001b[38;5;124m\"\u001b[39m\u001b[38;5;124mc1245_v/cp\u001b[39m\u001b[38;5;124m\"\u001b[39m, \u001b[38;5;124m\"\u001b[39m\u001b[38;5;124m1090\u001b[39m\u001b[38;5;124m\"\u001b[39m)[\u001b[38;5;241m0\u001b[39m],\n\u001b[1;32m   (...)\u001b[0m\n\u001b[0;32m     75\u001b[0m     },\n\u001b[0;32m     76\u001b[0m }\n\u001b[0;32m     77\u001b[0m c5_preds \u001b[38;5;241m=\u001b[39m {\n\u001b[0;32m     78\u001b[0m     \u001b[38;5;124m\"\u001b[39m\u001b[38;5;124mCellpose\u001b[39m\u001b[38;5;124m\"\u001b[39m: {\n\u001b[0;32m     79\u001b[0m         \u001b[38;5;124m\"\u001b[39m\u001b[38;5;124m1090\u001b[39m\u001b[38;5;124m\"\u001b[39m: find_images(image_folder \u001b[38;5;241m/\u001b[39m \u001b[38;5;124m\"\u001b[39m\u001b[38;5;124mc1-4_v/cp\u001b[39m\u001b[38;5;124m\"\u001b[39m, \u001b[38;5;124m\"\u001b[39m\u001b[38;5;124m1090\u001b[39m\u001b[38;5;124m\"\u001b[39m)[\u001b[38;5;241m0\u001b[39m],\n\u001b[1;32m   (...)\u001b[0m\n\u001b[0;32m    113\u001b[0m     },\n\u001b[0;32m    114\u001b[0m }\n",
      "\u001b[1;31mIndexError\u001b[0m: list index out of range"
     ]
    }
   ],
   "source": [
    "visual_preds = {\n",
    "    \"Cellpose\": {\n",
    "        \"1090\": find_images(image_folder / \"c1_5/cp\", \"1090\")[0],\n",
    "        \"2080\": find_images(image_folder / \"c1_5/cp\", \"2080\")[0],\n",
    "        \"6040\": find_images(image_folder / \"c1_5/cp\", \"6040\")[0],\n",
    "        \"8020\": find_images(image_folder / \"c1_5/cp\", \"8020\")[0],\n",
    "    },\n",
    "    \"Cellpose - default\": {\n",
    "        \"1090\": find_images(image_folder / \"c1_5/cp/default\", \"1090\")[0],\n",
    "        \"2080\": find_images(image_folder / \"c1_5/cp/default\", \"2080\")[0],\n",
    "        \"6040\": find_images(image_folder / \"c1_5/cp/default\", \"6040\")[0],\n",
    "        \"8020\": find_images(image_folder / \"c1_5/cp/default\", \"8020\")[0],\n",
    "    },\n",
    "    \"StarDist - default\": {\n",
    "        \"1090\": find_images(image_folder / \"c1_5/sd\", \"1090\")[0],\n",
    "        \"2080\": find_images(image_folder / \"c1_5/sd\", \"2080\")[0],\n",
    "        \"6040\": find_images(image_folder / \"c1_5/sd\", \"6040\")[0],\n",
    "        \"8020\": find_images(image_folder / \"c1_5/sd\", \"8020\")[0],\n",
    "    },\n",
    "    \"StarDist\": {\n",
    "        \"1090\": find_images(image_folder / \"c1_5/sd/tuned\", \"10\")[0],\n",
    "        \"2080\": find_images(image_folder / \"c1_5/sd/tuned\", \"20\")[0],\n",
    "        \"6040\": find_images(image_folder / \"c1_5/sd/tuned\", \"60\")[0],\n",
    "        \"8020\": find_images(image_folder / \"c1_5/sd/tuned\", \"80\")[0],\n",
    "    },\n",
    "    \"SegResNet\": {\n",
    "        \"1090\": find_images(image_folder / \"c1_5/segres\", \"1090\")[0],\n",
    "        \"2080\": find_images(image_folder / \"c1_5/segres\", \"2080\")[0],\n",
    "        \"6040\": find_images(image_folder / \"c1_5/segres\", \"6040\")[0],\n",
    "        \"8020\": find_images(image_folder / \"c1_5/segres\", \"8020\")[0],\n",
    "    },\n",
    "    \"SwinUNetR\": {\n",
    "        \"1090\": find_images(image_folder / \"c1_5/swin\", \"1090\")[0],\n",
    "        \"2080\": find_images(image_folder / \"c1_5/swin\", \"2080\")[0],\n",
    "        \"6040\": find_images(image_folder / \"c1_5/swin\", \"6040\")[0],\n",
    "        \"8020\": find_images(image_folder / \"c1_5/swin\", \"8020\")[0],\n",
    "    },\n",
    "}\n",
    "c3_preds = {\n",
    "    \"Cellpose\": {\n",
    "        \"1090\": find_images(image_folder / \"c1245_v/cp\", \"1090\")[0],\n",
    "        \"2080\": find_images(image_folder / \"c1245_v/cp\", \"2080\")[0],\n",
    "        \"6040\": find_images(image_folder / \"c1245_v/cp\", \"6040\")[0],\n",
    "        \"8020\" : find_images(image_folder / \"c1245_v/cp\", \"8020\")[0],\n",
    "    },\n",
    "    \"Cellpose - default\": {\n",
    "        \"1090\": find_images(image_folder / \"c1245_v/cp/default\", \"1090\")[0],\n",
    "        \"2080\": find_images(image_folder / \"c1245_v/cp/default\", \"2080\")[0],\n",
    "        \"6040\": find_images(image_folder / \"c1245_v/cp/default\", \"6040\")[0],\n",
    "        \"8020\": find_images(image_folder / \"c1245_v/cp/default\", \"8020\")[0],\n",
    "    },\n",
    "    \"StarDist - default\": {\n",
    "        \"1090\": find_images(image_folder / \"c1245_v/sd\", \"1090\")[0],\n",
    "        \"2080\": find_images(image_folder / \"c1245_v/sd\", \"2080\")[0],\n",
    "        \"6040\": find_images(image_folder / \"c1245_v/sd\", \"6040\")[0],\n",
    "        \"8020\": find_images(image_folder / \"c1245_v/sd\", \"8020\")[0],\n",
    "    },\n",
    "    \"StarDist\": {\n",
    "        \"1090\": find_images(image_folder / \"c1245_v/sd/tuned\", \"10\")[0],\n",
    "        \"2080\": find_images(image_folder / \"c1245_v/sd/tuned\", \"20\")[0],\n",
    "        \"6040\": find_images(image_folder / \"c1245_v/sd/tuned\", \"60\")[0],\n",
    "        \"8020\": find_images(image_folder / \"c1245_v/sd/tuned\", \"80\")[0],\n",
    "    },\n",
    "    \"SegResNet\": {\n",
    "        \"1090\": find_images(image_folder / \"c1245_v/segres\", \"1090\")[0],\n",
    "        \"2080\": find_images(image_folder / \"c1245_v/segres\", \"2080\")[0],\n",
    "        \"6040\": find_images(image_folder / \"c1245_v/segres\", \"6040\")[0],\n",
    "        \"8020\": find_images(image_folder / \"c1245_v/segres\", \"8020\")[0],\n",
    "    },\n",
    "    \"SwinUNetR\": {\n",
    "        \"1090\": find_images(image_folder / \"c1245_v/swin\", \"1090\")[0],\n",
    "        \"2080\": find_images(image_folder / \"c1245_v/swin\", \"2080\")[0],\n",
    "        \"6040\": find_images(image_folder / \"c1245_v/swin\", \"6040\")[0],\n",
    "        \"8020\": find_images(image_folder / \"c1245_v/swin\", \"8020\")[0],\n",
    "    },\n",
    "}\n",
    "c5_preds = {\n",
    "    \"Cellpose\": {\n",
    "        \"1090\": find_images(image_folder / \"c1-4_v/cp\", \"1090\")[0],\n",
    "        \"2080\": find_images(image_folder / \"c1-4_v/cp\", \"2080\")[0],\n",
    "        \"6040\": find_images(image_folder / \"c1-4_v/cp\", \"6040\")[0],\n",
    "        \"8020\" : find_images(image_folder / \"c1-4_v/cp\", \"8020\")[0],\n",
    "    },\n",
    "    \"Cellpose - default\": {\n",
    "        \"1090\": find_images(image_folder / \"c1-4_v/cp/default\", \"1090\")[0],\n",
    "        \"2080\": find_images(image_folder / \"c1-4_v/cp/default\", \"2080\")[0],\n",
    "        \"6040\": find_images(image_folder / \"c1-4_v/cp/default\", \"6040\")[0],\n",
    "        \"8020\": find_images(image_folder / \"c1-4_v/cp/default\", \"8020\")[0],\n",
    "    },\n",
    "    \"StarDist - default\": {\n",
    "        \"1090\": find_images(image_folder / \"c1-4_v/sd\", \"1090\")[0],\n",
    "        \"2080\": find_images(image_folder / \"c1-4_v/sd\", \"2080\")[0],\n",
    "        \"6040\": find_images(image_folder / \"c1-4_v/sd\", \"6040\")[0],\n",
    "        \"8020\": find_images(image_folder / \"c1-4_v/sd\", \"8020\")[0],\n",
    "    },\n",
    "    \"StarDist\": {\n",
    "        \"1090\": find_images(image_folder / \"c1-4_v/sd/tuned\", \"10\")[0],\n",
    "        \"2080\": find_images(image_folder / \"c1-4_v/sd/tuned\", \"20\")[0],\n",
    "        \"6040\": find_images(image_folder / \"c1-4_v/sd/tuned\", \"60\")[0],\n",
    "        \"8020\": find_images(image_folder / \"c1-4_v/sd/tuned\", \"80\")[0],\n",
    "    },\n",
    "    \"SegResNet\": {\n",
    "        \"1090\": find_images(image_folder / \"c1-4_v/segres\", \"1090\")[0],\n",
    "        \"2080\": find_images(image_folder / \"c1-4_v/segres\", \"2080\")[0],\n",
    "        \"6040\": find_images(image_folder / \"c1-4_v/segres\", \"6040\")[0],\n",
    "        \"8020\": find_images(image_folder / \"c1-4_v/segres\", \"8020\")[0],\n",
    "    },\n",
    "    \"SwinUNetR\": {\n",
    "        \"1090\": find_images(image_folder / \"c1-4_v/swin\", \"1090\")[0],\n",
    "        \"2080\": find_images(image_folder / \"c1-4_v/swin\", \"2080\")[0],\n",
    "        \"6040\": find_images(image_folder / \"c1-4_v/swin\", \"6040\")[0],\n",
    "        \"8020\": find_images(image_folder / \"c1-4_v/swin\", \"8020\")[0],\n",
    "    },\n",
    "}\n"
   ]
  },
  {
   "cell_type": "code",
   "execution_count": null,
   "id": "e7cb5cc9",
   "metadata": {},
   "outputs": [],
   "source": [
    "# organize as DataFrame\n",
    "df = pd.DataFrame()\n",
    "splits = [visual_preds, c3_preds, c5_preds]\n",
    "for i, gt_name in enumerate(gt_dict):\n",
    "    preds = splits[i]\n",
    "    for model_name in preds:\n",
    "        for split in preds[model_name]:\n",
    "            gt = gt_dict[gt_name]\n",
    "            df = pd.concat([df, pd.DataFrame({\n",
    "                \"model\": model_name,\n",
    "                \"split\": split[:2] + \"/\" + split[2:],\n",
    "                \"gt\": gt_name,\n",
    "                \"path\": [preds[model_name][split]],\n",
    "            })])\n",
    "df.reset_index(inplace=True, drop=True)\n",
    "df"
   ]
  },
  {
   "cell_type": "code",
   "execution_count": null,
   "id": "0555a160",
   "metadata": {},
   "outputs": [],
   "source": [
    "df.iloc[0].path # check if the paths are correct"
   ]
  },
  {
   "cell_type": "markdown",
   "id": "24333859",
   "metadata": {},
   "source": [
    "### Add pretrained WNet3D splits to the data"
   ]
  },
  {
   "cell_type": "code",
   "execution_count": null,
   "id": "0ca2a55c",
   "metadata": {},
   "outputs": [],
   "source": [
    "df.loc[len(df)] = [\"WNet3D - Pretrained\", \"WNet - Artifacts\", \"visual\", image_folder / \"WNet/pretrained/visual_pred.tif\"]\n",
    "df.loc[len(df)] = [\"WNet3D - Pretrained\", \"WNet - Artifacts\", \"c3\", image_folder / \"WNet/pretrained/c3_pred.tif\"]\n",
    "df.loc[len(df)] = [\"WNet3D - Pretrained\", \"WNet - Artifacts\", \"c5\", image_folder / \"WNet/pretrained/c5_pred.tif\"]\n",
    "df"
   ]
  },
  {
   "cell_type": "markdown",
   "id": "df9ee923",
   "metadata": {},
   "source": [
    "#### WNet3D - Order by splits"
   ]
  },
  {
   "cell_type": "code",
   "execution_count": 12,
   "id": "565bdde7",
   "metadata": {},
   "outputs": [],
   "source": [
    "wnet_splits_preds = {\n",
    "    \"1090\" : find_images(image_folder / \"WNet/10\", \"pred\"),\n",
    "    \"2080\" : find_images(image_folder / \"WNet/20\", \"pred\"),\n",
    "    \"6040\" : find_images(image_folder / \"WNet/60\", \"pred\"),\n",
    "    \"8020\" : find_images(image_folder / \"WNet/80\", \"pred\"),\n",
    "} # these are lists where each element is an image for a split (3 per split)"
   ]
  },
  {
   "cell_type": "code",
   "execution_count": null,
   "id": "8bb35647",
   "metadata": {},
   "outputs": [],
   "source": [
    "for split, image_paths in wnet_splits_preds.items():\n",
    "    split = split[:2] + \"/\" + split[2:]\n",
    "    for i, path in enumerate(image_paths):\n",
    "        df.loc[len(df)] = [\"WNet3D\", f\"WNet - {split}\", \"visual\", path]\n",
    "df"
   ]
  },
  {
   "cell_type": "code",
   "execution_count": 14,
   "id": "791bca32",
   "metadata": {},
   "outputs": [],
   "source": [
    "model_names = [\"StarDist - default\", \"StarDist\", \"Cellpose - default\", \"Cellpose\", \"SegResNet\", \"SwinUNetR\", \"WNet3D\", \"WNet3D - Pretrained\"]"
   ]
  },
  {
   "cell_type": "markdown",
   "id": "aeb5e145",
   "metadata": {},
   "source": [
    "```{note}\n",
    "For WNet3D, we compute two sets of scores :\n",
    "\n",
    "- One on c3, c5 and ALL of visual, which contains some artifacts. This is \"All data\".\n",
    "- One on c3, c5 and PART of visual, which does not contain artifacts. This is \"No artifacts\"."
   ]
  },
  {
   "cell_type": "code",
   "execution_count": 15,
   "id": "291373dd",
   "metadata": {},
   "outputs": [],
   "source": [
    "visual_slice = 50\n",
    "visual_gt_no_artifact = gt_dict[\"visual\"][:visual_slice,:,:]\n",
    "wnet_c3_pred = imread(image_folder / \"WNet/pretrained/c3_pred.tif\")\n",
    "wnet_c5_pred = imread(image_folder / \"WNet/pretrained/c5_pred.tif\")\n",
    "wnet_visual_no_artifact = imread(image_folder / \"WNet/pretrained/visual_pred.tif\")[:visual_slice,:,:]"
   ]
  },
  {
   "cell_type": "code",
   "execution_count": 16,
   "id": "b389f370",
   "metadata": {},
   "outputs": [],
   "source": [
    "path_df = df.copy()"
   ]
  },
  {
   "cell_type": "markdown",
   "id": "00e2d885",
   "metadata": {},
   "source": [
    "## F1 computation"
   ]
  },
  {
   "cell_type": "markdown",
   "id": "afe9f8c2",
   "metadata": {},
   "source": [
    "### Pre-processing for SwinUNetR and SegResNet"
   ]
  },
  {
   "cell_type": "code",
   "execution_count": 17,
   "id": "3757721c",
   "metadata": {},
   "outputs": [],
   "source": [
    "# We use the same threshold for all splits, estimated from the training data from the supervised benchmark figure \n",
    "swin_params = {\n",
    "    \"thresh\": 0.4,\n",
    "    \"spot_sigma\": 0.65,\n",
    "    \"outline_sigma\": 0.65,\n",
    "}\n",
    "segres_params = {\n",
    "    \"thresh\": 0.3,\n",
    "    \"spot_sigma\": 0.65,\n",
    "    \"outline_sigma\": 0.65,\n",
    "}\n",
    "wnet_params = {\n",
    "    \"thresh\": 0.6,\n",
    "    \"spot_sigma\": 0.65,\n",
    "    \"outline_sigma\": 0.65,\n",
    "}\n",
    "\n",
    "def models_instance_preprocessing(volume, params):\n",
    "    volume = np.where(volume > params[\"thresh\"], 1, 0)\n",
    "    labels = cle.voronoi_otsu_labeling(volume, spot_sigma=params[\"spot_sigma\"], outline_sigma=params[\"outline_sigma\"])\n",
    "    labels = remove_small_objects(np.array(labels), min_size=5)\n",
    "    return labels\n",
    "\n",
    "def wnet_preprocessing(volume, channel_foreground, params):\n",
    "    # this should only be done on volumes with more than 3 dimensions\n",
    "    if len(volume.shape) < 4:\n",
    "        return volume\n",
    "    volume = volume[channel_foreground]\n",
    "    volume = np.where(volume > params[\"thresh\"], 1, 0)\n",
    "    labels = cle.voronoi_otsu_labeling(volume, spot_sigma=params[\"spot_sigma\"], outline_sigma=params[\"outline_sigma\"])\n",
    "    return labels"
   ]
  },
  {
   "cell_type": "code",
   "execution_count": 18,
   "id": "1084101d",
   "metadata": {},
   "outputs": [],
   "source": [
    "# import napari\n",
    "# viewer = napari.Viewer()\n",
    "# # show visual gt and swin preprocessed for each split\n",
    "# swin_path = df.iloc[9]\n",
    "# swin_pred = imread(swin_path.path)\n",
    "# viewer.add_labels(gt_dict[\"c3\"], name=\"c3_gt\")\n",
    "# swin_pred_processed = models_instance_preprocessing(swin_pred, swin_params)\n",
    "# viewer.add_labels(swin_pred_processed, name=\"swin_pred\")\n",
    "# viewer.add_image(np.swapaxes(swin_pred), name=\"swin_pred_raw\", colormap=\"turbo\")"
   ]
  },
  {
   "cell_type": "code",
   "execution_count": 19,
   "id": "c5ddb5f59da27710",
   "metadata": {
    "ExecuteTime": {
     "end_time": "2023-09-21T13:21:42.692671300Z",
     "start_time": "2023-09-21T13:21:42.676714200Z"
    },
    "collapsed": false
   },
   "outputs": [],
   "source": [
    "df.set_index(\n",
    "    [\n",
    "    \"model\",\n",
    "    # \"split\"\n",
    "    ],\n",
    "    inplace=True\n",
    "             )"
   ]
  },
  {
   "cell_type": "markdown",
   "id": "11ca4dbd",
   "metadata": {},
   "source": [
    "### F1 score computation"
   ]
  },
  {
   "cell_type": "code",
   "execution_count": 101,
   "id": "57c0868a",
   "metadata": {},
   "outputs": [],
   "source": [
    "F1_THRESH = 0.5"
   ]
  },
  {
   "cell_type": "code",
   "execution_count": null,
   "id": "6373bf33",
   "metadata": {},
   "outputs": [],
   "source": [
    "def model_f1_across_splits(df, verbose=False):\n",
    "    f1_df = pd.DataFrame(columns=[\"Score\", \"Model\", \"Split\", \"GT\"])\n",
    "    for model in model_names:\n",
    "        for split in df.loc[model][\"split\"].unique():\n",
    "            for i, row in df.loc[model][df.loc[model][\"split\"] == split].iterrows():\n",
    "                gt = gt_dict[row[\"gt\"]]\n",
    "                pred = imread(row.path)\n",
    "                if model == \"SwinUNetR\":\n",
    "                    pred = models_instance_preprocessing(pred, swin_params)\n",
    "                if model == \"SegResNet\":\n",
    "                    pred = models_instance_preprocessing(pred, segres_params)\n",
    "                if model == \"WNet3D\":\n",
    "                    # look into path for foreground channel : c0 indicates first channel is foreground, c1 indicates second channel is foreground\n",
    "                    channel = 1 if \"c1\" in str(row.path) else 0\n",
    "                    pred = wnet_preprocessing(pred, channel, wnet_params)\n",
    "                    if row[\"gt\"] == \"visual\":\n",
    "                        pred = pred[:visual_slice,:,:]\n",
    "                        gt = gt[:visual_slice,:,:]\n",
    "                if verbose:\n",
    "                    print(f\"Model: {model}, Split: {split}, GT: {row['gt']}\")\n",
    "                    print(f\"Image shape: {pred.shape}\")\n",
    "                    print(f\"GT shape: {gt_dict[row['gt']].shape}\")\n",
    "                ####\n",
    "                # gt = np.where(gt > 0, 1, 0)\n",
    "                # pred = np.where(pred > 0, 1, 0)\n",
    "                # f1 = dice_coeff(gt, pred)\n",
    "                stats = matching_dataset(\n",
    "                gt, pred, thresh=F1_THRESH, show_progress=False\n",
    "                )\n",
    "                f1 = stats[\"f1\"]\n",
    "                ###\n",
    "                if verbose:\n",
    "                    print(f\"F1 @ {F1_THRESH}: {f1}\")\n",
    "                    print(\"_\"*20)\n",
    "                f1_df.loc[len(f1_df)] = [f1, model, split, row[\"gt\"]]\n",
    "    return f1_df"
   ]
  },
  {
   "cell_type": "code",
   "execution_count": null,
   "id": "5601067a",
   "metadata": {},
   "outputs": [],
   "source": [
    "f1_df = model_f1_across_splits(df, verbose=True)"
   ]
  },
  {
   "cell_type": "code",
   "execution_count": null,
   "id": "d645d885",
   "metadata": {},
   "outputs": [],
   "source": [
    "f1_df"
   ]
  },
  {
   "cell_type": "markdown",
   "id": "36c7cfd0",
   "metadata": {},
   "source": [
    "### WNet3D - No artifacts"
   ]
  },
  {
   "cell_type": "code",
   "execution_count": null,
   "id": "47162ffd",
   "metadata": {},
   "outputs": [],
   "source": [
    "wnet_preds_no_artifacts = { # No artifacts\n",
    "    \"WNet3D - No artifacts\": {\n",
    "        \"visual\": wnet_visual_no_artifact,\n",
    "        \"c3\": wnet_c3_pred,\n",
    "        \"c5\": wnet_c5_pred,\n",
    "    }\n",
    "}\n",
    "gt_dict_no_artifacts = {\n",
    "    \"visual\": visual_gt_no_artifact,\n",
    "    \"c3\": c3,\n",
    "    \"c5\": c5,\n",
    "}\n",
    "for split in wnet_preds_no_artifacts:\n",
    "    for image in wnet_preds_no_artifacts[split]:\n",
    "        gt = gt_dict_no_artifacts[image]\n",
    "        pred = wnet_preds_no_artifacts[split][image]\n",
    "        # gt = np.where(gt > 0, 1, 0)\n",
    "        # pred = np.where(pred > 0, 1, 0)\n",
    "        # f1 = dice_coeff(gt, pred)\n",
    "        stats = matching_dataset(\n",
    "            gt, pred, thresh=F1_THRESH, show_progress=False\n",
    "        )\n",
    "        f1 = stats[\"f1\"]\n",
    "        print(f\"Split: {split}, Image: {image}, Score: {f1}\")\n",
    "        f1_df.loc[len(f1_df)] = [f1, \"WNet3D - Pretrained\", split, image]"
   ]
  },
  {
   "cell_type": "markdown",
   "id": "5a3d66a3",
   "metadata": {},
   "source": [
    "### Detailed stats \n",
    "Shows means and stds of select splits for manuscript. \n",
    "This is the data was used in the text of the manuscript."
   ]
  },
  {
   "cell_type": "code",
   "execution_count": null,
   "id": "8732d530",
   "metadata": {},
   "outputs": [],
   "source": [
    "score_df_8020 = f1_df[f1_df[\"Split\"] == \"80/20\"]\n",
    "score_df_8020.groupby(\"Model\", sort=False).agg({\"Score\": [\"mean\", \"std\"]}).sort_values((\"Score\", \"mean\"), ascending=False)"
   ]
  },
  {
   "cell_type": "code",
   "execution_count": null,
   "id": "6b6221d7",
   "metadata": {},
   "outputs": [],
   "source": [
    "score_df_1090 = f1_df[f1_df[\"Split\"] == \"10/90\"]\n",
    "score_df_1090.groupby(\"Model\", sort=False).agg({\"Score\": [\"mean\", \"std\"]}).sort_values((\"Score\", \"mean\"), ascending=False)"
   ]
  },
  {
   "cell_type": "code",
   "execution_count": null,
   "id": "3e17f32d",
   "metadata": {},
   "outputs": [],
   "source": [
    "score_df_wnet = f1_df[f1_df[\"Model\"] == \"WNet3D - Pretrained\"]\n",
    "score_df_wnet.groupby(\"Split\").agg({\"Score\": [\"mean\", \"std\"]})"
   ]
  },
  {
   "cell_type": "code",
   "execution_count": null,
   "id": "ebab407d",
   "metadata": {},
   "outputs": [],
   "source": [
    "score_df_wnet_trained_on_subsets = f1_df[f1_df[\"Model\"] == \"WNet3D\"]\n",
    "score_df_wnet_trained_on_subsets.groupby(\"Split\").agg({\"Score\": [\"mean\", \"std\"]})"
   ]
  },
  {
   "cell_type": "markdown",
   "id": "a41e6a35",
   "metadata": {},
   "source": [
    "## Plots"
   ]
  },
  {
   "cell_type": "code",
   "execution_count": 28,
   "id": "c96e4b0b",
   "metadata": {},
   "outputs": [],
   "source": [
    "f1_df['Model_Split'] = f1_df['Model'] + ' (' + f1_df['Split'].astype(str) + ')'"
   ]
  },
  {
   "cell_type": "code",
   "execution_count": 108,
   "id": "adaeaec3",
   "metadata": {},
   "outputs": [
    {
     "data": {
      "text/html": [
       "<div>\n",
       "<style scoped>\n",
       "    .dataframe tbody tr th:only-of-type {\n",
       "        vertical-align: middle;\n",
       "    }\n",
       "\n",
       "    .dataframe tbody tr th {\n",
       "        vertical-align: top;\n",
       "    }\n",
       "\n",
       "    .dataframe thead th {\n",
       "        text-align: right;\n",
       "    }\n",
       "</style>\n",
       "<table border=\"1\" class=\"dataframe\">\n",
       "  <thead>\n",
       "    <tr style=\"text-align: right;\">\n",
       "      <th></th>\n",
       "      <th>Model</th>\n",
       "      <th>Split</th>\n",
       "      <th>GT</th>\n",
       "      <th>Score</th>\n",
       "    </tr>\n",
       "  </thead>\n",
       "  <tbody>\n",
       "    <tr>\n",
       "      <th>0</th>\n",
       "      <td>Model 1</td>\n",
       "      <td>1</td>\n",
       "      <td>GT 1</td>\n",
       "      <td>0.025535</td>\n",
       "    </tr>\n",
       "    <tr>\n",
       "      <th>1</th>\n",
       "      <td>Model 1</td>\n",
       "      <td>1</td>\n",
       "      <td>GT 2</td>\n",
       "      <td>0.964174</td>\n",
       "    </tr>\n",
       "    <tr>\n",
       "      <th>2</th>\n",
       "      <td>Model 1</td>\n",
       "      <td>1</td>\n",
       "      <td>GT 3</td>\n",
       "      <td>0.480924</td>\n",
       "    </tr>\n",
       "    <tr>\n",
       "      <th>3</th>\n",
       "      <td>Model 1</td>\n",
       "      <td>2</td>\n",
       "      <td>GT 1</td>\n",
       "      <td>0.116024</td>\n",
       "    </tr>\n",
       "    <tr>\n",
       "      <th>4</th>\n",
       "      <td>Model 1</td>\n",
       "      <td>2</td>\n",
       "      <td>GT 2</td>\n",
       "      <td>0.840597</td>\n",
       "    </tr>\n",
       "    <tr>\n",
       "      <th>...</th>\n",
       "      <td>...</td>\n",
       "      <td>...</td>\n",
       "      <td>...</td>\n",
       "      <td>...</td>\n",
       "    </tr>\n",
       "    <tr>\n",
       "      <th>85</th>\n",
       "      <td>Model 8</td>\n",
       "      <td>1</td>\n",
       "      <td>GT 2</td>\n",
       "      <td>0.748133</td>\n",
       "    </tr>\n",
       "    <tr>\n",
       "      <th>86</th>\n",
       "      <td>Model 8</td>\n",
       "      <td>1</td>\n",
       "      <td>GT 3</td>\n",
       "      <td>0.375378</td>\n",
       "    </tr>\n",
       "    <tr>\n",
       "      <th>87</th>\n",
       "      <td>Model 8</td>\n",
       "      <td>2</td>\n",
       "      <td>GT 1</td>\n",
       "      <td>0.561062</td>\n",
       "    </tr>\n",
       "    <tr>\n",
       "      <th>88</th>\n",
       "      <td>Model 8</td>\n",
       "      <td>2</td>\n",
       "      <td>GT 2</td>\n",
       "      <td>0.098016</td>\n",
       "    </tr>\n",
       "    <tr>\n",
       "      <th>89</th>\n",
       "      <td>Model 8</td>\n",
       "      <td>2</td>\n",
       "      <td>GT 3</td>\n",
       "      <td>0.409466</td>\n",
       "    </tr>\n",
       "  </tbody>\n",
       "</table>\n",
       "<p>90 rows × 4 columns</p>\n",
       "</div>"
      ],
      "text/plain": [
       "      Model Split    GT     Score\n",
       "0   Model 1     1  GT 1  0.025535\n",
       "1   Model 1     1  GT 2  0.964174\n",
       "2   Model 1     1  GT 3  0.480924\n",
       "3   Model 1     2  GT 1  0.116024\n",
       "4   Model 1     2  GT 2  0.840597\n",
       "..      ...   ...   ...       ...\n",
       "85  Model 8     1  GT 2  0.748133\n",
       "86  Model 8     1  GT 3  0.375378\n",
       "87  Model 8     2  GT 1  0.561062\n",
       "88  Model 8     2  GT 2  0.098016\n",
       "89  Model 8     2  GT 3  0.409466\n",
       "\n",
       "[90 rows x 4 columns]"
      ]
     },
     "execution_count": 108,
     "metadata": {},
     "output_type": "execute_result"
    }
   ],
   "source": [
    "######## MOCK DATA FOR TESTING ########\n",
    "# will be removed once run on real data\n",
    "splits_mock = [\"1\", \"1\", \"1\", \"2\", \"2\", \"2\", \"3\", \"3\", \"3\", \"4\", \"4\", \"4\"]\n",
    "gt_mock = [\"GT 1\", \"GT 2\", \"GT 3\", \"GT 1\", \"GT 2\", \"GT 3\", \"GT 1\", \"GT 2\", \"GT 3\", \"GT 1\", \"GT 2\", \"GT 3\"]\n",
    "def model_mock(id, num=12):\n",
    "    return [f\"Model {id}\"] * num\n",
    "def scores_mock(length):\n",
    "    return np.random.rand(length).tolist()\n",
    "\n",
    "mock_data_df = pd.DataFrame({\n",
    "    \"Model\": model_mock(1) + model_mock(2) + model_mock(3) + model_mock(4) + model_mock(5) + model_mock(6) + model_mock(7) + model_mock(8, 6),\n",
    "    \"Split\": splits_mock + splits_mock + splits_mock + splits_mock + splits_mock + splits_mock + splits_mock + [\"1\", \"1\", \"1\", \"2\", \"2\", \"2\"],\n",
    "    \"GT\": gt_mock + gt_mock + gt_mock + gt_mock + gt_mock + gt_mock + gt_mock + [\"GT 1\", \"GT 2\", \"GT 3\", \"GT 1\", \"GT 2\", \"GT 3\"],\n",
    "    \"Score\": scores_mock(len(splits_mock)) + scores_mock(len(splits_mock)) + scores_mock(len(splits_mock)) + scores_mock(len(splits_mock))+ scores_mock(len(splits_mock))+ scores_mock(len(splits_mock))+ scores_mock(len(splits_mock))+ scores_mock(6)\n",
    "}).sort_values(by=[\"Model\", \"Split\", \"GT\"])\n",
    "\n",
    "mock_data_df\n",
    "#######################################"
   ]
  },
  {
   "cell_type": "markdown",
   "id": "5f31872a",
   "metadata": {},
   "source": [
    "### Matplotlib-only version"
   ]
  },
  {
   "cell_type": "code",
   "execution_count": 109,
   "id": "5b0987ed",
   "metadata": {},
   "outputs": [
    {
     "name": "stderr",
     "output_type": "stream",
     "text": [
      "No artists with labels found to put in legend.  Note that artists whose label start with an underscore are ignored when legend() is called with no argument.\n"
     ]
    },
    {
     "data": {
      "image/png": "[encoded data removed]",
      "text/plain": [
       "<Figure size 1800x1200 with 1 Axes>"
      ]
     },
     "metadata": {
      "needs_background": "light"
     },
     "output_type": "display_data"
    }
   ],
   "source": [
    "models = mock_data_df[\"Model\"].unique()\n",
    "model_splits = {model: mock_data_df[mock_data_df[\"Model\"] == model][\"Split\"].unique() for model in models}\n",
    "\n",
    "data = []\n",
    "labels = []\n",
    "for model in models:\n",
    "    splits = model_splits[model]\n",
    "    for split in splits:\n",
    "        scores_vals = mock_data_df[(mock_data_df[\"Model\"] == model) & (mock_data_df[\"Split\"] == split)][\"Score\"].values\n",
    "        data.append(scores_vals)\n",
    "        labels.append(f'{model}-{split}')\n",
    "    data.append([])  # add a gap between models\n",
    "    labels.append('') \n",
    "\n",
    "fig, ax = plt.subplots(figsize=(9, 6), dpi=DPI)\n",
    "box = ax.boxplot(data, patch_artist=True, widths=0.6)\n",
    "\n",
    "# set boxplot colors, minding the gap\n",
    "colors = EXPANDED_COLORMAP + EXPANDED_COLORMAP[-2:]\n",
    "color_index = 0\n",
    "for i in range(len(box['boxes'])):\n",
    "    if len(data[i]) == 0:\n",
    "        continue\n",
    "    box['boxes'][i].set_facecolor(colors[color_index])\n",
    "    color_index += 1\n",
    "\n",
    "# set median to white for better visibility\n",
    "for median in box['medians']:\n",
    "    median.set(color='white', linewidth=1)\n",
    "\n",
    "# shade each group of splits\n",
    "group_start = 0\n",
    "for i, model in enumerate(models):\n",
    "    splits = model_splits[model]\n",
    "    group_end = group_start + len(splits)\n",
    "    # use 4th color, unless we reach the end of the colors list, where we have Wnet3d again\n",
    "    c= colors[i*4+3] if i < 7 else colors[-1]\n",
    "    ax.fill_between(\n",
    "        x=[group_start + 0.5, group_end + 0.5],\n",
    "        y1=0,\n",
    "        y2=1,\n",
    "        color=c,\n",
    "        alpha=0.3 \n",
    "    )\n",
    "    group_start = group_end + 1\n",
    "\n",
    "# move and group xticks\n",
    "model_labels = []\n",
    "model_positions = []\n",
    "model_labels = []\n",
    "model_positions = []\n",
    "for i, model in enumerate(models):\n",
    "    model_labels.append(model)\n",
    "    offset = 5/2 if i < 7 else 3/2\n",
    "    model_positions.append(i * 5 + offset)\n",
    "\n",
    "ax.set_xticks(model_positions)\n",
    "ax.set_xticklabels(model_labels, ha='center')\n",
    "\n",
    "# the usual formatting\n",
    "ax.tick_params(axis=\"both\", which=\"major\", labelsize=LEGEND_FONT_SIZE)\n",
    "ax.tick_params(axis = 'x',   rotation = 65)\n",
    "ax.spines[\"right\"].set_visible(False)\n",
    "ax.spines[\"top\"].set_visible(False)\n",
    "plt.ylim([-0.02,1])\n",
    "ax.set_yticks(np.arange(0,1.1,0.1))\n",
    "sns.despine(\n",
    "    left=False,\n",
    "    right=True,\n",
    "    bottom=False,\n",
    "    top=True,\n",
    "    trim=True,\n",
    "    offset={\"bottom\": 40, \"left\": 15},\n",
    ")\n",
    "legend = ax.legend(fontsize=LEGEND_FONT_SIZE, bbox_to_anchor=BBOX_TO_ANCHOR, loc=LOC)\n",
    "fig.patch.set_alpha(0)\n",
    "ax.patch.set_alpha(0)\n",
    "legend.get_frame().set_alpha(0)\n",
    "ax.set_xlabel(\"\", fontsize=LABEL_FONT_SIZE)\n",
    "ax.set_ylabel(rf\"F1$_{{avg}}^{{{F1_THRESH}}}$\", fontsize=LABEL_FONT_SIZE)\n",
    "plt.legend([],[], frameon=False)\n",
    "\n",
    "####### TEMP WATERMARK #######\n",
    "ax.text(\n",
    "    x=len(box['boxes'])/2, \n",
    "    y=0.5,\n",
    "    s=\"Mock Data\",\n",
    "    color='red',\n",
    "    rotation=45,\n",
    "    alpha=0.3, \n",
    "    fontsize=60,   \n",
    "    ha='center',   \n",
    "    va='center'    \n",
    ")\n",
    "###############################\n",
    "\n",
    "\n",
    "plt.show()\n",
    "\n",
    "if SAVE_PLOTS_AS_PNG:\n",
    "    fig.savefig(\"Label_efficiency.png\", dpi=DPI, bbox_inches=\"tight\")\n",
    "if SAVE_PLOTS_AS_SVG:\n",
    "    fig.savefig(\"Label_efficiency.svg\", bbox_inches=\"tight\")"
   ]
  },
  {
   "cell_type": "markdown",
   "id": "bd408fe4",
   "metadata": {},
   "source": [
    "### Seaborn version (deprecated)\n",
    "\n",
    "#### All models (hard to read)"
   ]
  },
  {
   "cell_type": "code",
   "execution_count": null,
   "id": "f8ecff86",
   "metadata": {},
   "outputs": [],
   "source": [
    "fig, ax = plt.subplots(figsize=(9, 6), dpi=DPI)\n",
    "sns.boxplot(\n",
    "    data=f1_df,\n",
    "    x=\"Model\", \n",
    "    y=\"Score\", \n",
    "    hue=\"Model_Split\", \n",
    "    ax=ax, \n",
    "    palette=EXPANDED_COLORMAP,\n",
    "    # dodge=False,\n",
    "    )\n",
    "for i, artist in enumerate(ax.artists): # try to center the boxplot on xticks\n",
    "    for j in range(i*6,i*6+6):\n",
    "        line = ax.lines[j]\n",
    "        line.set_color(artist.get_facecolor())\n",
    "        if j % 6 == 4: \n",
    "            x, y = line.get_xydata()[0]\n",
    "            x_center = i // 2 \n",
    "            if i % 2: \n",
    "                line.set_xdata([x_center + 0.2, x_center + 0.2, x, x_center + 0.2])\n",
    "            else:  \n",
    "                line.set_xdata([x_center - 0.2, x_center - 0.2, x, x_center - 0.2])\n",
    "\n",
    "ax.tick_params(axis=\"both\", which=\"major\", labelsize=LEGEND_FONT_SIZE)\n",
    "ax.tick_params(axis = 'x',   rotation = 65)\n",
    "ax.spines[\"right\"].set_visible(False)\n",
    "ax.spines[\"top\"].set_visible(False)\n",
    "plt.ylim([-0.02,1])\n",
    "ax.set_yticks(np.arange(0,1.1,0.1))\n",
    "sns.despine(\n",
    "    left=False,\n",
    "    right=True,\n",
    "    bottom=False,\n",
    "    top=True,\n",
    "    trim=True,\n",
    "    offset={\"bottom\": 40, \"left\": 15},\n",
    ")\n",
    "legend = ax.legend(fontsize=LEGEND_FONT_SIZE, bbox_to_anchor=BBOX_TO_ANCHOR, loc=LOC)\n",
    "fig.patch.set_alpha(0)\n",
    "ax.patch.set_alpha(0)\n",
    "legend.get_frame().set_alpha(0)\n",
    "ax.set_xlabel(\"\", fontsize=LABEL_FONT_SIZE)\n",
    "ax.set_ylabel(\"F1 score\", fontsize=LABEL_FONT_SIZE)\n",
    "plt.legend([],[], frameon=False)\n",
    "plt.show()\n",
    "\n",
    "if SAVE_PLOTS_AS_PNG:\n",
    "    fig.savefig(\"Label_efficiency.png\", dpi=DPI, bbox_inches=\"tight\")\n",
    "if SAVE_PLOTS_AS_SVG:\n",
    "    fig.savefig(\"Label_efficiency.svg\", bbox_inches=\"tight\")"
   ]
  },
  {
   "cell_type": "markdown",
   "id": "b977ce0c",
   "metadata": {},
   "source": [
    "### Legend"
   ]
  },
  {
   "cell_type": "code",
   "execution_count": null,
   "id": "f509c569",
   "metadata": {},
   "outputs": [],
   "source": [
    "fig_leg = plt.figure(figsize=(3, 2))\n",
    "ax_leg = fig_leg.add_subplot(111)\n",
    "ax_leg.legend(handles=legend.legend_handles, labels=[text.get_text() for text in legend.texts])\n",
    "ax_leg.axis('off')\n",
    "plt.show()\n",
    "if SAVE_PLOTS_AS_PNG:\n",
    "    fig_leg.savefig(\"Label_efficiency_legend.png\", dpi=DPI, bbox_inches=\"tight\")\n",
    "if SAVE_PLOTS_AS_SVG:\n",
    "    fig_leg.savefig(\"Label_efficiency_legend.svg\", bbox_inches=\"tight\")"
   ]
  },
  {
   "cell_type": "markdown",
   "id": "2e3645b4",
   "metadata": {},
   "source": [
    "#### Self-supervised models"
   ]
  },
  {
   "cell_type": "code",
   "execution_count": null,
   "id": "804ed5df",
   "metadata": {},
   "outputs": [],
   "source": [
    "fig, ax = plt.subplots(figsize=(6, 6), dpi=DPI)\n",
    "wnet_models = [\"WNet3D\", \"WNet3D - Pretrained\"]\n",
    "scores_df_selfsupervised = f1_df[f1_df[\"Model\"].isin(wnet_models)]\n",
    "sns.boxplot(\n",
    "    data=scores_df_selfsupervised,\n",
    "    x=\"Model\", \n",
    "    y=\"Score\", \n",
    "    hue=\"Model_Split\", \n",
    "    ax=ax, \n",
    "    palette=EXPANDED_COLORMAP[20:]\n",
    "    # dodge=False,\n",
    "    )\n",
    "for i, artist in enumerate(ax.artists): # try to center the boxplot on xticks\n",
    "    for j in range(i*6,i*6+6):\n",
    "        line = ax.lines[j]\n",
    "        line.set_color(artist.get_facecolor())\n",
    "        if j % 6 == 4: \n",
    "            x, y = line.get_xydata()[0]\n",
    "            x_center = i // 2 \n",
    "            if i % 2: \n",
    "                line.set_xdata([x_center + 0.2, x_center + 0.2, x, x_center + 0.2])\n",
    "            else:  \n",
    "                line.set_xdata([x_center - 0.2, x_center - 0.2, x, x_center - 0.2])\n",
    "\n",
    "ax.spines[\"right\"].set_visible(False)\n",
    "ax.spines[\"top\"].set_visible(False)\n",
    "ax.tick_params(axis=\"both\", which=\"major\", labelsize=LEGEND_FONT_SIZE)\n",
    "ax.tick_params(axis = 'x',   rotation = 65)\n",
    "plt.ylim([-0.02,1])\n",
    "ax.set_yticks(np.arange(0,1.1,0.1))\n",
    "sns.despine(\n",
    "    left=False,\n",
    "    right=True,\n",
    "    bottom=False,\n",
    "    top=True,\n",
    "    trim=True,\n",
    "    offset={\"bottom\": 40, \"left\": 15},\n",
    ")\n",
    "legend = ax.legend(fontsize=LEGEND_FONT_SIZE, bbox_to_anchor=BBOX_TO_ANCHOR, loc=LOC)\n",
    "fig.patch.set_alpha(0)\n",
    "ax.patch.set_alpha(0)\n",
    "legend.get_frame().set_alpha(0)\n",
    "ax.set_xlabel(\"\", fontsize=LABEL_FONT_SIZE)\n",
    "ax.set_ylabel(\"F1\", fontsize=LABEL_FONT_SIZE)\n",
    "plt.legend([],[], frameon=False)\n",
    "plt.show()\n",
    "\n",
    "if SAVE_PLOTS_AS_PNG:\n",
    "    fig.savefig(\"Label_efficiency_selfsup.png\", dpi=DPI, bbox_inches=\"tight\")\n",
    "if SAVE_PLOTS_AS_SVG:\n",
    "    fig.savefig(\"Label_efficiency_selfsup.svg\", bbox_inches=\"tight\")"
   ]
  },
  {
   "cell_type": "markdown",
   "id": "9d2140ec",
   "metadata": {},
   "source": [
    "### Boxplots for each model"
   ]
  },
  {
   "cell_type": "code",
   "execution_count": null,
   "id": "e438c629",
   "metadata": {},
   "outputs": [],
   "source": [
    "models_dfs = [f1_df[f1_df[\"Model\"] == model].copy() for model in model_names]\n",
    "save_path = Path(\"label_efficiency\")\n",
    "save_path.mkdir(exist_ok=True)\n",
    "for i, model in enumerate(model_names):\n",
    "    print(model)\n",
    "    # figsize_width = 1 if model != \"WNet - Ours\" else 0.33 # does not accept float values\n",
    "    fig, ax = plt.subplots(figsize=(1, 6), dpi=DPI)\n",
    "    df = models_dfs[i]\n",
    "    sns.boxplot(\n",
    "        data=df,\n",
    "        x=\"Model_Split\", \n",
    "        y=\"Score\", \n",
    "        hue=\"Split\", \n",
    "        ax=ax, \n",
    "        palette=EXPANDED_COLORMAP[0+4*i:4+4*i],\n",
    "    )\n",
    "    ax.tick_params(axis = 'x',   rotation = 45)\n",
    "    ax.spines[\"right\"].set_visible(False)\n",
    "    ax.spines[\"top\"].set_visible(False)\n",
    "    ax.tick_params(axis=\"both\", which=\"major\", labelsize=LEGEND_FONT_SIZE)\n",
    "    ax.set_yticks(np.arange(0,1.1,0.1))\n",
    "    ax.set_ylim([-0.02,1])\n",
    "    sns.despine(\n",
    "        left=False,\n",
    "        right=True,\n",
    "        bottom=False,\n",
    "        top=True,\n",
    "        trim=True,\n",
    "        offset={\"bottom\": 40, \"left\": 15},\n",
    "        ax=ax\n",
    "    )\n",
    "    ax.set_xticklabels(\"\", fontsize=LABEL_FONT_SIZE)\n",
    "    ax.set_xlabel(\"\", fontsize=LABEL_FONT_SIZE)\n",
    "    ax.set_ylabel(\"F1\", fontsize=LABEL_FONT_SIZE)\n",
    "    ax.legend([],[], frameon=False)\n",
    "    ax.patch.set_alpha(0)\n",
    "    legend = ax.get_legend()\n",
    "    if legend:\n",
    "        legend.remove()\n",
    "    # ax.set_title(model, fontsize=LABEL_FONT_SIZE)\n",
    "    fig.patch.set_alpha(0)\n",
    "    plt.show()\n",
    "    if SAVE_PLOTS_AS_PNG:\n",
    "        fig.savefig(f\"{str(save_path)}/Label_efficiency_{model}.png\", dpi=DPI, bbox_inches=\"tight\")\n",
    "    if SAVE_PLOTS_AS_SVG:\n",
    "        fig.savefig(f\"{str(save_path)}/Label_efficiency_{model}.svg\", bbox_inches=\"tight\")"
   ]
  },
  {
   "cell_type": "markdown",
   "id": "1bd1383b",
   "metadata": {},
   "source": [
    "### Zoom-in for rightmost models"
   ]
  },
  {
   "cell_type": "code",
   "execution_count": null,
   "id": "41739d65",
   "metadata": {},
   "outputs": [],
   "source": [
    "# same as above with Swin and WNet and y axis on the right\n",
    "fig, ax = plt.subplots(figsize=(3, 6), dpi=DPI)\n",
    "zoom_df = f1_df[f1_df[\"Model\"].isin([\"SwinUNetR\", \"WNet3D\"])]\n",
    "sns.boxplot(data=zoom_df, x=\"Model\", y=\"Score\", hue=\"Split\", ax=ax, palette=EXPANDED_COLORMAP[16:], dodge=True)\n",
    "ax.spines[\"left\"].set_visible(False)\n",
    "ax.spines[\"top\"].set_visible(False)\n",
    "ax.tick_params(axis=\"both\", which=\"major\", labelsize=LEGEND_FONT_SIZE)\n",
    "ax.tick_params(axis = 'x',   rotation = 45,)\n",
    "# ax.set_ylim([0.8,0.85])\n",
    "# ax.set_yticks(np.arange(0.8,0.86,0.01))\n",
    "ax.set_ylim([0.55,0.95])\n",
    "ax.set_yticks(np.arange(0.55,0.96,0.05))\n",
    "ax.set_xlabel(\"\", fontsize=LABEL_FONT_SIZE)\n",
    "ax.set_ylabel(\"F1\", fontsize=LABEL_FONT_SIZE)\n",
    "ax.legend_.remove()\n",
    "sns.despine(\n",
    "    left=False,\n",
    "    right=True,\n",
    "    bottom=False,\n",
    "    top=True,\n",
    "    trim=True,\n",
    "    offset={\"bottom\": 40, \"right\": 15},\n",
    ")\n",
    "# legend = ax.legend(fontsize=LEGEND_FONT_SIZE, bbox_to_anchor=BBOX_TO_ANCHOR, loc=LOC)\n",
    "# legend.get_frame().set_alpha(0)\n",
    "fig.patch.set_alpha(0)\n",
    "ax.patch.set_alpha(0)\n",
    "\n",
    "if SAVE_PLOTS_AS_PNG:\n",
    "    fig.savefig(\"Label_efficiency_SWIN_WNET_zoom.png\", dpi=DPI, bbox_inches=\"tight\")\n",
    "if SAVE_PLOTS_AS_SVG:\n",
    "    fig.savefig(\"Label_efficiency_SWIN_WNET_zoom.svg\", bbox_inches=\"tight\")"
   ]
  },
  {
   "cell_type": "markdown",
   "id": "559ac862",
   "metadata": {},
   "source": [
    "## Statistical tests"
   ]
  },
  {
   "cell_type": "markdown",
   "id": "02f327d9",
   "metadata": {},
   "source": [
    "Here we run a Kruskal-Wallis test to assess if all models differ from each other, when performance is averaged across splits. "
   ]
  },
  {
   "cell_type": "markdown",
   "id": "eafa319f",
   "metadata": {},
   "source": [
    "### Performance across models\n"
   ]
  },
  {
   "cell_type": "code",
   "execution_count": null,
   "id": "74029c29",
   "metadata": {},
   "outputs": [],
   "source": [
    "f1_df"
   ]
  },
  {
   "cell_type": "markdown",
   "id": "5d7dd501",
   "metadata": {},
   "source": [
    "### Boxplot of model performance across all splits"
   ]
  },
  {
   "cell_type": "code",
   "execution_count": null,
   "id": "6e2e15e6",
   "metadata": {},
   "outputs": [],
   "source": [
    "from plots import _format_plot\n",
    "\n",
    "fig, ax = plt.subplots(figsize=(8, 8), dpi=DPI)\n",
    "test_df = f1_df[f1_df[\"Split\"] != \"WNet - Artifacts\"]\n",
    "test_df = test_df.groupby(\"Model\", sort=False).Score.apply(list).reset_index()\n",
    "sns.boxplot(data=f1_df, hue=\"Model\", y=\"Score\", palette=temp_cmap, ax=ax)\n",
    "_format_plot(ax, xlabel=\"Model\", ylabel=\"F1\", title=\"F1 across splits\")\n",
    "fig.patch.set_alpha(0)\n",
    "ax.patch.set_alpha(0)\n",
    "plt.show()\n",
    "\n",
    "if SAVE_PLOTS_AS_PNG:\n",
    "    fig.savefig(\"Label_efficiency_all_models_pooled.png\", dpi=DPI)\n",
    "if SAVE_PLOTS_AS_SVG:\n",
    "    fig.savefig(\"Label_efficiency_all_models_pooled.svg\", bbox_inches=\"tight\")"
   ]
  },
  {
   "cell_type": "code",
   "execution_count": null,
   "id": "a3a1240b",
   "metadata": {},
   "outputs": [],
   "source": [
    "print(kruskal(*test_df.Score.tolist()))"
   ]
  },
  {
   "cell_type": "markdown",
   "id": "5b0aef09",
   "metadata": {},
   "source": [
    "### p-values heatmap - Default notation"
   ]
  },
  {
   "cell_type": "code",
   "execution_count": null,
   "id": "9549110a",
   "metadata": {},
   "outputs": [],
   "source": [
    "from scikit_posthocs import posthoc_conover\n",
    "import matplotlib.colors as colors\n",
    "import matplotlib.patches as mpatches\n",
    "\n",
    "fig, ax = plt.subplots(figsize=(8, 8), dpi=DPI)\n",
    "results = posthoc_conover(f1_df, val_col=\"Score\", group_col=\"Model\", p_adjust=\"holm\")\n",
    "\n",
    "low_color = COLORMAP[0]\n",
    "mid_color = COLORMAP[1]\n",
    "high_color = COLORMAP[2]\n",
    "equals_1_color = COLORMAP[3]\n",
    "\n",
    "levels = [0, 0.05, 0.06, 0.99, 1]\n",
    "colors_list = [low_color, mid_color, high_color, high_color, equals_1_color]\n",
    "cmap = colors.LinearSegmentedColormap.from_list(\"\", list(zip(levels, colors_list)))\n",
    "norm = colors.Normalize(vmin=0, vmax=1)\n",
    "\n",
    "diag = np.diag_indices(results.shape[0])\n",
    "results.values[diag] = np.nan\n",
    "sns.heatmap(results, annot=True, cmap=cmap, norm=norm, cbar=False, fmt=\".4f\", linewidths=0.5, ax=ax)\n",
    "\n",
    "patches = [mpatches.Patch(color=low_color, label='Above 0 (significant)'),\n",
    "           mpatches.Patch(color=mid_color, label='Below 0.05 (significant)'),\n",
    "           mpatches.Patch(color=high_color, label='Above 0.05 (not significant)'),\n",
    "           mpatches.Patch(color=equals_1_color, label='Equals 1 (not significant)')]\n",
    "\n",
    "ax.legend(handles=patches, bbox_to_anchor=(1.05, 1), loc=2, borderaxespad=0.)\n",
    "# transparent background\n",
    "fig.patch.set_alpha(0)\n",
    "ax.patch.set_alpha(0)\n",
    "\n",
    "if SAVE_PLOTS_AS_PNG:\n",
    "    plt.savefig(\"Label_efficiency_posthoc_conover.png\", dpi=DPI, bbox_inches=\"tight\")\n",
    "if SAVE_PLOTS_AS_SVG:\n",
    "    plt.savefig(\"Label_efficiency_posthoc_conover.svg\", bbox_inches=\"tight\")"
   ]
  },
  {
   "cell_type": "markdown",
   "id": "a9c9da58",
   "metadata": {},
   "source": [
    "### p-values heatmap - Scientific notation"
   ]
  },
  {
   "cell_type": "code",
   "execution_count": null,
   "id": "33126abe",
   "metadata": {},
   "outputs": [],
   "source": [
    "from scikit_posthocs import posthoc_conover\n",
    "import matplotlib.colors as colors\n",
    "import matplotlib.patches as mpatches\n",
    "\n",
    "fig, ax = plt.subplots(figsize=(8, 8), dpi=DPI)\n",
    "results = posthoc_conover(f1_df, val_col=\"Score\", group_col=\"Model\", p_adjust=\"holm\")\n",
    "\n",
    "low_color = COLORMAP[0]\n",
    "mid_color = COLORMAP[1]\n",
    "high_color = COLORMAP[2]\n",
    "equals_1_color = COLORMAP[3]\n",
    "\n",
    "levels = [0, 0.05, 0.06, 0.99, 1]\n",
    "colors_list = [low_color, mid_color, high_color, high_color, equals_1_color]\n",
    "cmap = colors.LinearSegmentedColormap.from_list(\"\", list(zip(levels, colors_list)))\n",
    "norm = colors.Normalize(vmin=0, vmax=1)\n",
    "\n",
    "diag = np.diag_indices(results.shape[0])\n",
    "results.values[diag] = np.nan\n",
    "sns.heatmap(results, annot=True, cmap=cmap, norm=norm, cbar=False, fmt=\".2e\", linewidths=0.5, ax=ax)\n",
    "\n",
    "patches = [mpatches.Patch(color=low_color, label='Above 0 (significant)'),\n",
    "           mpatches.Patch(color=mid_color, label='Below 0.05 (significant)'),\n",
    "           mpatches.Patch(color=high_color, label='Above 0.05 (not significant)'),\n",
    "           mpatches.Patch(color=equals_1_color, label='Equals 1 (not significant)')]\n",
    "\n",
    "ax.legend(handles=patches, bbox_to_anchor=(1.05, 1), loc=2, borderaxespad=0.)\n",
    "# transparent background\n",
    "fig.patch.set_alpha(0)\n",
    "ax.patch.set_alpha(0)\n",
    "\n",
    "if SAVE_PLOTS_AS_PNG:\n",
    "    plt.savefig(\"Label_efficiency_posthoc_conover_sci.png\", dpi=DPI, bbox_inches=\"tight\")\n",
    "if SAVE_PLOTS_AS_SVG:\n",
    "    plt.savefig(\"Label_efficiency_posthoc_conover_sci.svg\", bbox_inches=\"tight\")"
   ]
  },
  {
   "cell_type": "markdown",
   "id": "30de5b8d",
   "metadata": {},
   "source": [
    "## Unused"
   ]
  },
  {
   "cell_type": "code",
   "execution_count": null,
   "id": "4e872dd3",
   "metadata": {},
   "outputs": [],
   "source": [
    "test = f1_df.copy()\n",
    "test[\"Split\"].apply(lambda x: x.split(\"/\")[0][-3:]).values"
   ]
  },
  {
   "cell_type": "code",
   "execution_count": null,
   "id": "35065ea1",
   "metadata": {},
   "outputs": [],
   "source": [
    "f1_df"
   ]
  },
  {
   "cell_type": "code",
   "execution_count": null,
   "id": "668e9b6b",
   "metadata": {},
   "outputs": [],
   "source": [
    "import statsmodels.api as sm\n",
    "import statsmodels.formula.api as smf\n",
    "\n",
    "# Fit a linear mixed effects model\n",
    "mlm_df = f1_df.copy()\n",
    "mlm_df[\"Data_percentage\"] = mlm_df[\"Split\"].apply(lambda x: x.split(\"/\")[0][-3:])\n",
    "# replace \"cts\" by 100 in the Data_percentage column\n",
    "mlm_df[\"Data_percentage\"] = mlm_df[\"Data_percentage\"].replace(\"cts\", 100)\n",
    "mlm_df[\"Data_percentage\"] = mlm_df[\"Data_percentage\"].astype(int)\n",
    "mlm_df"
   ]
  },
  {
   "cell_type": "code",
   "execution_count": null,
   "id": "077fa043",
   "metadata": {},
   "outputs": [],
   "source": [
    "sns.scatterplot(data=mlm_df, x=\"Data_percentage\", y=\"Score\", hue=\"Model\", style=\"GT\")"
   ]
  },
  {
   "cell_type": "code",
   "execution_count": null,
   "id": "1038c8ba",
   "metadata": {},
   "outputs": [],
   "source": [
    "sns.scatterplot(data=mlm_df, x=\"Data_percentage\", y=\"Score\", hue=\"GT\", legend=False)"
   ]
  },
  {
   "cell_type": "code",
   "execution_count": null,
   "id": "50d937ae",
   "metadata": {},
   "outputs": [],
   "source": [
    "model = smf.mixedlm(\"Score ~ Data_percentage + C(Model) + C(GT)\", mlm_df.copy(), groups=\"Model\")\n",
    "result = model.fit()\n",
    "\n",
    "# Create a DataFrame to hold the p-values\n",
    "pvalues = pd.DataFrame(result.pvalues, columns=[\"p-value\"])\n",
    "result.summary()"
   ]
  },
  {
   "cell_type": "code",
   "execution_count": null,
   "id": "66173421",
   "metadata": {},
   "outputs": [],
   "source": [
    "# use non-parametric repeated measures ANOVA\n",
    "from scipy.stats import friedmanchisquare\n",
    "\n",
    "test_df = f1_df[f1_df[\"Model\"] != \"WNet3D - Pretrained\"].copy()\n",
    "test_df = test_df.groupby(\"Model\", sort=False)[\"Score\"]\n",
    "\n",
    "fried_stats, p_value = friedmanchisquare(*test_df.apply(list))\n",
    "\n",
    "print(f\"Friedman test p-value: {p_value}, statistic: {fried_stats}\")"
   ]
  }
 ],
 "metadata": {
  "kernelspec": {
   "display_name": "Python 3 (ipykernel)",
   "language": "python",
   "name": "python3"
  },
  "language_info": {
   "codemirror_mode": {
    "name": "ipython",
    "version": 3
   },
   "file_extension": ".py",
   "mimetype": "text/x-python",
   "name": "python",
   "nbconvert_exporter": "python",
   "pygments_lexer": "ipython3",
   "version": "3.9.18"
  }
 },
 "nbformat": 4,
 "nbformat_minor": 5
}
